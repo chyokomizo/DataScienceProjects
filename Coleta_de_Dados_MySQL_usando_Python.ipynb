{
  "nbformat": 4,
  "nbformat_minor": 0,
  "metadata": {
    "kernelspec": {
      "display_name": "Python 3",
      "language": "python",
      "name": "python3"
    },
    "language_info": {
      "codemirror_mode": {
        "name": "ipython",
        "version": 3
      },
      "file_extension": ".py",
      "mimetype": "text/x-python",
      "name": "python",
      "nbconvert_exporter": "python",
      "pygments_lexer": "ipython3",
      "version": "3.7.1"
    },
    "colab": {
      "name": "Coleta de Dados MySQL usando Python.ipynb",
      "provenance": [],
      "include_colab_link": true
    }
  },
  "cells": [
    {
      "cell_type": "markdown",
      "metadata": {
        "id": "view-in-github",
        "colab_type": "text"
      },
      "source": [
        "<a href=\"https://colab.research.google.com/github/chyokomizo/DataScienceProjects/blob/main/Coleta_de_Dados_MySQL_usando_Python.ipynb\" target=\"_parent\"><img src=\"https://colab.research.google.com/assets/colab-badge.svg\" alt=\"Open In Colab\"/></a>"
      ]
    },
    {
      "cell_type": "markdown",
      "metadata": {
        "id": "zzIHEv27bcRr"
      },
      "source": [
        "#**Coleta de Dados no MySQL utilizando o Python**\n",
        "O programa realiza a conexão com o SGBD MySQL server sem utilizar um banco de dados específico, depois disso cria um banco de dados que será alimentado com um arquivo .csv, que pode ser consultado (*queries*) utilizando comandos na linguagem Python.    "
      ]
    },
    {
      "cell_type": "code",
      "metadata": {
        "id": "2XVlypzhbcRs"
      },
      "source": [
        "#importação do pacote mysql.connector para realizar a conexão com o MySQL\n",
        "import mysql.connector"
      ],
      "execution_count": null,
      "outputs": []
    },
    {
      "cell_type": "markdown",
      "metadata": {
        "id": "6MImiaMSbcRs"
      },
      "source": [
        "###**Conectar ao MySQL Server sem selecionar um banco de dados**"
      ]
    },
    {
      "cell_type": "code",
      "metadata": {
        "id": "QCdTMA6abcRt"
      },
      "source": [
        "mydb = mysql.connector.connect(\n",
        "    host='localhost',\n",
        "    user='root',\n",
        "    password='igti'\n",
        ")\n",
        "\n",
        "print(mydb)\n",
        "\n",
        "mycursor = mydb.cursor()"
      ],
      "execution_count": null,
      "outputs": []
    },
    {
      "cell_type": "code",
      "metadata": {
        "id": "RBV-qszubcRt"
      },
      "source": [
        "#Retorna todos os esquemas criados no servidor de Banco de Dados\n",
        "mycursor.execute(\"SHOW DATABASES\") \n",
        "#Para criar um banco de dados é possível utilizar o comando abaixo\n",
        "#mycursor.execute(\"CREATE DATABASE mydatabase\")\n",
        "\n",
        "for db in mycursor:\n",
        "    print(db)\n"
      ],
      "execution_count": null,
      "outputs": []
    },
    {
      "cell_type": "markdown",
      "metadata": {
        "id": "_ojTQJ2sbcRt"
      },
      "source": [
        "###**Conectar ao MySQL Server selecionando um banco de dados específico**"
      ]
    },
    {
      "cell_type": "code",
      "metadata": {
        "id": "Gk_Cm3w9bcRt"
      },
      "source": [
        "#Criação do Banco de Dados mydb\n",
        "mydb = mysql.connector.connect(\n",
        "    host='localhost',\n",
        "    user='root',\n",
        "    password='igti',\n",
        "    database='bootcamp'\n",
        ")\n",
        "\n",
        "print(mydb)\n",
        "\n",
        "mycursor = mydb.cursor()"
      ],
      "execution_count": null,
      "outputs": []
    },
    {
      "cell_type": "code",
      "metadata": {
        "id": "bF_McCvkbcRt"
      },
      "source": [
        "#Retorna todas as tabelas criados no esquema de Banco de Dados \n",
        "mycursor.execute(\"SHOW TABLES\")\n",
        "\n",
        "for db in mycursor:\n",
        "    print(db)"
      ],
      "execution_count": null,
      "outputs": []
    },
    {
      "cell_type": "code",
      "metadata": {
        "id": "tefOIwqXbcRt"
      },
      "source": [
        "# Inserir dados em uma tabela\n",
        "\n",
        "query = \"INSERT INTO caracteristicasgerais (idcaracteristicasGerais, dsccaracteristicasGerais) VALUES (%s, %s)\"\n",
        "values = (1, \"Portaria 24 horas\")\n",
        "\n",
        "mycursor.execute(query, values)\n",
        "\n",
        "#Fazer a confirmação da inserção\n",
        "mydb.commit()\n",
        "\n",
        "print(mycursor.rowcount, \"registro(s) inserido(s).\")"
      ],
      "execution_count": null,
      "outputs": []
    },
    {
      "cell_type": "code",
      "metadata": {
        "id": "1NoE2NSRbcRt"
      },
      "source": [
        "#Inserindo multiplos valores\n",
        "values = [(2, \"Elevador\"),(3,\"Piscina\")]\n",
        "\n",
        "mycursor.executemany(query, values)\n",
        "\n",
        "mydb.commit()\n",
        "\n",
        "print(mycursor.rowcount, \"registro(s) inserido(s).\")"
      ],
      "execution_count": null,
      "outputs": []
    },
    {
      "cell_type": "code",
      "metadata": {
        "id": "Magl3V_wbcRt"
      },
      "source": [
        "#Consultar a tabela\n",
        "mycursor.execute(\"SELECT * FROM caracteristicasgerais\")\n",
        "\n",
        "myresult = mycursor.fetchall() #mostra todos os registros\n",
        "\n",
        "for mydata in myresult:\n",
        "    print(mydata)"
      ],
      "execution_count": null,
      "outputs": []
    },
    {
      "cell_type": "code",
      "metadata": {
        "id": "Ho7f-nrubcRt"
      },
      "source": [
        "mycursor.execute(\"SELECT idcaracteristicasGerais, dsccaracteristicasGerais FROM caracteristicasgerais\")\n",
        "\n",
        "myresult = mycursor.fetchone() #mostra apenas primeiro registro\n",
        "\n",
        "print(myresult)\n"
      ],
      "execution_count": null,
      "outputs": []
    },
    {
      "cell_type": "markdown",
      "metadata": {
        "id": "GIb-M0OVbcRu"
      },
      "source": [
        "###**Importar pacote csv**"
      ]
    },
    {
      "cell_type": "code",
      "metadata": {
        "id": "8x2r6r3sbcRu"
      },
      "source": [
        "import csv"
      ],
      "execution_count": null,
      "outputs": []
    },
    {
      "cell_type": "code",
      "metadata": {
        "id": "1st_ZBbHbcRu"
      },
      "source": [
        "# Leitura de arquivo .csv sem utilizar a biblioteca Pandas\n",
        "# Conferir se seu arquivo foi salvo no caminho correto\n",
        "\n",
        "filename = 'C:\\users\\Cesar\\CSV\\cidades.csv'\n",
        "\n",
        "#Abrir arquivo e inserir cada linha do arquivo na tabela cidade\n",
        "\n",
        "with open(filename, 'r') as incsvfile:\n",
        "    reader = csv.reader(incsvfile, delimiter=',')\n",
        "    next(reader, None)  # skip the headers\n",
        "    for line in reader:       \n",
        "        mycursor.execute (\"INSERT INTO cidade (CodigoCompletoIBGE, CodigoCidadeIBGE,NomeCidade, CodEstadoIBGE)\\\n",
        "                  VALUES (%s, %s, %s, %s)\",line)        \n",
        "mydb.commit()\n",
        "\n",
        "#db.close()\n",
        "incsvfile.close() #Fechar arquivo"
      ],
      "execution_count": null,
      "outputs": []
    },
    {
      "cell_type": "code",
      "metadata": {
        "id": "PpQ8I5qmbcRu"
      },
      "source": [
        "#Consutar a tabela cidade listando a quantidade de registros existentes nela e ao fim imprimir o resultado (5570).\n",
        "\n",
        "mycursor.execute(\"SELECT count(*) FROM cidade\")\n",
        "myresult = mycursor.fetchone()\n",
        "print(myresult)"
      ],
      "execution_count": null,
      "outputs": []
    },
    {
      "cell_type": "code",
      "metadata": {
        "id": "j1usMywObcRu"
      },
      "source": [
        "mydb.close() #Fechar o banco de dados"
      ],
      "execution_count": null,
      "outputs": []
    }
  ]
}