{
  "nbformat": 4,
  "nbformat_minor": 0,
  "metadata": {
    "application/vnd.databricks.v1+notebook": {
      "notebookName": "desafio_CID",
      "dashboards": [],
      "language": "python",
      "widgets": {},
      "notebookOrigID": 1784785426420916
    },
    "colab": {
      "name": "Análise exploratória do dataset 'healthcare_stroke_data' utilizando Apache Spark e Databricks.ipynb",
      "provenance": [],
      "include_colab_link": true
    }
  },
  "cells": [
    {
      "cell_type": "markdown",
      "metadata": {
        "id": "view-in-github",
        "colab_type": "text"
      },
      "source": [
        "<a href=\"https://colab.research.google.com/github/chyokomizo/DataScienceProjects/blob/main/An%C3%A1lise_explorat%C3%B3ria_do_dataset_'healthcare_stroke_data'_utilizando_Apache_Spark_e_Databricks.ipynb\" target=\"_parent\"><img src=\"https://colab.research.google.com/assets/colab-badge.svg\" alt=\"Open In Colab\"/></a>"
      ]
    },
    {
      "cell_type": "markdown",
      "metadata": {
        "id": "QzyYFjKvo5GA"
      },
      "source": [
        "#**Análise exploratória de Big Data utilizando Apache Spark e Databricks**\n",
        "O seguinte programa utiliza um dataset (healthcare_stroke_data.csv) de pacientes hipertensos e não hipertensos que foram acometidos por infartos. O Databricks (https://databricks.com/) foi utilizado para criação do cluster de processamento do Big Data, juntamente com o framework Apache Spark. "
      ]
    },
    {
      "cell_type": "markdown",
      "metadata": {
        "application/vnd.databricks.v1+cell": {
          "title": "",
          "showTitle": false,
          "inputWidgets": {},
          "nuid": "0f1dc6ff-35cb-4563-b853-60f8c433db10"
        },
        "id": "AOf5C48qoxDR"
      },
      "source": [
        "###**Iniciar a seção SPARK**"
      ]
    },
    {
      "cell_type": "code",
      "metadata": {
        "application/vnd.databricks.v1+cell": {
          "title": "",
          "showTitle": false,
          "inputWidgets": {},
          "nuid": "e10facdd-05be-4cab-b0bc-8e9395ba5bcd"
        },
        "id": "G4Dkzp3joxDR",
        "outputId": "3a92e89a-e413-4d4f-a4bb-ce9af22b72c0"
      },
      "source": [
        "from pyspark.sql import SparkSession #importa a biblioteca que cria a seção do spark\n",
        "from pyspark.ml.evaluation import MulticlassClassificationEvaluator"
      ],
      "execution_count": null,
      "outputs": [
        {
          "output_type": "display_data",
          "data": {
            "text/html": [
              "<style scoped>\n",
              "  .ansiout {\n",
              "    display: block;\n",
              "    unicode-bidi: embed;\n",
              "    white-space: pre-wrap;\n",
              "    word-wrap: break-word;\n",
              "    word-break: break-all;\n",
              "    font-family: \"Source Code Pro\", \"Menlo\", monospace;;\n",
              "    font-size: 13px;\n",
              "    color: #555;\n",
              "    margin-left: 4px;\n",
              "    line-height: 19px;\n",
              "  }\n",
              "</style>\n",
              "<div class=\"ansiout\"></div>"
            ]
          },
          "metadata": {
            "tags": [],
            "application/vnd.databricks.v1+output": {
              "datasetInfos": [],
              "data": "<div class=\"ansiout\"></div>",
              "removedWidgets": [],
              "addedWidgets": {},
              "type": "html",
              "arguments": {}
            }
          }
        }
      ]
    },
    {
      "cell_type": "code",
      "metadata": {
        "application/vnd.databricks.v1+cell": {
          "title": "",
          "showTitle": false,
          "inputWidgets": {},
          "nuid": "90f80c2e-447e-424d-a490-711785bfe83d"
        },
        "id": "NazmqFVeoxDS",
        "outputId": "2e99db29-e1b5-4680-dc01-82d5d54944f9"
      },
      "source": [
        "#inicia a seção para a utilização do spark\n",
        "spark = SparkSession.builder.appName(\"desafio_IGTI\").getOrCreate() #cria a seção caso não exista ou obtém a já criada"
      ],
      "execution_count": null,
      "outputs": [
        {
          "output_type": "display_data",
          "data": {
            "text/html": [
              "<style scoped>\n",
              "  .ansiout {\n",
              "    display: block;\n",
              "    unicode-bidi: embed;\n",
              "    white-space: pre-wrap;\n",
              "    word-wrap: break-word;\n",
              "    word-break: break-all;\n",
              "    font-family: \"Source Code Pro\", \"Menlo\", monospace;;\n",
              "    font-size: 13px;\n",
              "    color: #555;\n",
              "    margin-left: 4px;\n",
              "    line-height: 19px;\n",
              "  }\n",
              "</style>\n",
              "<div class=\"ansiout\"></div>"
            ]
          },
          "metadata": {
            "tags": [],
            "application/vnd.databricks.v1+output": {
              "datasetInfos": [],
              "data": "<div class=\"ansiout\"></div>",
              "removedWidgets": [],
              "addedWidgets": {},
              "type": "html",
              "arguments": {}
            }
          }
        }
      ]
    },
    {
      "cell_type": "code",
      "metadata": {
        "application/vnd.databricks.v1+cell": {
          "title": "",
          "showTitle": false,
          "inputWidgets": {},
          "nuid": "ee0a9c25-1bc6-43c4-acd9-4efc0e526712"
        },
        "id": "QDmnotQDoxDS",
        "outputId": "0d1ab7b4-43cb-40fb-f8d6-b24895a0aa63"
      },
      "source": [
        "%fs ls /FileStore/tables   "
      ],
      "execution_count": null,
      "outputs": [
        {
          "output_type": "display_data",
          "data": {
            "text/html": [
              "<style scoped>\n",
              "  .table-result-container {\n",
              "    max-height: 300px;\n",
              "    overflow: auto;\n",
              "  }\n",
              "  table, th, td {\n",
              "    border: 1px solid black;\n",
              "    border-collapse: collapse;\n",
              "  }\n",
              "  th, td {\n",
              "    padding: 5px;\n",
              "  }\n",
              "  th {\n",
              "    text-align: left;\n",
              "  }\n",
              "</style><div class='table-result-container'><table class='table-result'><thead style='background-color: white'><tr><th>path</th><th>name</th><th>size</th></tr></thead><tbody><tr><td>dbfs:/FileStore/tables/77_cancer_proteomes_CPTAC_itraq.csv</td><td>77_cancer_proteomes_CPTAC_itraq.csv</td><td>12415390</td></tr><tr><td>dbfs:/FileStore/tables/Mall_Customers-1.csv</td><td>Mall_Customers-1.csv</td><td>4286</td></tr><tr><td>dbfs:/FileStore/tables/Mall_Customers-2.csv</td><td>Mall_Customers-2.csv</td><td>4286</td></tr><tr><td>dbfs:/FileStore/tables/Mall_Customers-3.csv</td><td>Mall_Customers-3.csv</td><td>4286</td></tr><tr><td>dbfs:/FileStore/tables/Mall_Customers-4.csv</td><td>Mall_Customers-4.csv</td><td>4286</td></tr><tr><td>dbfs:/FileStore/tables/Mall_Customers.csv</td><td>Mall_Customers.csv</td><td>4286</td></tr><tr><td>dbfs:/FileStore/tables/healthcare_dataset_stroke_data-1.csv</td><td>healthcare_dataset_stroke_data-1.csv</td><td>316971</td></tr><tr><td>dbfs:/FileStore/tables/healthcare_dataset_stroke_data-2.csv</td><td>healthcare_dataset_stroke_data-2.csv</td><td>316971</td></tr><tr><td>dbfs:/FileStore/tables/healthcare_dataset_stroke_data-3.csv</td><td>healthcare_dataset_stroke_data-3.csv</td><td>316971</td></tr><tr><td>dbfs:/FileStore/tables/healthcare_dataset_stroke_data-4.csv</td><td>healthcare_dataset_stroke_data-4.csv</td><td>316971</td></tr><tr><td>dbfs:/FileStore/tables/healthcare_dataset_stroke_data-5.csv</td><td>healthcare_dataset_stroke_data-5.csv</td><td>316971</td></tr><tr><td>dbfs:/FileStore/tables/healthcare_dataset_stroke_data-6.csv</td><td>healthcare_dataset_stroke_data-6.csv</td><td>316971</td></tr><tr><td>dbfs:/FileStore/tables/healthcare_dataset_stroke_data.csv</td><td>healthcare_dataset_stroke_data.csv</td><td>316971</td></tr></tbody></table></div>"
            ]
          },
          "metadata": {
            "tags": [],
            "application/vnd.databricks.v1+output": {
              "overflow": false,
              "datasetInfos": [],
              "data": [
                [
                  "dbfs:/FileStore/tables/77_cancer_proteomes_CPTAC_itraq.csv",
                  "77_cancer_proteomes_CPTAC_itraq.csv",
                  12415390
                ],
                [
                  "dbfs:/FileStore/tables/Mall_Customers-1.csv",
                  "Mall_Customers-1.csv",
                  4286
                ],
                [
                  "dbfs:/FileStore/tables/Mall_Customers-2.csv",
                  "Mall_Customers-2.csv",
                  4286
                ],
                [
                  "dbfs:/FileStore/tables/Mall_Customers-3.csv",
                  "Mall_Customers-3.csv",
                  4286
                ],
                [
                  "dbfs:/FileStore/tables/Mall_Customers-4.csv",
                  "Mall_Customers-4.csv",
                  4286
                ],
                [
                  "dbfs:/FileStore/tables/Mall_Customers.csv",
                  "Mall_Customers.csv",
                  4286
                ],
                [
                  "dbfs:/FileStore/tables/healthcare_dataset_stroke_data-1.csv",
                  "healthcare_dataset_stroke_data-1.csv",
                  316971
                ],
                [
                  "dbfs:/FileStore/tables/healthcare_dataset_stroke_data-2.csv",
                  "healthcare_dataset_stroke_data-2.csv",
                  316971
                ],
                [
                  "dbfs:/FileStore/tables/healthcare_dataset_stroke_data-3.csv",
                  "healthcare_dataset_stroke_data-3.csv",
                  316971
                ],
                [
                  "dbfs:/FileStore/tables/healthcare_dataset_stroke_data-4.csv",
                  "healthcare_dataset_stroke_data-4.csv",
                  316971
                ],
                [
                  "dbfs:/FileStore/tables/healthcare_dataset_stroke_data-5.csv",
                  "healthcare_dataset_stroke_data-5.csv",
                  316971
                ],
                [
                  "dbfs:/FileStore/tables/healthcare_dataset_stroke_data-6.csv",
                  "healthcare_dataset_stroke_data-6.csv",
                  316971
                ],
                [
                  "dbfs:/FileStore/tables/healthcare_dataset_stroke_data.csv",
                  "healthcare_dataset_stroke_data.csv",
                  316971
                ]
              ],
              "plotOptions": {
                "displayType": "table",
                "customPlotOptions": {},
                "pivotColumns": [],
                "pivotAggregation": null,
                "xColumns": [],
                "yColumns": []
              },
              "columnCustomDisplayInfos": {},
              "aggType": "",
              "isJsonSchema": true,
              "removedWidgets": [],
              "aggSchema": [],
              "schema": [
                {
                  "name": "path",
                  "type": "\"string\"",
                  "metadata": "{}"
                },
                {
                  "name": "name",
                  "type": "\"string\"",
                  "metadata": "{}"
                },
                {
                  "name": "size",
                  "type": "\"long\"",
                  "metadata": "{}"
                }
              ],
              "aggError": "",
              "aggData": [],
              "addedWidgets": {},
              "dbfsResultPath": null,
              "type": "table",
              "aggOverflow": false,
              "aggSeriesLimitReached": false,
              "arguments": {}
            }
          }
        }
      ]
    },
    {
      "cell_type": "code",
      "metadata": {
        "application/vnd.databricks.v1+cell": {
          "title": "",
          "showTitle": false,
          "inputWidgets": {},
          "nuid": "205f2c32-606c-4aec-9769-9bb59a740236"
        },
        "id": "3BGSQDnhoxDS",
        "outputId": "778485a5-32a7-4c5e-8035-ed16f69def20"
      },
      "source": [
        "diretorio_dataset=\"/FileStore/tables/healthcare_dataset_stroke_data.csv\"  #diretório que contém o arquivo a ser utilizado"
      ],
      "execution_count": null,
      "outputs": [
        {
          "output_type": "display_data",
          "data": {
            "text/html": [
              "<style scoped>\n",
              "  .ansiout {\n",
              "    display: block;\n",
              "    unicode-bidi: embed;\n",
              "    white-space: pre-wrap;\n",
              "    word-wrap: break-word;\n",
              "    word-break: break-all;\n",
              "    font-family: \"Source Code Pro\", \"Menlo\", monospace;;\n",
              "    font-size: 13px;\n",
              "    color: #555;\n",
              "    margin-left: 4px;\n",
              "    line-height: 19px;\n",
              "  }\n",
              "</style>\n",
              "<div class=\"ansiout\"></div>"
            ]
          },
          "metadata": {
            "tags": [],
            "application/vnd.databricks.v1+output": {
              "datasetInfos": [],
              "data": "<div class=\"ansiout\"></div>",
              "removedWidgets": [],
              "addedWidgets": {},
              "type": "html",
              "arguments": {}
            }
          }
        }
      ]
    },
    {
      "cell_type": "code",
      "metadata": {
        "application/vnd.databricks.v1+cell": {
          "title": "",
          "showTitle": false,
          "inputWidgets": {},
          "nuid": "c5a8ba4c-e355-43a5-a38e-ff857d9634a5"
        },
        "id": "vqaB-jzHoxDS",
        "outputId": "69965ac2-570b-40e2-afe4-0b78bdcde540"
      },
      "source": [
        "dataset_desafio = spark.read.format(\"csv\").options(header=\"true\", inferschema=\"true\").load(diretorio_dataset)  #realiza a leitura do dataset"
      ],
      "execution_count": null,
      "outputs": [
        {
          "output_type": "display_data",
          "data": {
            "text/html": [
              "<style scoped>\n",
              "  .ansiout {\n",
              "    display: block;\n",
              "    unicode-bidi: embed;\n",
              "    white-space: pre-wrap;\n",
              "    word-wrap: break-word;\n",
              "    word-break: break-all;\n",
              "    font-family: \"Source Code Pro\", \"Menlo\", monospace;;\n",
              "    font-size: 13px;\n",
              "    color: #555;\n",
              "    margin-left: 4px;\n",
              "    line-height: 19px;\n",
              "  }\n",
              "</style>\n",
              "<div class=\"ansiout\"></div>"
            ]
          },
          "metadata": {
            "tags": [],
            "application/vnd.databricks.v1+output": {
              "datasetInfos": [
                {
                  "name": "dataset_desafio",
                  "typeStr": "pyspark.sql.dataframe.DataFrame",
                  "schema": {
                    "fields": [
                      {
                        "metadata": {},
                        "name": "id",
                        "nullable": true,
                        "type": "integer"
                      },
                      {
                        "metadata": {},
                        "name": "gender",
                        "nullable": true,
                        "type": "string"
                      },
                      {
                        "metadata": {},
                        "name": "age",
                        "nullable": true,
                        "type": "double"
                      },
                      {
                        "metadata": {},
                        "name": "hypertension",
                        "nullable": true,
                        "type": "integer"
                      },
                      {
                        "metadata": {},
                        "name": "heart_disease",
                        "nullable": true,
                        "type": "integer"
                      },
                      {
                        "metadata": {},
                        "name": "ever_married",
                        "nullable": true,
                        "type": "string"
                      },
                      {
                        "metadata": {},
                        "name": "work_type",
                        "nullable": true,
                        "type": "string"
                      },
                      {
                        "metadata": {},
                        "name": "Residence_type",
                        "nullable": true,
                        "type": "string"
                      },
                      {
                        "metadata": {},
                        "name": "avg_glucose_level",
                        "nullable": true,
                        "type": "double"
                      },
                      {
                        "metadata": {},
                        "name": "bmi",
                        "nullable": true,
                        "type": "string"
                      },
                      {
                        "metadata": {},
                        "name": "smoking_status",
                        "nullable": true,
                        "type": "string"
                      },
                      {
                        "metadata": {},
                        "name": "stroke",
                        "nullable": true,
                        "type": "integer"
                      }
                    ],
                    "type": "struct"
                  },
                  "tableIdentifier": null
                }
              ],
              "data": "<div class=\"ansiout\"></div>",
              "removedWidgets": [],
              "addedWidgets": {},
              "type": "html",
              "arguments": {}
            }
          }
        }
      ]
    },
    {
      "cell_type": "code",
      "metadata": {
        "application/vnd.databricks.v1+cell": {
          "title": "",
          "showTitle": false,
          "inputWidgets": {},
          "nuid": "b6e80ddf-452c-457e-8280-b2f78cffa1cd"
        },
        "id": "SSkaVcgyoxDS",
        "outputId": "419cfa18-2b80-48c8-a148-6ea18692976e"
      },
      "source": [
        "dataset_desafio.printSchema() #mostra o esquema inferido pelas variáveis"
      ],
      "execution_count": null,
      "outputs": [
        {
          "output_type": "display_data",
          "data": {
            "text/html": [
              "<style scoped>\n",
              "  .ansiout {\n",
              "    display: block;\n",
              "    unicode-bidi: embed;\n",
              "    white-space: pre-wrap;\n",
              "    word-wrap: break-word;\n",
              "    word-break: break-all;\n",
              "    font-family: \"Source Code Pro\", \"Menlo\", monospace;;\n",
              "    font-size: 13px;\n",
              "    color: #555;\n",
              "    margin-left: 4px;\n",
              "    line-height: 19px;\n",
              "  }\n",
              "</style>\n",
              "<div class=\"ansiout\">root\n",
              "-- id: integer (nullable = true)\n",
              "-- gender: string (nullable = true)\n",
              "-- age: double (nullable = true)\n",
              "-- hypertension: integer (nullable = true)\n",
              "-- heart_disease: integer (nullable = true)\n",
              "-- ever_married: string (nullable = true)\n",
              "-- work_type: string (nullable = true)\n",
              "-- Residence_type: string (nullable = true)\n",
              "-- avg_glucose_level: double (nullable = true)\n",
              "-- bmi: string (nullable = true)\n",
              "-- smoking_status: string (nullable = true)\n",
              "-- stroke: integer (nullable = true)\n",
              "\n",
              "</div>"
            ]
          },
          "metadata": {
            "tags": [],
            "application/vnd.databricks.v1+output": {
              "datasetInfos": [],
              "data": "<div class=\"ansiout\">root\n |-- id: integer (nullable = true)\n |-- gender: string (nullable = true)\n |-- age: double (nullable = true)\n |-- hypertension: integer (nullable = true)\n |-- heart_disease: integer (nullable = true)\n |-- ever_married: string (nullable = true)\n |-- work_type: string (nullable = true)\n |-- Residence_type: string (nullable = true)\n |-- avg_glucose_level: double (nullable = true)\n |-- bmi: string (nullable = true)\n |-- smoking_status: string (nullable = true)\n |-- stroke: integer (nullable = true)\n\n</div>",
              "removedWidgets": [],
              "addedWidgets": {},
              "type": "html",
              "arguments": {}
            }
          }
        }
      ]
    },
    {
      "cell_type": "markdown",
      "metadata": {
        "application/vnd.databricks.v1+cell": {
          "title": "",
          "showTitle": false,
          "inputWidgets": {},
          "nuid": "93ed8891-af3c-4b18-9d81-4432860eabe8"
        },
        "id": "dxuJ_gLaoxDS"
      },
      "source": [
        "###**Número de instâncias (linhas) do dataset**"
      ]
    },
    {
      "cell_type": "code",
      "metadata": {
        "application/vnd.databricks.v1+cell": {
          "title": "",
          "showTitle": false,
          "inputWidgets": {},
          "nuid": "500fa1f5-8ee6-4394-b02c-7e9483b593bd"
        },
        "id": "fAMhrYF7oxDS",
        "outputId": "61540851-2b59-4b09-ede3-d6fa87043583"
      },
      "source": [
        "#número de instancias no dataset\n",
        "dataset_desafio.count()"
      ],
      "execution_count": null,
      "outputs": [
        {
          "output_type": "display_data",
          "data": {
            "text/html": [
              "<style scoped>\n",
              "  .ansiout {\n",
              "    display: block;\n",
              "    unicode-bidi: embed;\n",
              "    white-space: pre-wrap;\n",
              "    word-wrap: break-word;\n",
              "    word-break: break-all;\n",
              "    font-family: \"Source Code Pro\", \"Menlo\", monospace;;\n",
              "    font-size: 13px;\n",
              "    color: #555;\n",
              "    margin-left: 4px;\n",
              "    line-height: 19px;\n",
              "  }\n",
              "</style>\n",
              "<div class=\"ansiout\">Out[6]: 5110</div>"
            ]
          },
          "metadata": {
            "tags": [],
            "application/vnd.databricks.v1+output": {
              "datasetInfos": [],
              "data": "<div class=\"ansiout\">Out[6]: 5110</div>",
              "removedWidgets": [],
              "addedWidgets": {},
              "type": "html",
              "arguments": {}
            }
          }
        }
      ]
    },
    {
      "cell_type": "markdown",
      "metadata": {
        "application/vnd.databricks.v1+cell": {
          "title": "",
          "showTitle": false,
          "inputWidgets": {},
          "nuid": "b2d5c8ed-ea55-486b-8c9c-0c0ad3fd0f1a"
        },
        "id": "jzkvPoPzoxDS"
      },
      "source": [
        "###**Instâncias e atributos (features) do dataset**"
      ]
    },
    {
      "cell_type": "code",
      "metadata": {
        "application/vnd.databricks.v1+cell": {
          "title": "",
          "showTitle": false,
          "inputWidgets": {},
          "nuid": "7860b13c-a10b-4e62-948d-627ddd084ace"
        },
        "id": "tzJ6h1unoxDS",
        "outputId": "acef6f18-6a65-4057-8d83-13a71f8084d8"
      },
      "source": [
        "dataset_desafio.show() #mostra as linhas iniciais do dataset"
      ],
      "execution_count": null,
      "outputs": [
        {
          "output_type": "display_data",
          "data": {
            "text/html": [
              "<style scoped>\n",
              "  .ansiout {\n",
              "    display: block;\n",
              "    unicode-bidi: embed;\n",
              "    white-space: pre-wrap;\n",
              "    word-wrap: break-word;\n",
              "    word-break: break-all;\n",
              "    font-family: \"Source Code Pro\", \"Menlo\", monospace;;\n",
              "    font-size: 13px;\n",
              "    color: #555;\n",
              "    margin-left: 4px;\n",
              "    line-height: 19px;\n",
              "  }\n",
              "</style>\n",
              "<div class=\"ansiout\">+-----+------+----+------------+-------------+------------+-------------+--------------+-----------------+----+---------------+------+\n",
              "   id|gender| age|hypertension|heart_disease|ever_married|    work_type|Residence_type|avg_glucose_level| bmi| smoking_status|stroke|\n",
              "+-----+------+----+------------+-------------+------------+-------------+--------------+-----------------+----+---------------+------+\n",
              " 9046|  Male|67.0|           0|            1|         Yes|      Private|         Urban|           228.69|36.6|formerly smoked|     1|\n",
              "51676|Female|61.0|           0|            0|         Yes|Self-employed|         Rural|           202.21| N/A|   never smoked|     1|\n",
              "31112|  Male|80.0|           0|            1|         Yes|      Private|         Rural|           105.92|32.5|   never smoked|     1|\n",
              "60182|Female|49.0|           0|            0|         Yes|      Private|         Urban|           171.23|34.4|         smokes|     1|\n",
              " 1665|Female|79.0|           1|            0|         Yes|Self-employed|         Rural|           174.12|  24|   never smoked|     1|\n",
              "56669|  Male|81.0|           0|            0|         Yes|      Private|         Urban|           186.21|  29|formerly smoked|     1|\n",
              "53882|  Male|74.0|           1|            1|         Yes|      Private|         Rural|            70.09|27.4|   never smoked|     1|\n",
              "10434|Female|69.0|           0|            0|          No|      Private|         Urban|            94.39|22.8|   never smoked|     1|\n",
              "27419|Female|59.0|           0|            0|         Yes|      Private|         Rural|            76.15| N/A|        Unknown|     1|\n",
              "60491|Female|78.0|           0|            0|         Yes|      Private|         Urban|            58.57|24.2|        Unknown|     1|\n",
              "12109|Female|81.0|           1|            0|         Yes|      Private|         Rural|            80.43|29.7|   never smoked|     1|\n",
              "12095|Female|61.0|           0|            1|         Yes|     Govt_job|         Rural|           120.46|36.8|         smokes|     1|\n",
              "12175|Female|54.0|           0|            0|         Yes|      Private|         Urban|           104.51|27.3|         smokes|     1|\n",
              " 8213|  Male|78.0|           0|            1|         Yes|      Private|         Urban|           219.84| N/A|        Unknown|     1|\n",
              " 5317|Female|79.0|           0|            1|         Yes|      Private|         Urban|           214.09|28.2|   never smoked|     1|\n",
              "58202|Female|50.0|           1|            0|         Yes|Self-employed|         Rural|           167.41|30.9|   never smoked|     1|\n",
              "56112|  Male|64.0|           0|            1|         Yes|      Private|         Urban|           191.61|37.5|         smokes|     1|\n",
              "34120|  Male|75.0|           1|            0|         Yes|      Private|         Urban|           221.29|25.8|         smokes|     1|\n",
              "27458|Female|60.0|           0|            0|          No|      Private|         Urban|            89.22|37.8|   never smoked|     1|\n",
              "25226|  Male|57.0|           0|            1|          No|     Govt_job|         Urban|           217.08| N/A|        Unknown|     1|\n",
              "+-----+------+----+------------+-------------+------------+-------------+--------------+-----------------+----+---------------+------+\n",
              "only showing top 20 rows\n",
              "\n",
              "</div>"
            ]
          },
          "metadata": {
            "tags": [],
            "application/vnd.databricks.v1+output": {
              "datasetInfos": [],
              "data": "<div class=\"ansiout\">+-----+------+----+------------+-------------+------------+-------------+--------------+-----------------+----+---------------+------+\n|   id|gender| age|hypertension|heart_disease|ever_married|    work_type|Residence_type|avg_glucose_level| bmi| smoking_status|stroke|\n+-----+------+----+------------+-------------+------------+-------------+--------------+-----------------+----+---------------+------+\n| 9046|  Male|67.0|           0|            1|         Yes|      Private|         Urban|           228.69|36.6|formerly smoked|     1|\n|51676|Female|61.0|           0|            0|         Yes|Self-employed|         Rural|           202.21| N/A|   never smoked|     1|\n|31112|  Male|80.0|           0|            1|         Yes|      Private|         Rural|           105.92|32.5|   never smoked|     1|\n|60182|Female|49.0|           0|            0|         Yes|      Private|         Urban|           171.23|34.4|         smokes|     1|\n| 1665|Female|79.0|           1|            0|         Yes|Self-employed|         Rural|           174.12|  24|   never smoked|     1|\n|56669|  Male|81.0|           0|            0|         Yes|      Private|         Urban|           186.21|  29|formerly smoked|     1|\n|53882|  Male|74.0|           1|            1|         Yes|      Private|         Rural|            70.09|27.4|   never smoked|     1|\n|10434|Female|69.0|           0|            0|          No|      Private|         Urban|            94.39|22.8|   never smoked|     1|\n|27419|Female|59.0|           0|            0|         Yes|      Private|         Rural|            76.15| N/A|        Unknown|     1|\n|60491|Female|78.0|           0|            0|         Yes|      Private|         Urban|            58.57|24.2|        Unknown|     1|\n|12109|Female|81.0|           1|            0|         Yes|      Private|         Rural|            80.43|29.7|   never smoked|     1|\n|12095|Female|61.0|           0|            1|         Yes|     Govt_job|         Rural|           120.46|36.8|         smokes|     1|\n|12175|Female|54.0|           0|            0|         Yes|      Private|         Urban|           104.51|27.3|         smokes|     1|\n| 8213|  Male|78.0|           0|            1|         Yes|      Private|         Urban|           219.84| N/A|        Unknown|     1|\n| 5317|Female|79.0|           0|            1|         Yes|      Private|         Urban|           214.09|28.2|   never smoked|     1|\n|58202|Female|50.0|           1|            0|         Yes|Self-employed|         Rural|           167.41|30.9|   never smoked|     1|\n|56112|  Male|64.0|           0|            1|         Yes|      Private|         Urban|           191.61|37.5|         smokes|     1|\n|34120|  Male|75.0|           1|            0|         Yes|      Private|         Urban|           221.29|25.8|         smokes|     1|\n|27458|Female|60.0|           0|            0|          No|      Private|         Urban|            89.22|37.8|   never smoked|     1|\n|25226|  Male|57.0|           0|            1|          No|     Govt_job|         Urban|           217.08| N/A|        Unknown|     1|\n+-----+------+----+------------+-------------+------------+-------------+--------------+-----------------+----+---------------+------+\nonly showing top 20 rows\n\n</div>",
              "removedWidgets": [],
              "addedWidgets": {},
              "type": "html",
              "arguments": {}
            }
          }
        }
      ]
    },
    {
      "cell_type": "markdown",
      "metadata": {
        "application/vnd.databricks.v1+cell": {
          "title": "",
          "showTitle": false,
          "inputWidgets": {},
          "nuid": "64427bed-d0ea-4237-9d6e-ef82e02c88fd"
        },
        "id": "qKRzNkaDoxDT"
      },
      "source": [
        "###**Conhecendo o dataset**"
      ]
    },
    {
      "cell_type": "code",
      "metadata": {
        "application/vnd.databricks.v1+cell": {
          "title": "",
          "showTitle": false,
          "inputWidgets": {},
          "nuid": "9feee86d-3d92-4d98-a541-ec4bcc31897b"
        },
        "id": "3cFxrlNjoxDT",
        "outputId": "d9b881de-328d-446a-c9fb-1288806a3aae"
      },
      "source": [
        "#seleção de colunas\n",
        "dataset_desafio.select('age','hypertension').show(5)"
      ],
      "execution_count": null,
      "outputs": [
        {
          "output_type": "display_data",
          "data": {
            "text/html": [
              "<style scoped>\n",
              "  .ansiout {\n",
              "    display: block;\n",
              "    unicode-bidi: embed;\n",
              "    white-space: pre-wrap;\n",
              "    word-wrap: break-word;\n",
              "    word-break: break-all;\n",
              "    font-family: \"Source Code Pro\", \"Menlo\", monospace;;\n",
              "    font-size: 13px;\n",
              "    color: #555;\n",
              "    margin-left: 4px;\n",
              "    line-height: 19px;\n",
              "  }\n",
              "</style>\n",
              "<div class=\"ansiout\">+----+------------+\n",
              " age|hypertension|\n",
              "+----+------------+\n",
              "67.0|           0|\n",
              "61.0|           0|\n",
              "80.0|           0|\n",
              "49.0|           0|\n",
              "79.0|           1|\n",
              "+----+------------+\n",
              "only showing top 5 rows\n",
              "\n",
              "</div>"
            ]
          },
          "metadata": {
            "tags": [],
            "application/vnd.databricks.v1+output": {
              "datasetInfos": [],
              "data": "<div class=\"ansiout\">+----+------------+\n| age|hypertension|\n+----+------------+\n|67.0|           0|\n|61.0|           0|\n|80.0|           0|\n|49.0|           0|\n|79.0|           1|\n+----+------------+\nonly showing top 5 rows\n\n</div>",
              "removedWidgets": [],
              "addedWidgets": {},
              "type": "html",
              "arguments": {}
            }
          }
        }
      ]
    },
    {
      "cell_type": "code",
      "metadata": {
        "application/vnd.databricks.v1+cell": {
          "title": "",
          "showTitle": false,
          "inputWidgets": {},
          "nuid": "25c79b73-c511-42bf-af14-a062c70ddbc3"
        },
        "id": "GRrCGnRGoxDT",
        "outputId": "c2c262ab-ca8c-4dca-953e-baaca3f33a67"
      },
      "source": [
        "#agrupando os dados\n",
        "display(dataset_desafio.groupby('gender','stroke').count().sort(\"count\",ascending=True))"
      ],
      "execution_count": null,
      "outputs": [
        {
          "output_type": "display_data",
          "data": {
            "text/html": [
              "<style scoped>\n",
              "  .table-result-container {\n",
              "    max-height: 300px;\n",
              "    overflow: auto;\n",
              "  }\n",
              "  table, th, td {\n",
              "    border: 1px solid black;\n",
              "    border-collapse: collapse;\n",
              "  }\n",
              "  th, td {\n",
              "    padding: 5px;\n",
              "  }\n",
              "  th {\n",
              "    text-align: left;\n",
              "  }\n",
              "</style><div class='table-result-container'><table class='table-result'><thead style='background-color: white'><tr><th>gender</th><th>stroke</th><th>count</th></tr></thead><tbody><tr><td>Other</td><td>0</td><td>1</td></tr><tr><td>Male</td><td>1</td><td>108</td></tr><tr><td>Female</td><td>1</td><td>141</td></tr><tr><td>Male</td><td>0</td><td>2007</td></tr><tr><td>Female</td><td>0</td><td>2853</td></tr></tbody></table></div>"
            ]
          },
          "metadata": {
            "tags": [],
            "application/vnd.databricks.v1+output": {
              "overflow": false,
              "datasetInfos": [],
              "data": [
                [
                  "Other",
                  0,
                  1
                ],
                [
                  "Male",
                  1,
                  108
                ],
                [
                  "Female",
                  1,
                  141
                ],
                [
                  "Male",
                  0,
                  2007
                ],
                [
                  "Female",
                  0,
                  2853
                ]
              ],
              "plotOptions": {
                "displayType": "plotlyBar",
                "customPlotOptions": {
                  "plotlyBar": [
                    {
                      "key": "grouped",
                      "value": true
                    },
                    {
                      "key": "stacked",
                      "value": false
                    },
                    {
                      "key": "100_stacked",
                      "value": false
                    }
                  ]
                },
                "pivotColumns": [
                  "stroke"
                ],
                "pivotAggregation": "sum",
                "xColumns": [
                  "gender"
                ],
                "yColumns": [
                  "count"
                ]
              },
              "columnCustomDisplayInfos": {},
              "aggType": "",
              "isJsonSchema": true,
              "removedWidgets": [],
              "aggSchema": [],
              "schema": [
                {
                  "name": "gender",
                  "type": "\"string\"",
                  "metadata": "{}"
                },
                {
                  "name": "stroke",
                  "type": "\"integer\"",
                  "metadata": "{}"
                },
                {
                  "name": "count",
                  "type": "\"long\"",
                  "metadata": "{}"
                }
              ],
              "aggError": "",
              "aggData": [],
              "addedWidgets": {},
              "dbfsResultPath": null,
              "type": "table",
              "aggOverflow": false,
              "aggSeriesLimitReached": false,
              "arguments": {}
            }
          }
        }
      ]
    },
    {
      "cell_type": "markdown",
      "metadata": {
        "application/vnd.databricks.v1+cell": {
          "title": "",
          "showTitle": false,
          "inputWidgets": {},
          "nuid": "34a52140-c765-4b76-a58b-923fa729f857"
        },
        "id": "X8_IEUasoxDT"
      },
      "source": [
        "###**Agrupando atributos**"
      ]
    },
    {
      "cell_type": "code",
      "metadata": {
        "application/vnd.databricks.v1+cell": {
          "title": "",
          "showTitle": false,
          "inputWidgets": {},
          "nuid": "6f822d50-2d5c-4135-b67b-2eafecbbd062"
        },
        "id": "usQEo4BVoxDT",
        "outputId": "07bbde7a-14c3-4f99-8eed-a552ae72b833"
      },
      "source": [
        "#agrupando os dados\n",
        "display(dataset_desafio.groupby('smoking_status','stroke').count().sort(\"count\",ascending=True))"
      ],
      "execution_count": null,
      "outputs": [
        {
          "output_type": "display_data",
          "data": {
            "text/html": [
              "<style scoped>\n",
              "  .table-result-container {\n",
              "    max-height: 300px;\n",
              "    overflow: auto;\n",
              "  }\n",
              "  table, th, td {\n",
              "    border: 1px solid black;\n",
              "    border-collapse: collapse;\n",
              "  }\n",
              "  th, td {\n",
              "    padding: 5px;\n",
              "  }\n",
              "  th {\n",
              "    text-align: left;\n",
              "  }\n",
              "</style><div class='table-result-container'><table class='table-result'><thead style='background-color: white'><tr><th>smoking_status</th><th>stroke</th><th>count</th></tr></thead><tbody><tr><td>smokes</td><td>1</td><td>42</td></tr><tr><td>Unknown</td><td>1</td><td>47</td></tr><tr><td>formerly smoked</td><td>1</td><td>70</td></tr><tr><td>never smoked</td><td>1</td><td>90</td></tr><tr><td>smokes</td><td>0</td><td>747</td></tr><tr><td>formerly smoked</td><td>0</td><td>815</td></tr><tr><td>Unknown</td><td>0</td><td>1497</td></tr><tr><td>never smoked</td><td>0</td><td>1802</td></tr></tbody></table></div>"
            ]
          },
          "metadata": {
            "tags": [],
            "application/vnd.databricks.v1+output": {
              "overflow": false,
              "datasetInfos": [],
              "data": [
                [
                  "smokes",
                  1,
                  42
                ],
                [
                  "Unknown",
                  1,
                  47
                ],
                [
                  "formerly smoked",
                  1,
                  70
                ],
                [
                  "never smoked",
                  1,
                  90
                ],
                [
                  "smokes",
                  0,
                  747
                ],
                [
                  "formerly smoked",
                  0,
                  815
                ],
                [
                  "Unknown",
                  0,
                  1497
                ],
                [
                  "never smoked",
                  0,
                  1802
                ]
              ],
              "plotOptions": {
                "displayType": "plotlyBar",
                "customPlotOptions": {
                  "plotlyBar": [
                    {
                      "key": "grouped",
                      "value": true
                    },
                    {
                      "key": "stacked",
                      "value": false
                    },
                    {
                      "key": "100_stacked",
                      "value": false
                    }
                  ]
                },
                "pivotColumns": [
                  "stroke"
                ],
                "pivotAggregation": "sum",
                "xColumns": [
                  "smoking_status"
                ],
                "yColumns": [
                  "count"
                ]
              },
              "columnCustomDisplayInfos": {},
              "aggType": "",
              "isJsonSchema": true,
              "removedWidgets": [],
              "aggSchema": [],
              "schema": [
                {
                  "name": "smoking_status",
                  "type": "\"string\"",
                  "metadata": "{}"
                },
                {
                  "name": "stroke",
                  "type": "\"integer\"",
                  "metadata": "{}"
                },
                {
                  "name": "count",
                  "type": "\"long\"",
                  "metadata": "{}"
                }
              ],
              "aggError": "",
              "aggData": [],
              "addedWidgets": {},
              "dbfsResultPath": null,
              "type": "table",
              "aggOverflow": false,
              "aggSeriesLimitReached": false,
              "arguments": {}
            }
          }
        }
      ]
    },
    {
      "cell_type": "code",
      "metadata": {
        "application/vnd.databricks.v1+cell": {
          "title": "",
          "showTitle": false,
          "inputWidgets": {},
          "nuid": "0d183300-5b9b-457a-ab9a-1ff4260a4b05"
        },
        "id": "l252kN5eoxDT",
        "outputId": "be6368bb-71c3-45b5-97db-c6c3d1f811ec"
      },
      "source": [
        "#agrupando os dados\n",
        "display(dataset_desafio.groupby('hypertension','stroke').count().sort(\"count\",ascending=True))"
      ],
      "execution_count": null,
      "outputs": [
        {
          "output_type": "display_data",
          "data": {
            "text/html": [
              "<style scoped>\n",
              "  .table-result-container {\n",
              "    max-height: 300px;\n",
              "    overflow: auto;\n",
              "  }\n",
              "  table, th, td {\n",
              "    border: 1px solid black;\n",
              "    border-collapse: collapse;\n",
              "  }\n",
              "  th, td {\n",
              "    padding: 5px;\n",
              "  }\n",
              "  th {\n",
              "    text-align: left;\n",
              "  }\n",
              "</style><div class='table-result-container'><table class='table-result'><thead style='background-color: white'><tr><th>hypertension</th><th>stroke</th><th>count</th></tr></thead><tbody><tr><td>1</td><td>1</td><td>66</td></tr><tr><td>0</td><td>1</td><td>183</td></tr><tr><td>1</td><td>0</td><td>432</td></tr><tr><td>0</td><td>0</td><td>4429</td></tr></tbody></table></div>"
            ]
          },
          "metadata": {
            "tags": [],
            "application/vnd.databricks.v1+output": {
              "overflow": false,
              "datasetInfos": [],
              "data": [
                [
                  1,
                  1,
                  66
                ],
                [
                  0,
                  1,
                  183
                ],
                [
                  1,
                  0,
                  432
                ],
                [
                  0,
                  0,
                  4429
                ]
              ],
              "plotOptions": {
                "displayType": "plotlyBar",
                "customPlotOptions": {
                  "plotlyBar": [
                    {
                      "key": "grouped",
                      "value": true
                    },
                    {
                      "key": "stacked",
                      "value": false
                    },
                    {
                      "key": "100_stacked",
                      "value": false
                    }
                  ]
                },
                "pivotColumns": [
                  "stroke"
                ],
                "pivotAggregation": "sum",
                "xColumns": [
                  "hypertension"
                ],
                "yColumns": [
                  "count"
                ]
              },
              "columnCustomDisplayInfos": {},
              "aggType": "",
              "isJsonSchema": true,
              "removedWidgets": [],
              "aggSchema": [],
              "schema": [
                {
                  "name": "hypertension",
                  "type": "\"integer\"",
                  "metadata": "{}"
                },
                {
                  "name": "stroke",
                  "type": "\"integer\"",
                  "metadata": "{}"
                },
                {
                  "name": "count",
                  "type": "\"long\"",
                  "metadata": "{}"
                }
              ],
              "aggError": "",
              "aggData": [],
              "addedWidgets": {},
              "dbfsResultPath": null,
              "type": "table",
              "aggOverflow": false,
              "aggSeriesLimitReached": false,
              "arguments": {}
            }
          }
        }
      ]
    },
    {
      "cell_type": "code",
      "metadata": {
        "application/vnd.databricks.v1+cell": {
          "title": "",
          "showTitle": false,
          "inputWidgets": {},
          "nuid": "40f61c38-90cb-4e7d-a515-ae6963037d82"
        },
        "id": "Akgbvi3UoxDT",
        "outputId": "b480e380-4fd9-48c9-d80f-0ea8269c93a9"
      },
      "source": [
        "display(dataset_desafio.groupby('stroke').count())"
      ],
      "execution_count": null,
      "outputs": [
        {
          "output_type": "display_data",
          "data": {
            "text/html": [
              "<style scoped>\n",
              "  .table-result-container {\n",
              "    max-height: 300px;\n",
              "    overflow: auto;\n",
              "  }\n",
              "  table, th, td {\n",
              "    border: 1px solid black;\n",
              "    border-collapse: collapse;\n",
              "  }\n",
              "  th, td {\n",
              "    padding: 5px;\n",
              "  }\n",
              "  th {\n",
              "    text-align: left;\n",
              "  }\n",
              "</style><div class='table-result-container'><table class='table-result'><thead style='background-color: white'><tr><th>stroke</th><th>count</th></tr></thead><tbody><tr><td>1</td><td>249</td></tr><tr><td>0</td><td>4861</td></tr></tbody></table></div>"
            ]
          },
          "metadata": {
            "tags": [],
            "application/vnd.databricks.v1+output": {
              "overflow": false,
              "datasetInfos": [],
              "data": [
                [
                  1,
                  249
                ],
                [
                  0,
                  4861
                ]
              ],
              "plotOptions": {
                "displayType": "table",
                "customPlotOptions": {},
                "pivotColumns": [],
                "pivotAggregation": null,
                "xColumns": [],
                "yColumns": []
              },
              "columnCustomDisplayInfos": {},
              "aggType": "",
              "isJsonSchema": true,
              "removedWidgets": [],
              "aggSchema": [],
              "schema": [
                {
                  "name": "stroke",
                  "type": "\"integer\"",
                  "metadata": "{}"
                },
                {
                  "name": "count",
                  "type": "\"long\"",
                  "metadata": "{}"
                }
              ],
              "aggError": "",
              "aggData": [],
              "addedWidgets": {},
              "dbfsResultPath": null,
              "type": "table",
              "aggOverflow": false,
              "aggSeriesLimitReached": false,
              "arguments": {}
            }
          }
        }
      ]
    },
    {
      "cell_type": "code",
      "metadata": {
        "application/vnd.databricks.v1+cell": {
          "title": "",
          "showTitle": false,
          "inputWidgets": {},
          "nuid": "a489f996-aefc-4b72-a096-1e866883aa50"
        },
        "id": "YwaIGAnuoxDT",
        "outputId": "a18aa201-7bca-4120-8065-1d2a41d59178"
      },
      "source": [
        "#utilizando crosstab para contar a quantidade de indivíduos com que ganho mais de 50K pela idade\n",
        "dataset_desafio.filter(dataset_desafio.gender== 'Female').count()"
      ],
      "execution_count": null,
      "outputs": [
        {
          "output_type": "display_data",
          "data": {
            "text/html": [
              "<style scoped>\n",
              "  .ansiout {\n",
              "    display: block;\n",
              "    unicode-bidi: embed;\n",
              "    white-space: pre-wrap;\n",
              "    word-wrap: break-word;\n",
              "    word-break: break-all;\n",
              "    font-family: \"Source Code Pro\", \"Menlo\", monospace;;\n",
              "    font-size: 13px;\n",
              "    color: #555;\n",
              "    margin-left: 4px;\n",
              "    line-height: 19px;\n",
              "  }\n",
              "</style>\n",
              "<div class=\"ansiout\">Out[14]: 2994</div>"
            ]
          },
          "metadata": {
            "tags": [],
            "application/vnd.databricks.v1+output": {
              "datasetInfos": [],
              "data": "<div class=\"ansiout\">Out[14]: 2994</div>",
              "removedWidgets": [],
              "addedWidgets": {},
              "type": "html",
              "arguments": {}
            }
          }
        }
      ]
    },
    {
      "cell_type": "code",
      "metadata": {
        "application/vnd.databricks.v1+cell": {
          "title": "",
          "showTitle": false,
          "inputWidgets": {},
          "nuid": "c8605ccd-471d-432a-bc83-9ed0d36c1b68"
        },
        "id": "Gur4c1zLoxDT",
        "outputId": "fb04433c-2958-4bd7-eec9-b16200c17f1d"
      },
      "source": [
        "#contando as classes\n",
        "dataset_desafio.groupBy(\"work_type\").agg({'work_type': 'count'}).sort(\"count(work_type)\").show()"
      ],
      "execution_count": null,
      "outputs": [
        {
          "output_type": "display_data",
          "data": {
            "text/html": [
              "<style scoped>\n",
              "  .ansiout {\n",
              "    display: block;\n",
              "    unicode-bidi: embed;\n",
              "    white-space: pre-wrap;\n",
              "    word-wrap: break-word;\n",
              "    word-break: break-all;\n",
              "    font-family: \"Source Code Pro\", \"Menlo\", monospace;;\n",
              "    font-size: 13px;\n",
              "    color: #555;\n",
              "    margin-left: 4px;\n",
              "    line-height: 19px;\n",
              "  }\n",
              "</style>\n",
              "<div class=\"ansiout\">+-------------+----------------+\n",
              "    work_type|count(work_type)|\n",
              "+-------------+----------------+\n",
              " Never_worked|              22|\n",
              "     Govt_job|             657|\n",
              "     children|             687|\n",
              "Self-employed|             819|\n",
              "      Private|            2925|\n",
              "+-------------+----------------+\n",
              "\n",
              "</div>"
            ]
          },
          "metadata": {
            "tags": [],
            "application/vnd.databricks.v1+output": {
              "datasetInfos": [],
              "data": "<div class=\"ansiout\">+-------------+----------------+\n|    work_type|count(work_type)|\n+-------------+----------------+\n| Never_worked|              22|\n|     Govt_job|             657|\n|     children|             687|\n|Self-employed|             819|\n|      Private|            2925|\n+-------------+----------------+\n\n</div>",
              "removedWidgets": [],
              "addedWidgets": {},
              "type": "html",
              "arguments": {}
            }
          }
        }
      ]
    },
    {
      "cell_type": "code",
      "metadata": {
        "application/vnd.databricks.v1+cell": {
          "title": "",
          "showTitle": false,
          "inputWidgets": {},
          "nuid": "fb29284d-858d-4ac7-9156-0246e0655018"
        },
        "id": "5Fg2hpXaoxDT",
        "outputId": "e17529c6-f447-40cc-edbe-6a90c9bfb120"
      },
      "source": [
        "entradas_numericas  = ['age',\"avg_glucose_level\", \"bmi\"]\n",
        "dataset_desafio.describe(entradas_numericas).show(truncate=False)"
      ],
      "execution_count": null,
      "outputs": [
        {
          "output_type": "display_data",
          "data": {
            "text/html": [
              "<style scoped>\n",
              "  .ansiout {\n",
              "    display: block;\n",
              "    unicode-bidi: embed;\n",
              "    white-space: pre-wrap;\n",
              "    word-wrap: break-word;\n",
              "    word-break: break-all;\n",
              "    font-family: \"Source Code Pro\", \"Menlo\", monospace;;\n",
              "    font-size: 13px;\n",
              "    color: #555;\n",
              "    margin-left: 4px;\n",
              "    line-height: 19px;\n",
              "  }\n",
              "</style>\n",
              "<div class=\"ansiout\">+-------+------------------+------------------+------------------+\n",
              "summary|age               |avg_glucose_level |bmi               |\n",
              "+-------+------------------+------------------+------------------+\n",
              "count  |5110              |5110              |5110              |\n",
              "mean   |43.226614481409015|106.14767710371804|28.893236911794673|\n",
              "stddev |22.61264672311348 |45.28356015058193 |7.85406672968016  |\n",
              "min    |0.08              |55.12             |10.3              |\n",
              "max    |82.0              |271.74            |N/A               |\n",
              "+-------+------------------+------------------+------------------+\n",
              "\n",
              "</div>"
            ]
          },
          "metadata": {
            "tags": [],
            "application/vnd.databricks.v1+output": {
              "datasetInfos": [],
              "data": "<div class=\"ansiout\">+-------+------------------+------------------+------------------+\n|summary|age               |avg_glucose_level |bmi               |\n+-------+------------------+------------------+------------------+\n|count  |5110              |5110              |5110              |\n|mean   |43.226614481409015|106.14767710371804|28.893236911794673|\n|stddev |22.61264672311348 |45.28356015058193 |7.85406672968016  |\n|min    |0.08              |55.12             |10.3              |\n|max    |82.0              |271.74            |N/A               |\n+-------+------------------+------------------+------------------+\n\n</div>",
              "removedWidgets": [],
              "addedWidgets": {},
              "type": "html",
              "arguments": {}
            }
          }
        }
      ]
    },
    {
      "cell_type": "markdown",
      "metadata": {
        "application/vnd.databricks.v1+cell": {
          "title": "",
          "showTitle": false,
          "inputWidgets": {},
          "nuid": "2e0e897a-1628-42b4-b9e6-eded626b44e7"
        },
        "id": "w31F_xc2oxDT"
      },
      "source": [
        "###**Selecionando apenas a coluna de nivel de glicose no sangue**"
      ]
    },
    {
      "cell_type": "code",
      "metadata": {
        "application/vnd.databricks.v1+cell": {
          "title": "",
          "showTitle": false,
          "inputWidgets": {},
          "nuid": "64e7b888-4cf3-4eed-8fa4-b108d6eb23c5"
        },
        "id": "iqml7kmuoxDT",
        "outputId": "b31d4a30-8470-4ece-8b3a-58af92fc87f2"
      },
      "source": [
        "#boxplot\n",
        "display(dataset_desafio.select('avg_glucose_level'))"
      ],
      "execution_count": null,
      "outputs": [
        {
          "output_type": "display_data",
          "data": {
            "text/html": [
              "<style scoped>\n",
              "  .table-result-container {\n",
              "    max-height: 300px;\n",
              "    overflow: auto;\n",
              "  }\n",
              "  table, th, td {\n",
              "    border: 1px solid black;\n",
              "    border-collapse: collapse;\n",
              "  }\n",
              "  th, td {\n",
              "    padding: 5px;\n",
              "  }\n",
              "  th {\n",
              "    text-align: left;\n",
              "  }\n",
              "</style><div class='table-result-container'><table class='table-result'><thead style='background-color: white'><tr><th>avg_glucose_level</th></tr></thead><tbody><tr><td>228.69</td></tr><tr><td>202.21</td></tr><tr><td>105.92</td></tr><tr><td>171.23</td></tr><tr><td>174.12</td></tr><tr><td>186.21</td></tr><tr><td>70.09</td></tr><tr><td>94.39</td></tr><tr><td>76.15</td></tr><tr><td>58.57</td></tr><tr><td>80.43</td></tr><tr><td>120.46</td></tr><tr><td>104.51</td></tr><tr><td>219.84</td></tr><tr><td>214.09</td></tr><tr><td>167.41</td></tr><tr><td>191.61</td></tr><tr><td>221.29</td></tr><tr><td>89.22</td></tr><tr><td>217.08</td></tr><tr><td>193.94</td></tr><tr><td>233.29</td></tr><tr><td>228.7</td></tr><tr><td>208.3</td></tr><tr><td>102.87</td></tr><tr><td>104.12</td></tr><tr><td>100.98</td></tr><tr><td>189.84</td></tr><tr><td>195.23</td></tr><tr><td>211.78</td></tr><tr><td>212.08</td></tr><tr><td>83.41</td></tr><tr><td>196.92</td></tr><tr><td>252.72</td></tr><tr><td>84.2</td></tr><tr><td>84.03</td></tr><tr><td>219.72</td></tr><tr><td>74.63</td></tr><tr><td>92.62</td></tr><tr><td>60.91</td></tr><tr><td>78.03</td></tr><tr><td>71.22</td></tr><tr><td>144.9</td></tr><tr><td>90.9</td></tr><tr><td>213.03</td></tr><tr><td>243.58</td></tr><tr><td>109.78</td></tr><tr><td>107.26</td></tr><tr><td>99.33</td></tr><tr><td>58.09</td></tr><tr><td>89.96</td></tr><tr><td>75.32</td></tr><tr><td>127.29</td></tr><tr><td>124.13</td></tr><tr><td>197.54</td></tr><tr><td>196.71</td></tr><tr><td>59.32</td></tr><tr><td>237.75</td></tr><tr><td>194.99</td></tr><tr><td>180.93</td></tr><tr><td>185.17</td></tr><tr><td>74.9</td></tr><tr><td>61.94</td></tr><tr><td>93.72</td></tr><tr><td>104.72</td></tr><tr><td>113.01</td></tr><tr><td>221.58</td></tr><tr><td>104.47</td></tr><tr><td>86.23</td></tr><tr><td>72.67</td></tr><tr><td>62.57</td></tr><tr><td>179.12</td></tr><tr><td>116.55</td></tr><tr><td>228.56</td></tr><tr><td>96.59</td></tr><tr><td>66.72</td></tr><tr><td>240.09</td></tr><tr><td>110.85</td></tr><tr><td>165.31</td></tr><tr><td>143.43</td></tr><tr><td>96.16</td></tr><tr><td>101.45</td></tr><tr><td>88.92</td></tr><tr><td>79.79</td></tr><tr><td>71.2</td></tr><tr><td>96.97</td></tr><tr><td>111.81</td></tr><tr><td>59.35</td></tr><tr><td>86.94</td></tr><tr><td>98.55</td></tr><tr><td>226.98</td></tr><tr><td>72.81</td></tr><tr><td>68.02</td></tr><tr><td>68.56</td></tr><tr><td>64.14</td></tr><tr><td>235.63</td></tr><tr><td>76.34</td></tr><tr><td>240.59</td></tr><tr><td>78.92</td></tr><tr><td>82.81</td></tr><tr><td>74.1</td></tr><tr><td>190.32</td></tr><tr><td>231.61</td></tr><tr><td>78.7</td></tr><tr><td>110.52</td></tr><tr><td>82.3</td></tr><tr><td>73.18</td></tr><tr><td>191.82</td></tr><tr><td>93.05</td></tr><tr><td>64.17</td></tr><tr><td>129.98</td></tr><tr><td>68.53</td></tr><tr><td>106.41</td></tr><tr><td>224.1</td></tr><tr><td>82.1</td></tr><tr><td>216.94</td></tr><tr><td>76.11</td></tr><tr><td>72.96</td></tr><tr><td>82.28</td></tr><tr><td>105.22</td></tr><tr><td>59.86</td></tr><tr><td>62.55</td></tr><tr><td>259.63</td></tr><tr><td>249.31</td></tr><tr><td>219.91</td></tr><tr><td>131.41</td></tr><tr><td>93.13</td></tr><tr><td>73.54</td></tr><tr><td>200.59</td></tr><tr><td>62.48</td></tr><tr><td>190.14</td></tr><tr><td>130.54</td></tr><tr><td>182.99</td></tr><tr><td>101.45</td></tr><tr><td>206.09</td></tr><tr><td>263.32</td></tr><tr><td>140.1</td></tr><tr><td>207.28</td></tr><tr><td>194.37</td></tr><tr><td>199.2</td></tr><tr><td>103.68</td></tr><tr><td>116.44</td></tr><tr><td>70.28</td></tr><tr><td>72.17</td></tr><tr><td>221.79</td></tr><tr><td>151.16</td></tr><tr><td>68.43</td></tr><tr><td>67.29</td></tr><tr><td>67.41</td></tr><tr><td>239.07</td></tr><tr><td>169.67</td></tr><tr><td>223.83</td></tr><tr><td>76.57</td></tr><tr><td>77.82</td></tr><tr><td>92.98</td></tr><tr><td>231.56</td></tr><tr><td>102.16</td></tr><tr><td>221.89</td></tr><tr><td>195.71</td></tr><tr><td>74.02</td></tr><tr><td>57.92</td></tr><tr><td>81.76</td></tr><tr><td>70.37</td></tr><tr><td>203.87</td></tr><tr><td>89.13</td></tr><tr><td>133.19</td></tr><tr><td>162.23</td></tr><tr><td>75.02</td></tr><tr><td>98.02</td></tr><tr><td>91.54</td></tr><tr><td>111.98</td></tr><tr><td>60.94</td></tr><tr><td>97.43</td></tr><tr><td>91.02</td></tr><tr><td>60.67</td></tr><tr><td>185.49</td></tr><tr><td>64.44</td></tr><tr><td>56.11</td></tr><tr><td>110.66</td></tr><tr><td>213.22</td></tr><tr><td>78.18</td></tr><tr><td>111.04</td></tr><tr><td>76.13</td></tr><tr><td>81.32</td></tr><tr><td>112.24</td></tr><tr><td>137.3</td></tr><tr><td>116.69</td></tr><tr><td>215.94</td></tr><tr><td>86.62</td></tr><tr><td>209.86</td></tr><tr><td>205.77</td></tr><tr><td>112.16</td></tr><tr><td>118.03</td></tr><tr><td>271.74</td></tr><tr><td>97.92</td></tr><tr><td>200.62</td></tr><tr><td>242.52</td></tr><tr><td>93.81</td></tr><tr><td>114.77</td></tr><tr><td>74.96</td></tr><tr><td>167.13</td></tr><tr><td>175.29</td></tr><tr><td>90.0</td></tr><tr><td>109.47</td></tr><tr><td>87.85</td></tr><tr><td>106.74</td></tr><tr><td>80.13</td></tr><tr><td>90.19</td></tr><tr><td>134.8</td></tr><tr><td>106.58</td></tr><tr><td>83.24</td></tr><tr><td>103.43</td></tr><tr><td>208.65</td></tr><tr><td>74.11</td></tr><tr><td>95.84</td></tr><tr><td>205.33</td></tr><tr><td>116.1</td></tr><tr><td>210.4</td></tr><tr><td>199.86</td></tr><tr><td>219.73</td></tr><tr><td>250.89</td></tr><tr><td>72.73</td></tr><tr><td>205.35</td></tr><tr><td>70.3</td></tr><tr><td>104.86</td></tr><tr><td>216.58</td></tr><tr><td>184.4</td></tr><tr><td>60.98</td></tr><tr><td>97.76</td></tr><tr><td>66.03</td></tr><tr><td>81.95</td></tr><tr><td>97.73</td></tr><tr><td>70.94</td></tr><tr><td>199.84</td></tr><tr><td>218.46</td></tr><tr><td>211.06</td></tr><tr><td>86.3</td></tr><tr><td>162.14</td></tr><tr><td>88.2</td></tr><tr><td>91.92</td></tr><tr><td>76.46</td></tr><tr><td>197.28</td></tr><tr><td>233.94</td></tr><tr><td>247.51</td></tr><tr><td>84.96</td></tr><tr><td>57.93</td></tr><tr><td>78.8</td></tr><tr><td>87.8</td></tr><tr><td>78.81</td></tr><tr><td>95.12</td></tr><tr><td>87.96</td></tr><tr><td>110.89</td></tr><tr><td>69.04</td></tr><tr><td>161.28</td></tr><tr><td>210.95</td></tr><tr><td>77.59</td></tr><tr><td>243.53</td></tr><tr><td>77.67</td></tr><tr><td>205.84</td></tr><tr><td>77.08</td></tr><tr><td>57.08</td></tr><tr><td>162.96</td></tr><tr><td>73.5</td></tr><tr><td>95.04</td></tr><tr><td>85.37</td></tr><tr><td>84.62</td></tr><tr><td>82.67</td></tr><tr><td>57.33</td></tr><tr><td>67.84</td></tr><tr><td>75.7</td></tr><tr><td>129.54</td></tr><tr><td>60.22</td></tr><tr><td>198.21</td></tr><tr><td>109.82</td></tr><tr><td>60.84</td></tr><tr><td>94.61</td></tr><tr><td>97.49</td></tr><tr><td>206.72</td></tr><tr><td>214.45</td></tr><tr><td>82.9</td></tr><tr><td>103.26</td></tr><tr><td>55.78</td></tr><tr><td>73.74</td></tr><tr><td>149.75</td></tr><tr><td>82.34</td></tr><tr><td>62.6</td></tr><tr><td>94.09</td></tr><tr><td>55.42</td></tr><tr><td>82.18</td></tr><tr><td>117.92</td></tr><tr><td>114.84</td></tr><tr><td>79.17</td></tr><tr><td>110.63</td></tr><tr><td>190.7</td></tr><tr><td>79.81</td></tr><tr><td>113.63</td></tr><tr><td>141.24</td></tr><tr><td>56.96</td></tr><tr><td>203.04</td></tr><tr><td>94.3</td></tr><tr><td>81.51</td></tr><tr><td>137.74</td></tr><tr><td>81.84</td></tr><tr><td>242.3</td></tr><tr><td>102.64</td></tr><tr><td>146.01</td></tr><tr><td>75.42</td></tr><tr><td>220.49</td></tr><tr><td>61.45</td></tr><tr><td>88.19</td></tr><tr><td>115.22</td></tr><tr><td>97.93</td></tr><tr><td>85.6</td></tr><tr><td>79.83</td></tr><tr><td>218.46</td></tr><tr><td>62.2</td></tr><tr><td>69.15</td></tr><tr><td>127.71</td></tr><tr><td>216.7</td></tr><tr><td>71.89</td></tr><tr><td>103.56</td></tr><tr><td>79.03</td></tr><tr><td>69.94</td></tr><tr><td>90.12</td></tr><tr><td>95.1</td></tr><tr><td>234.58</td></tr><tr><td>235.85</td></tr><tr><td>78.05</td></tr><tr><td>89.44</td></tr><tr><td>111.38</td></tr><tr><td>243.5</td></tr><tr><td>182.2</td></tr><tr><td>229.92</td></tr><tr><td>82.24</td></tr><tr><td>89.84</td></tr><tr><td>90.69</td></tr><tr><td>84.38</td></tr><tr><td>215.6</td></tr><tr><td>91.61</td></tr><tr><td>138.16</td></tr><tr><td>75.23</td></tr><tr><td>75.18</td></tr><tr><td>106.23</td></tr><tr><td>239.64</td></tr><tr><td>58.95</td></tr><tr><td>99.92</td></tr><tr><td>116.23</td></tr><tr><td>118.82</td></tr><tr><td>66.3</td></tr><tr><td>101.41</td></tr><tr><td>200.28</td></tr><tr><td>136.8</td></tr><tr><td>96.57</td></tr><tr><td>66.42</td></tr><tr><td>98.09</td></tr><tr><td>205.23</td></tr><tr><td>86.78</td></tr><tr><td>126.82</td></tr><tr><td>78.4</td></tr><tr><td>63.69</td></tr><tr><td>209.58</td></tr><tr><td>89.86</td></tr><tr><td>110.99</td></tr><tr><td>83.82</td></tr><tr><td>137.96</td></tr><tr><td>210.78</td></tr><tr><td>118.89</td></tr><tr><td>72.55</td></tr><tr><td>107.41</td></tr><tr><td>93.25</td></tr><tr><td>74.91</td></tr><tr><td>80.05</td></tr><tr><td>99.8</td></tr><tr><td>91.97</td></tr><tr><td>64.4</td></tr><tr><td>73.02</td></tr><tr><td>88.11</td></tr><tr><td>138.29</td></tr><tr><td>72.36</td></tr><tr><td>68.76</td></tr><tr><td>106.22</td></tr><tr><td>101.52</td></tr><tr><td>109.51</td></tr><tr><td>85.84</td></tr><tr><td>110.15</td></tr><tr><td>91.72</td></tr><tr><td>251.6</td></tr><tr><td>123.1</td></tr><tr><td>97.4</td></tr><tr><td>68.34</td></tr><tr><td>80.81</td></tr><tr><td>120.31</td></tr><tr><td>83.51</td></tr><tr><td>74.09</td></tr><tr><td>91.6</td></tr><tr><td>87.52</td></tr><tr><td>213.37</td></tr><tr><td>75.39</td></tr><tr><td>122.41</td></tr><tr><td>223.36</td></tr><tr><td>84.59</td></tr><tr><td>70.16</td></tr><tr><td>107.52</td></tr><tr><td>80.88</td></tr><tr><td>93.48</td></tr><tr><td>70.21</td></tr><tr><td>86.67</td></tr><tr><td>101.37</td></tr><tr><td>105.22</td></tr><tr><td>70.31</td></tr><tr><td>64.06</td></tr><tr><td>178.29</td></tr><tr><td>81.6</td></tr><tr><td>147.48</td></tr><tr><td>86.86</td></tr><tr><td>71.16</td></tr><tr><td>73.2</td></tr><tr><td>203.81</td></tr><tr><td>82.0</td></tr><tr><td>97.55</td></tr><tr><td>94.29</td></tr><tr><td>75.22</td></tr><tr><td>90.07</td></tr><tr><td>73.73</td></tr><tr><td>79.58</td></tr><tr><td>77.88</td></tr><tr><td>205.26</td></tr><tr><td>58.63</td></tr><tr><td>139.9</td></tr><tr><td>211.03</td></tr><tr><td>72.79</td></tr><tr><td>91.65</td></tr><tr><td>79.92</td></tr><tr><td>225.47</td></tr><tr><td>94.48</td></tr><tr><td>82.34</td></tr><tr><td>180.63</td></tr><tr><td>92.48</td></tr><tr><td>116.66</td></tr><tr><td>112.09</td></tr><tr><td>130.34</td></tr><tr><td>82.59</td></tr><tr><td>123.87</td></tr><tr><td>98.7</td></tr><tr><td>227.1</td></tr><tr><td>55.39</td></tr><tr><td>66.07</td></tr><tr><td>104.21</td></tr><tr><td>145.15</td></tr><tr><td>68.19</td></tr><tr><td>97.53</td></tr><tr><td>122.31</td></tr><tr><td>83.51</td></tr><tr><td>86.46</td></tr><tr><td>112.06</td></tr><tr><td>92.14</td></tr><tr><td>201.76</td></tr><tr><td>74.44</td></tr><tr><td>95.93</td></tr><tr><td>87.51</td></tr><tr><td>72.35</td></tr><tr><td>113.47</td></tr><tr><td>103.78</td></tr><tr><td>115.43</td></tr><tr><td>95.59</td></tr><tr><td>101.52</td></tr><tr><td>170.05</td></tr><tr><td>217.3</td></tr><tr><td>196.01</td></tr><tr><td>92.21</td></tr><tr><td>100.09</td></tr><tr><td>93.88</td></tr><tr><td>75.05</td></tr><tr><td>70.08</td></tr><tr><td>74.2</td></tr><tr><td>69.01</td></tr><tr><td>96.17</td></tr><tr><td>184.15</td></tr><tr><td>87.24</td></tr><tr><td>198.69</td></tr><tr><td>82.58</td></tr><tr><td>96.88</td></tr><tr><td>73.32</td></tr><tr><td>94.59</td></tr><tr><td>132.08</td></tr><tr><td>98.99</td></tr><tr><td>104.48</td></tr><tr><td>98.01</td></tr><tr><td>79.14</td></tr><tr><td>89.32</td></tr><tr><td>65.24</td></tr><tr><td>80.98</td></tr><tr><td>186.17</td></tr><tr><td>69.24</td></tr><tr><td>111.19</td></tr><tr><td>93.28</td></tr><tr><td>122.19</td></tr><tr><td>129.53</td></tr><tr><td>114.53</td></tr><tr><td>93.73</td></tr><tr><td>77.49</td></tr><tr><td>65.38</td></tr><tr><td>94.18</td></tr><tr><td>118.7</td></tr><tr><td>96.29</td></tr><tr><td>74.64</td></tr><tr><td>96.99</td></tr><tr><td>100.61</td></tr><tr><td>97.08</td></tr><tr><td>84.79</td></tr><tr><td>78.75</td></tr><tr><td>82.93</td></tr><tr><td>88.78</td></tr><tr><td>122.1</td></tr><tr><td>74.81</td></tr><tr><td>183.45</td></tr><tr><td>114.94</td></tr><tr><td>104.38</td></tr><tr><td>102.91</td></tr><tr><td>108.79</td></tr><tr><td>73.31</td></tr><tr><td>68.52</td></tr><tr><td>89.77</td></tr><tr><td>102.64</td></tr><tr><td>70.92</td></tr><tr><td>86.11</td></tr><tr><td>129.16</td></tr><tr><td>113.85</td></tr><tr><td>79.35</td></tr><tr><td>80.79</td></tr><tr><td>114.01</td></tr><tr><td>93.74</td></tr><tr><td>90.65</td></tr><tr><td>98.41</td></tr><tr><td>127.18</td></tr><tr><td>138.06</td></tr><tr><td>89.44</td></tr><tr><td>105.61</td></tr><tr><td>155.43</td></tr><tr><td>80.83</td></tr><tr><td>80.19</td></tr><tr><td>60.34</td></tr><tr><td>79.3</td></tr><tr><td>98.44</td></tr><tr><td>210.48</td></tr><tr><td>70.34</td></tr><tr><td>122.22</td></tr><tr><td>75.29</td></tr><tr><td>100.35</td></tr><tr><td>193.83</td></tr><tr><td>126.96</td></tr><tr><td>183.34</td></tr><tr><td>247.69</td></tr><tr><td>76.2</td></tr><tr><td>71.43</td></tr><tr><td>93.36</td></tr><tr><td>61.29</td></tr><tr><td>103.62</td></tr><tr><td>100.52</td></tr><tr><td>191.47</td></tr><tr><td>67.06</td></tr><tr><td>144.1</td></tr><tr><td>58.26</td></tr><tr><td>239.82</td></tr><tr><td>73.71</td></tr><tr><td>88.53</td></tr><tr><td>114.79</td></tr><tr><td>113.8</td></tr><tr><td>71.91</td></tr><tr><td>65.3</td></tr><tr><td>189.57</td></tr><tr><td>114.25</td></tr><tr><td>81.26</td></tr><tr><td>87.88</td></tr><tr><td>112.17</td></tr><tr><td>99.97</td></tr><tr><td>207.58</td></tr><tr><td>109.16</td></tr><tr><td>74.46</td></tr><tr><td>118.51</td></tr><tr><td>107.47</td></tr><tr><td>182.86</td></tr><tr><td>59.17</td></tr><tr><td>215.64</td></tr><tr><td>163.7</td></tr><tr><td>196.36</td></tr><tr><td>139.77</td></tr><tr><td>141.23</td></tr><tr><td>89.99</td></tr><tr><td>108.53</td></tr><tr><td>63.61</td></tr><tr><td>85.54</td></tr><tr><td>100.83</td></tr><tr><td>59.82</td></tr><tr><td>105.95</td></tr><tr><td>188.11</td></tr><tr><td>71.15</td></tr><tr><td>60.53</td></tr><tr><td>205.5</td></tr><tr><td>204.86</td></tr><tr><td>115.03</td></tr><tr><td>79.87</td></tr><tr><td>97.89</td></tr><tr><td>125.26</td></tr><tr><td>114.32</td></tr><tr><td>92.23</td></tr><tr><td>83.51</td></tr><tr><td>102.34</td></tr><tr><td>144.48</td></tr><tr><td>88.39</td></tr><tr><td>228.08</td></tr><tr><td>93.79</td></tr><tr><td>147.14</td></tr><tr><td>106.43</td></tr><tr><td>88.04</td></tr><tr><td>92.2</td></tr><tr><td>219.53</td></tr><tr><td>75.56</td></tr><tr><td>158.31</td></tr><tr><td>111.43</td></tr><tr><td>219.97</td></tr><tr><td>148.91</td></tr><tr><td>69.4</td></tr><tr><td>68.34</td></tr><tr><td>58.37</td></tr><tr><td>71.2</td></tr><tr><td>101.5</td></tr><tr><td>92.04</td></tr><tr><td>73.0</td></tr><tr><td>111.15</td></tr><tr><td>58.65</td></tr><tr><td>100.54</td></tr><tr><td>111.73</td></tr><tr><td>97.78</td></tr><tr><td>85.79</td></tr><tr><td>98.54</td></tr><tr><td>94.62</td></tr><tr><td>112.43</td></tr><tr><td>99.67</td></tr><tr><td>67.39</td></tr><tr><td>95.12</td></tr><tr><td>85.06</td></tr><tr><td>214.05</td></tr><tr><td>79.09</td></tr><tr><td>98.09</td></tr><tr><td>76.36</td></tr><tr><td>98.42</td></tr><tr><td>82.01</td></tr><tr><td>56.11</td></tr><tr><td>111.85</td></tr><tr><td>92.39</td></tr><tr><td>112.54</td></tr><tr><td>63.71</td></tr><tr><td>70.35</td></tr><tr><td>94.65</td></tr><tr><td>64.64</td></tr><tr><td>57.27</td></tr><tr><td>107.25</td></tr><tr><td>77.12</td></tr><tr><td>55.32</td></tr><tr><td>69.37</td></tr><tr><td>57.57</td></tr><tr><td>87.43</td></tr><tr><td>98.73</td></tr><tr><td>81.18</td></tr><tr><td>56.23</td></tr><tr><td>69.61</td></tr><tr><td>59.49</td></tr><tr><td>118.14</td></tr><tr><td>100.26</td></tr><tr><td>56.75</td></tr><tr><td>88.27</td></tr><tr><td>67.81</td></tr><tr><td>77.46</td></tr><tr><td>76.26</td></tr><tr><td>86.39</td></tr><tr><td>116.38</td></tr><tr><td>75.74</td></tr><tr><td>92.14</td></tr><tr><td>149.95</td></tr><tr><td>92.11</td></tr><tr><td>74.98</td></tr><tr><td>55.25</td></tr><tr><td>79.89</td></tr><tr><td>130.61</td></tr><tr><td>94.26</td></tr><tr><td>94.34</td></tr><tr><td>109.03</td></tr><tr><td>81.03</td></tr><tr><td>99.82</td></tr><tr><td>140.08</td></tr><tr><td>59.54</td></tr><tr><td>80.33</td></tr><tr><td>131.51</td></tr><tr><td>89.21</td></tr><tr><td>91.45</td></tr><tr><td>90.58</td></tr><tr><td>91.45</td></tr><tr><td>89.63</td></tr><tr><td>124.06</td></tr><tr><td>99.47</td></tr><tr><td>88.97</td></tr><tr><td>80.93</td></tr><tr><td>102.07</td></tr><tr><td>91.69</td></tr><tr><td>63.71</td></tr><tr><td>200.49</td></tr><tr><td>75.3</td></tr><tr><td>240.71</td></tr><tr><td>60.5</td></tr><tr><td>131.85</td></tr><tr><td>134.39</td></tr><tr><td>56.18</td></tr><tr><td>113.64</td></tr><tr><td>156.57</td></tr><tr><td>80.4</td></tr><tr><td>59.26</td></tr><tr><td>63.26</td></tr><tr><td>86.24</td></tr><tr><td>197.1</td></tr><tr><td>90.9</td></tr><tr><td>84.59</td></tr><tr><td>121.8</td></tr><tr><td>77.65</td></tr><tr><td>64.41</td></tr><tr><td>75.19</td></tr><tr><td>67.97</td></tr><tr><td>119.34</td></tr><tr><td>94.92</td></tr><tr><td>107.42</td></tr><tr><td>85.02</td></tr><tr><td>103.51</td></tr><tr><td>114.5</td></tr><tr><td>70.78</td></tr><tr><td>95.01</td></tr><tr><td>84.11</td></tr><tr><td>74.02</td></tr><tr><td>78.49</td></tr><tr><td>74.22</td></tr><tr><td>55.34</td></tr><tr><td>75.04</td></tr><tr><td>109.73</td></tr><tr><td>95.81</td></tr><tr><td>96.78</td></tr><tr><td>194.62</td></tr><tr><td>70.02</td></tr><tr><td>222.21</td></tr><tr><td>62.41</td></tr><tr><td>55.83</td></tr><tr><td>65.12</td></tr><tr><td>73.62</td></tr><tr><td>85.83</td></tr><tr><td>103.86</td></tr><tr><td>60.98</td></tr><tr><td>82.69</td></tr><tr><td>250.2</td></tr><tr><td>128.97</td></tr><tr><td>84.31</td></tr><tr><td>74.8</td></tr><tr><td>97.06</td></tr><tr><td>77.54</td></tr><tr><td>92.78</td></tr><tr><td>173.43</td></tr><tr><td>79.08</td></tr><tr><td>106.18</td></tr><tr><td>114.21</td></tr><tr><td>91.08</td></tr><tr><td>105.77</td></tr><tr><td>74.88</td></tr><tr><td>123.15</td></tr><tr><td>184.25</td></tr><tr><td>117.69</td></tr><tr><td>55.26</td></tr><tr><td>106.51</td></tr><tr><td>55.27</td></tr><tr><td>98.42</td></tr><tr><td>99.2</td></tr><tr><td>98.92</td></tr><tr><td>92.7</td></tr><tr><td>106.7</td></tr><tr><td>152.81</td></tr><tr><td>82.59</td></tr><tr><td>91.0</td></tr><tr><td>93.88</td></tr><tr><td>76.99</td></tr><tr><td>254.6</td></tr><tr><td>93.99</td></tr><tr><td>109.68</td></tr><tr><td>92.04</td></tr><tr><td>111.41</td></tr><tr><td>97.92</td></tr><tr><td>65.61</td></tr><tr><td>62.37</td></tr><tr><td>101.28</td></tr><tr><td>88.31</td></tr><tr><td>103.55</td></tr><tr><td>60.26</td></tr><tr><td>79.39</td></tr><tr><td>122.01</td></tr><tr><td>78.09</td></tr><tr><td>89.7</td></tr><tr><td>95.1</td></tr><tr><td>112.64</td></tr><tr><td>79.8</td></tr><tr><td>82.2</td></tr><tr><td>108.89</td></tr><tr><td>114.32</td></tr><tr><td>116.14</td></tr><tr><td>122.74</td></tr><tr><td>94.04</td></tr><tr><td>86.6</td></tr><tr><td>82.32</td></tr><tr><td>83.83</td></tr><tr><td>106.98</td></tr><tr><td>93.88</td></tr><tr><td>70.53</td></tr><tr><td>212.01</td></tr><tr><td>65.88</td></tr><tr><td>106.97</td></tr><tr><td>126.35</td></tr><tr><td>129.16</td></tr><tr><td>88.66</td></tr><tr><td>112.95</td></tr><tr><td>81.59</td></tr><tr><td>76.82</td></tr><tr><td>73.75</td></tr><tr><td>91.56</td></tr><tr><td>104.55</td></tr><tr><td>84.84</td></tr><tr><td>86.06</td></tr><tr><td>109.1</td></tr><tr><td>68.35</td></tr><tr><td>121.04</td></tr><tr><td>160.83</td></tr><tr><td>85.62</td></tr><tr><td>74.23</td></tr><tr><td>110.76</td></tr><tr><td>79.44</td></tr><tr><td>119.52</td></tr><tr><td>90.42</td></tr><tr><td>109.32</td></tr><tr><td>78.16</td></tr><tr><td>79.13</td></tr><tr><td>84.06</td></tr><tr><td>89.3</td></tr><tr><td>69.21</td></tr><tr><td>186.45</td></tr><tr><td>58.47</td></tr><tr><td>189.49</td></tr><tr><td>99.6</td></tr><tr><td>126.18</td></tr><tr><td>186.32</td></tr><tr><td>62.49</td></tr><tr><td>74.51</td></tr><tr><td>94.63</td></tr><tr><td>91.98</td></tr><tr><td>56.77</td></tr><tr><td>75.87</td></tr><tr><td>77.19</td></tr><tr><td>135.75</td></tr><tr><td>100.15</td></tr><tr><td>95.08</td></tr><tr><td>125.38</td></tr><tr><td>111.71</td></tr><tr><td>94.64</td></tr><tr><td>226.7</td></tr><tr><td>112.96</td></tr><tr><td>183.1</td></tr><tr><td>105.36</td></tr><tr><td>84.13</td></tr><tr><td>102.47</td></tr><tr><td>77.04</td></tr><tr><td>83.23</td></tr><tr><td>87.01</td></tr><tr><td>56.99</td></tr><tr><td>73.01</td></tr><tr><td>106.35</td></tr><tr><td>80.63</td></tr><tr><td>103.61</td></tr><tr><td>91.35</td></tr><tr><td>194.04</td></tr><tr><td>111.99</td></tr><tr><td>57.51</td></tr><tr><td>68.49</td></tr><tr><td>60.2</td></tr><tr><td>160.0</td></tr><tr><td>86.96</td></tr><tr><td>237.15</td></tr><tr><td>99.06</td></tr><tr><td>56.31</td></tr><tr><td>84.31</td></tr><tr><td>90.92</td></tr><tr><td>104.33</td></tr><tr><td>62.61</td></tr><tr><td>231.19</td></tr><tr><td>94.3</td></tr><tr><td>104.48</td></tr><tr><td>72.62</td></tr><tr><td>81.64</td></tr><tr><td>90.78</td></tr><tr><td>70.71</td></tr><tr><td>72.36</td></tr><tr><td>59.76</td></tr><tr><td>83.76</td></tr><tr><td>63.64</td></tr><tr><td>76.26</td></tr><tr><td>82.06</td></tr><tr><td>110.91</td></tr><tr><td>77.16</td></tr><tr><td>69.58</td></tr><tr><td>96.26</td></tr><tr><td>87.27</td></tr><tr><td>65.36</td></tr><tr><td>109.51</td></tr><tr><td>89.03</td></tr><tr><td>91.34</td></tr><tr><td>57.82</td></tr><tr><td>81.15</td></tr><tr><td>115.29</td></tr><tr><td>111.02</td></tr><tr><td>111.61</td></tr><tr><td>109.02</td></tr><tr><td>106.51</td></tr><tr><td>207.32</td></tr><tr><td>87.11</td></tr><tr><td>61.68</td></tr><tr><td>119.04</td></tr><tr><td>86.05</td></tr><tr><td>70.03</td></tr><tr><td>207.64</td></tr><tr><td>236.84</td></tr><tr><td>78.11</td></tr><tr><td>100.97</td></tr><tr><td>99.21</td></tr><tr><td>113.21</td></tr><tr><td>92.95</td></tr><tr><td>110.16</td></tr><tr><td>142.57</td></tr><tr><td>92.87</td></tr><tr><td>111.48</td></tr><tr><td>123.0</td></tr><tr><td>100.54</td></tr><tr><td>106.68</td></tr><tr><td>86.4</td></tr><tr><td>61.81</td></tr><tr><td>128.28</td></tr><tr><td>204.63</td></tr><tr><td>89.98</td></tr><tr><td>232.89</td></tr><tr><td>98.58</td></tr><tr><td>57.94</td></tr><tr><td>123.21</td></tr><tr><td>76.34</td></tr><tr><td>92.98</td></tr><tr><td>92.81</td></tr><tr><td>85.16</td></tr><tr><td>90.1</td></tr><tr><td>65.15</td></tr><tr><td>104.62</td></tr><tr><td>113.25</td></tr><tr><td>59.28</td></tr><tr><td>93.07</td></tr><tr><td>77.42</td></tr><tr><td>73.69</td></tr><tr><td>74.9</td></tr><tr><td>88.27</td></tr><tr><td>58.39</td></tr><tr><td>102.05</td></tr><tr><td>112.47</td></tr><tr><td>72.84</td></tr><tr><td>195.03</td></tr><tr><td>170.95</td></tr><tr><td>87.98</td></tr><tr><td>65.81</td></tr><tr><td>124.6</td></tr><tr><td>83.65</td></tr><tr><td>88.81</td></tr><tr><td>86.75</td></tr><tr><td>123.36</td></tr><tr><td>89.68</td></tr><tr><td>69.87</td></tr><tr><td>109.22</td></tr><tr><td>157.57</td></tr><tr><td>110.73</td></tr><tr><td>99.14</td></tr><tr><td>59.15</td></tr><tr><td>165.11</td></tr><tr><td>77.44</td></tr><tr><td>100.33</td></tr><tr><td>57.93</td></tr><tr><td>148.24</td></tr><tr><td>91.96</td></tr><tr><td>72.93</td></tr><tr><td>84.27</td></tr><tr><td>124.45</td></tr><tr><td>90.51</td></tr><tr><td>118.87</td></tr><tr><td>56.42</td></tr><tr><td>73.67</td></tr><tr><td>89.11</td></tr></tbody></table>Showing the first 1000 rows.</div>"
            ]
          },
          "metadata": {
            "tags": [],
            "application/vnd.databricks.v1+output": {
              "overflow": true,
              "datasetInfos": [],
              "data": [
                [
                  228.69
                ],
                [
                  202.21
                ],
                [
                  105.92
                ],
                [
                  171.23
                ],
                [
                  174.12
                ],
                [
                  186.21
                ],
                [
                  70.09
                ],
                [
                  94.39
                ],
                [
                  76.15
                ],
                [
                  58.57
                ],
                [
                  80.43
                ],
                [
                  120.46
                ],
                [
                  104.51
                ],
                [
                  219.84
                ],
                [
                  214.09
                ],
                [
                  167.41
                ],
                [
                  191.61
                ],
                [
                  221.29
                ],
                [
                  89.22
                ],
                [
                  217.08
                ],
                [
                  193.94
                ],
                [
                  233.29
                ],
                [
                  228.7
                ],
                [
                  208.3
                ],
                [
                  102.87
                ],
                [
                  104.12
                ],
                [
                  100.98
                ],
                [
                  189.84
                ],
                [
                  195.23
                ],
                [
                  211.78
                ],
                [
                  212.08
                ],
                [
                  83.41
                ],
                [
                  196.92
                ],
                [
                  252.72
                ],
                [
                  84.2
                ],
                [
                  84.03
                ],
                [
                  219.72
                ],
                [
                  74.63
                ],
                [
                  92.62
                ],
                [
                  60.91
                ],
                [
                  78.03
                ],
                [
                  71.22
                ],
                [
                  144.9
                ],
                [
                  90.9
                ],
                [
                  213.03
                ],
                [
                  243.58
                ],
                [
                  109.78
                ],
                [
                  107.26
                ],
                [
                  99.33
                ],
                [
                  58.09
                ],
                [
                  89.96
                ],
                [
                  75.32
                ],
                [
                  127.29
                ],
                [
                  124.13
                ],
                [
                  197.54
                ],
                [
                  196.71
                ],
                [
                  59.32
                ],
                [
                  237.75
                ],
                [
                  194.99
                ],
                [
                  180.93
                ],
                [
                  185.17
                ],
                [
                  74.9
                ],
                [
                  61.94
                ],
                [
                  93.72
                ],
                [
                  104.72
                ],
                [
                  113.01
                ],
                [
                  221.58
                ],
                [
                  104.47
                ],
                [
                  86.23
                ],
                [
                  72.67
                ],
                [
                  62.57
                ],
                [
                  179.12
                ],
                [
                  116.55
                ],
                [
                  228.56
                ],
                [
                  96.59
                ],
                [
                  66.72
                ],
                [
                  240.09
                ],
                [
                  110.85
                ],
                [
                  165.31
                ],
                [
                  143.43
                ],
                [
                  96.16
                ],
                [
                  101.45
                ],
                [
                  88.92
                ],
                [
                  79.79
                ],
                [
                  71.2
                ],
                [
                  96.97
                ],
                [
                  111.81
                ],
                [
                  59.35
                ],
                [
                  86.94
                ],
                [
                  98.55
                ],
                [
                  226.98
                ],
                [
                  72.81
                ],
                [
                  68.02
                ],
                [
                  68.56
                ],
                [
                  64.14
                ],
                [
                  235.63
                ],
                [
                  76.34
                ],
                [
                  240.59
                ],
                [
                  78.92
                ],
                [
                  82.81
                ],
                [
                  74.1
                ],
                [
                  190.32
                ],
                [
                  231.61
                ],
                [
                  78.7
                ],
                [
                  110.52
                ],
                [
                  82.3
                ],
                [
                  73.18
                ],
                [
                  191.82
                ],
                [
                  93.05
                ],
                [
                  64.17
                ],
                [
                  129.98
                ],
                [
                  68.53
                ],
                [
                  106.41
                ],
                [
                  224.1
                ],
                [
                  82.1
                ],
                [
                  216.94
                ],
                [
                  76.11
                ],
                [
                  72.96
                ],
                [
                  82.28
                ],
                [
                  105.22
                ],
                [
                  59.86
                ],
                [
                  62.55
                ],
                [
                  259.63
                ],
                [
                  249.31
                ],
                [
                  219.91
                ],
                [
                  131.41
                ],
                [
                  93.13
                ],
                [
                  73.54
                ],
                [
                  200.59
                ],
                [
                  62.48
                ],
                [
                  190.14
                ],
                [
                  130.54
                ],
                [
                  182.99
                ],
                [
                  101.45
                ],
                [
                  206.09
                ],
                [
                  263.32
                ],
                [
                  140.1
                ],
                [
                  207.28
                ],
                [
                  194.37
                ],
                [
                  199.2
                ],
                [
                  103.68
                ],
                [
                  116.44
                ],
                [
                  70.28
                ],
                [
                  72.17
                ],
                [
                  221.79
                ],
                [
                  151.16
                ],
                [
                  68.43
                ],
                [
                  67.29
                ],
                [
                  67.41
                ],
                [
                  239.07
                ],
                [
                  169.67
                ],
                [
                  223.83
                ],
                [
                  76.57
                ],
                [
                  77.82
                ],
                [
                  92.98
                ],
                [
                  231.56
                ],
                [
                  102.16
                ],
                [
                  221.89
                ],
                [
                  195.71
                ],
                [
                  74.02
                ],
                [
                  57.92
                ],
                [
                  81.76
                ],
                [
                  70.37
                ],
                [
                  203.87
                ],
                [
                  89.13
                ],
                [
                  133.19
                ],
                [
                  162.23
                ],
                [
                  75.02
                ],
                [
                  98.02
                ],
                [
                  91.54
                ],
                [
                  111.98
                ],
                [
                  60.94
                ],
                [
                  97.43
                ],
                [
                  91.02
                ],
                [
                  60.67
                ],
                [
                  185.49
                ],
                [
                  64.44
                ],
                [
                  56.11
                ],
                [
                  110.66
                ],
                [
                  213.22
                ],
                [
                  78.18
                ],
                [
                  111.04
                ],
                [
                  76.13
                ],
                [
                  81.32
                ],
                [
                  112.24
                ],
                [
                  137.3
                ],
                [
                  116.69
                ],
                [
                  215.94
                ],
                [
                  86.62
                ],
                [
                  209.86
                ],
                [
                  205.77
                ],
                [
                  112.16
                ],
                [
                  118.03
                ],
                [
                  271.74
                ],
                [
                  97.92
                ],
                [
                  200.62
                ],
                [
                  242.52
                ],
                [
                  93.81
                ],
                [
                  114.77
                ],
                [
                  74.96
                ],
                [
                  167.13
                ],
                [
                  175.29
                ],
                [
                  90
                ],
                [
                  109.47
                ],
                [
                  87.85
                ],
                [
                  106.74
                ],
                [
                  80.13
                ],
                [
                  90.19
                ],
                [
                  134.8
                ],
                [
                  106.58
                ],
                [
                  83.24
                ],
                [
                  103.43
                ],
                [
                  208.65
                ],
                [
                  74.11
                ],
                [
                  95.84
                ],
                [
                  205.33
                ],
                [
                  116.1
                ],
                [
                  210.4
                ],
                [
                  199.86
                ],
                [
                  219.73
                ],
                [
                  250.89
                ],
                [
                  72.73
                ],
                [
                  205.35
                ],
                [
                  70.3
                ],
                [
                  104.86
                ],
                [
                  216.58
                ],
                [
                  184.4
                ],
                [
                  60.98
                ],
                [
                  97.76
                ],
                [
                  66.03
                ],
                [
                  81.95
                ],
                [
                  97.73
                ],
                [
                  70.94
                ],
                [
                  199.84
                ],
                [
                  218.46
                ],
                [
                  211.06
                ],
                [
                  86.3
                ],
                [
                  162.14
                ],
                [
                  88.2
                ],
                [
                  91.92
                ],
                [
                  76.46
                ],
                [
                  197.28
                ],
                [
                  233.94
                ],
                [
                  247.51
                ],
                [
                  84.96
                ],
                [
                  57.93
                ],
                [
                  78.8
                ],
                [
                  87.8
                ],
                [
                  78.81
                ],
                [
                  95.12
                ],
                [
                  87.96
                ],
                [
                  110.89
                ],
                [
                  69.04
                ],
                [
                  161.28
                ],
                [
                  210.95
                ],
                [
                  77.59
                ],
                [
                  243.53
                ],
                [
                  77.67
                ],
                [
                  205.84
                ],
                [
                  77.08
                ],
                [
                  57.08
                ],
                [
                  162.96
                ],
                [
                  73.5
                ],
                [
                  95.04
                ],
                [
                  85.37
                ],
                [
                  84.62
                ],
                [
                  82.67
                ],
                [
                  57.33
                ],
                [
                  67.84
                ],
                [
                  75.7
                ],
                [
                  129.54
                ],
                [
                  60.22
                ],
                [
                  198.21
                ],
                [
                  109.82
                ],
                [
                  60.84
                ],
                [
                  94.61
                ],
                [
                  97.49
                ],
                [
                  206.72
                ],
                [
                  214.45
                ],
                [
                  82.9
                ],
                [
                  103.26
                ],
                [
                  55.78
                ],
                [
                  73.74
                ],
                [
                  149.75
                ],
                [
                  82.34
                ],
                [
                  62.6
                ],
                [
                  94.09
                ],
                [
                  55.42
                ],
                [
                  82.18
                ],
                [
                  117.92
                ],
                [
                  114.84
                ],
                [
                  79.17
                ],
                [
                  110.63
                ],
                [
                  190.7
                ],
                [
                  79.81
                ],
                [
                  113.63
                ],
                [
                  141.24
                ],
                [
                  56.96
                ],
                [
                  203.04
                ],
                [
                  94.3
                ],
                [
                  81.51
                ],
                [
                  137.74
                ],
                [
                  81.84
                ],
                [
                  242.3
                ],
                [
                  102.64
                ],
                [
                  146.01
                ],
                [
                  75.42
                ],
                [
                  220.49
                ],
                [
                  61.45
                ],
                [
                  88.19
                ],
                [
                  115.22
                ],
                [
                  97.93
                ],
                [
                  85.6
                ],
                [
                  79.83
                ],
                [
                  218.46
                ],
                [
                  62.2
                ],
                [
                  69.15
                ],
                [
                  127.71
                ],
                [
                  216.7
                ],
                [
                  71.89
                ],
                [
                  103.56
                ],
                [
                  79.03
                ],
                [
                  69.94
                ],
                [
                  90.12
                ],
                [
                  95.1
                ],
                [
                  234.58
                ],
                [
                  235.85
                ],
                [
                  78.05
                ],
                [
                  89.44
                ],
                [
                  111.38
                ],
                [
                  243.5
                ],
                [
                  182.2
                ],
                [
                  229.92
                ],
                [
                  82.24
                ],
                [
                  89.84
                ],
                [
                  90.69
                ],
                [
                  84.38
                ],
                [
                  215.6
                ],
                [
                  91.61
                ],
                [
                  138.16
                ],
                [
                  75.23
                ],
                [
                  75.18
                ],
                [
                  106.23
                ],
                [
                  239.64
                ],
                [
                  58.95
                ],
                [
                  99.92
                ],
                [
                  116.23
                ],
                [
                  118.82
                ],
                [
                  66.3
                ],
                [
                  101.41
                ],
                [
                  200.28
                ],
                [
                  136.8
                ],
                [
                  96.57
                ],
                [
                  66.42
                ],
                [
                  98.09
                ],
                [
                  205.23
                ],
                [
                  86.78
                ],
                [
                  126.82
                ],
                [
                  78.4
                ],
                [
                  63.69
                ],
                [
                  209.58
                ],
                [
                  89.86
                ],
                [
                  110.99
                ],
                [
                  83.82
                ],
                [
                  137.96
                ],
                [
                  210.78
                ],
                [
                  118.89
                ],
                [
                  72.55
                ],
                [
                  107.41
                ],
                [
                  93.25
                ],
                [
                  74.91
                ],
                [
                  80.05
                ],
                [
                  99.8
                ],
                [
                  91.97
                ],
                [
                  64.4
                ],
                [
                  73.02
                ],
                [
                  88.11
                ],
                [
                  138.29
                ],
                [
                  72.36
                ],
                [
                  68.76
                ],
                [
                  106.22
                ],
                [
                  101.52
                ],
                [
                  109.51
                ],
                [
                  85.84
                ],
                [
                  110.15
                ],
                [
                  91.72
                ],
                [
                  251.6
                ],
                [
                  123.1
                ],
                [
                  97.4
                ],
                [
                  68.34
                ],
                [
                  80.81
                ],
                [
                  120.31
                ],
                [
                  83.51
                ],
                [
                  74.09
                ],
                [
                  91.6
                ],
                [
                  87.52
                ],
                [
                  213.37
                ],
                [
                  75.39
                ],
                [
                  122.41
                ],
                [
                  223.36
                ],
                [
                  84.59
                ],
                [
                  70.16
                ],
                [
                  107.52
                ],
                [
                  80.88
                ],
                [
                  93.48
                ],
                [
                  70.21
                ],
                [
                  86.67
                ],
                [
                  101.37
                ],
                [
                  105.22
                ],
                [
                  70.31
                ],
                [
                  64.06
                ],
                [
                  178.29
                ],
                [
                  81.6
                ],
                [
                  147.48
                ],
                [
                  86.86
                ],
                [
                  71.16
                ],
                [
                  73.2
                ],
                [
                  203.81
                ],
                [
                  82
                ],
                [
                  97.55
                ],
                [
                  94.29
                ],
                [
                  75.22
                ],
                [
                  90.07
                ],
                [
                  73.73
                ],
                [
                  79.58
                ],
                [
                  77.88
                ],
                [
                  205.26
                ],
                [
                  58.63
                ],
                [
                  139.9
                ],
                [
                  211.03
                ],
                [
                  72.79
                ],
                [
                  91.65
                ],
                [
                  79.92
                ],
                [
                  225.47
                ],
                [
                  94.48
                ],
                [
                  82.34
                ],
                [
                  180.63
                ],
                [
                  92.48
                ],
                [
                  116.66
                ],
                [
                  112.09
                ],
                [
                  130.34
                ],
                [
                  82.59
                ],
                [
                  123.87
                ],
                [
                  98.7
                ],
                [
                  227.1
                ],
                [
                  55.39
                ],
                [
                  66.07
                ],
                [
                  104.21
                ],
                [
                  145.15
                ],
                [
                  68.19
                ],
                [
                  97.53
                ],
                [
                  122.31
                ],
                [
                  83.51
                ],
                [
                  86.46
                ],
                [
                  112.06
                ],
                [
                  92.14
                ],
                [
                  201.76
                ],
                [
                  74.44
                ],
                [
                  95.93
                ],
                [
                  87.51
                ],
                [
                  72.35
                ],
                [
                  113.47
                ],
                [
                  103.78
                ],
                [
                  115.43
                ],
                [
                  95.59
                ],
                [
                  101.52
                ],
                [
                  170.05
                ],
                [
                  217.3
                ],
                [
                  196.01
                ],
                [
                  92.21
                ],
                [
                  100.09
                ],
                [
                  93.88
                ],
                [
                  75.05
                ],
                [
                  70.08
                ],
                [
                  74.2
                ],
                [
                  69.01
                ],
                [
                  96.17
                ],
                [
                  184.15
                ],
                [
                  87.24
                ],
                [
                  198.69
                ],
                [
                  82.58
                ],
                [
                  96.88
                ],
                [
                  73.32
                ],
                [
                  94.59
                ],
                [
                  132.08
                ],
                [
                  98.99
                ],
                [
                  104.48
                ],
                [
                  98.01
                ],
                [
                  79.14
                ],
                [
                  89.32
                ],
                [
                  65.24
                ],
                [
                  80.98
                ],
                [
                  186.17
                ],
                [
                  69.24
                ],
                [
                  111.19
                ],
                [
                  93.28
                ],
                [
                  122.19
                ],
                [
                  129.53
                ],
                [
                  114.53
                ],
                [
                  93.73
                ],
                [
                  77.49
                ],
                [
                  65.38
                ],
                [
                  94.18
                ],
                [
                  118.7
                ],
                [
                  96.29
                ],
                [
                  74.64
                ],
                [
                  96.99
                ],
                [
                  100.61
                ],
                [
                  97.08
                ],
                [
                  84.79
                ],
                [
                  78.75
                ],
                [
                  82.93
                ],
                [
                  88.78
                ],
                [
                  122.1
                ],
                [
                  74.81
                ],
                [
                  183.45
                ],
                [
                  114.94
                ],
                [
                  104.38
                ],
                [
                  102.91
                ],
                [
                  108.79
                ],
                [
                  73.31
                ],
                [
                  68.52
                ],
                [
                  89.77
                ],
                [
                  102.64
                ],
                [
                  70.92
                ],
                [
                  86.11
                ],
                [
                  129.16
                ],
                [
                  113.85
                ],
                [
                  79.35
                ],
                [
                  80.79
                ],
                [
                  114.01
                ],
                [
                  93.74
                ],
                [
                  90.65
                ],
                [
                  98.41
                ],
                [
                  127.18
                ],
                [
                  138.06
                ],
                [
                  89.44
                ],
                [
                  105.61
                ],
                [
                  155.43
                ],
                [
                  80.83
                ],
                [
                  80.19
                ],
                [
                  60.34
                ],
                [
                  79.3
                ],
                [
                  98.44
                ],
                [
                  210.48
                ],
                [
                  70.34
                ],
                [
                  122.22
                ],
                [
                  75.29
                ],
                [
                  100.35
                ],
                [
                  193.83
                ],
                [
                  126.96
                ],
                [
                  183.34
                ],
                [
                  247.69
                ],
                [
                  76.2
                ],
                [
                  71.43
                ],
                [
                  93.36
                ],
                [
                  61.29
                ],
                [
                  103.62
                ],
                [
                  100.52
                ],
                [
                  191.47
                ],
                [
                  67.06
                ],
                [
                  144.1
                ],
                [
                  58.26
                ],
                [
                  239.82
                ],
                [
                  73.71
                ],
                [
                  88.53
                ],
                [
                  114.79
                ],
                [
                  113.8
                ],
                [
                  71.91
                ],
                [
                  65.3
                ],
                [
                  189.57
                ],
                [
                  114.25
                ],
                [
                  81.26
                ],
                [
                  87.88
                ],
                [
                  112.17
                ],
                [
                  99.97
                ],
                [
                  207.58
                ],
                [
                  109.16
                ],
                [
                  74.46
                ],
                [
                  118.51
                ],
                [
                  107.47
                ],
                [
                  182.86
                ],
                [
                  59.17
                ],
                [
                  215.64
                ],
                [
                  163.7
                ],
                [
                  196.36
                ],
                [
                  139.77
                ],
                [
                  141.23
                ],
                [
                  89.99
                ],
                [
                  108.53
                ],
                [
                  63.61
                ],
                [
                  85.54
                ],
                [
                  100.83
                ],
                [
                  59.82
                ],
                [
                  105.95
                ],
                [
                  188.11
                ],
                [
                  71.15
                ],
                [
                  60.53
                ],
                [
                  205.5
                ],
                [
                  204.86
                ],
                [
                  115.03
                ],
                [
                  79.87
                ],
                [
                  97.89
                ],
                [
                  125.26
                ],
                [
                  114.32
                ],
                [
                  92.23
                ],
                [
                  83.51
                ],
                [
                  102.34
                ],
                [
                  144.48
                ],
                [
                  88.39
                ],
                [
                  228.08
                ],
                [
                  93.79
                ],
                [
                  147.14
                ],
                [
                  106.43
                ],
                [
                  88.04
                ],
                [
                  92.2
                ],
                [
                  219.53
                ],
                [
                  75.56
                ],
                [
                  158.31
                ],
                [
                  111.43
                ],
                [
                  219.97
                ],
                [
                  148.91
                ],
                [
                  69.4
                ],
                [
                  68.34
                ],
                [
                  58.37
                ],
                [
                  71.2
                ],
                [
                  101.5
                ],
                [
                  92.04
                ],
                [
                  73
                ],
                [
                  111.15
                ],
                [
                  58.65
                ],
                [
                  100.54
                ],
                [
                  111.73
                ],
                [
                  97.78
                ],
                [
                  85.79
                ],
                [
                  98.54
                ],
                [
                  94.62
                ],
                [
                  112.43
                ],
                [
                  99.67
                ],
                [
                  67.39
                ],
                [
                  95.12
                ],
                [
                  85.06
                ],
                [
                  214.05
                ],
                [
                  79.09
                ],
                [
                  98.09
                ],
                [
                  76.36
                ],
                [
                  98.42
                ],
                [
                  82.01
                ],
                [
                  56.11
                ],
                [
                  111.85
                ],
                [
                  92.39
                ],
                [
                  112.54
                ],
                [
                  63.71
                ],
                [
                  70.35
                ],
                [
                  94.65
                ],
                [
                  64.64
                ],
                [
                  57.27
                ],
                [
                  107.25
                ],
                [
                  77.12
                ],
                [
                  55.32
                ],
                [
                  69.37
                ],
                [
                  57.57
                ],
                [
                  87.43
                ],
                [
                  98.73
                ],
                [
                  81.18
                ],
                [
                  56.23
                ],
                [
                  69.61
                ],
                [
                  59.49
                ],
                [
                  118.14
                ],
                [
                  100.26
                ],
                [
                  56.75
                ],
                [
                  88.27
                ],
                [
                  67.81
                ],
                [
                  77.46
                ],
                [
                  76.26
                ],
                [
                  86.39
                ],
                [
                  116.38
                ],
                [
                  75.74
                ],
                [
                  92.14
                ],
                [
                  149.95
                ],
                [
                  92.11
                ],
                [
                  74.98
                ],
                [
                  55.25
                ],
                [
                  79.89
                ],
                [
                  130.61
                ],
                [
                  94.26
                ],
                [
                  94.34
                ],
                [
                  109.03
                ],
                [
                  81.03
                ],
                [
                  99.82
                ],
                [
                  140.08
                ],
                [
                  59.54
                ],
                [
                  80.33
                ],
                [
                  131.51
                ],
                [
                  89.21
                ],
                [
                  91.45
                ],
                [
                  90.58
                ],
                [
                  91.45
                ],
                [
                  89.63
                ],
                [
                  124.06
                ],
                [
                  99.47
                ],
                [
                  88.97
                ],
                [
                  80.93
                ],
                [
                  102.07
                ],
                [
                  91.69
                ],
                [
                  63.71
                ],
                [
                  200.49
                ],
                [
                  75.3
                ],
                [
                  240.71
                ],
                [
                  60.5
                ],
                [
                  131.85
                ],
                [
                  134.39
                ],
                [
                  56.18
                ],
                [
                  113.64
                ],
                [
                  156.57
                ],
                [
                  80.4
                ],
                [
                  59.26
                ],
                [
                  63.26
                ],
                [
                  86.24
                ],
                [
                  197.1
                ],
                [
                  90.9
                ],
                [
                  84.59
                ],
                [
                  121.8
                ],
                [
                  77.65
                ],
                [
                  64.41
                ],
                [
                  75.19
                ],
                [
                  67.97
                ],
                [
                  119.34
                ],
                [
                  94.92
                ],
                [
                  107.42
                ],
                [
                  85.02
                ],
                [
                  103.51
                ],
                [
                  114.5
                ],
                [
                  70.78
                ],
                [
                  95.01
                ],
                [
                  84.11
                ],
                [
                  74.02
                ],
                [
                  78.49
                ],
                [
                  74.22
                ],
                [
                  55.34
                ],
                [
                  75.04
                ],
                [
                  109.73
                ],
                [
                  95.81
                ],
                [
                  96.78
                ],
                [
                  194.62
                ],
                [
                  70.02
                ],
                [
                  222.21
                ],
                [
                  62.41
                ],
                [
                  55.83
                ],
                [
                  65.12
                ],
                [
                  73.62
                ],
                [
                  85.83
                ],
                [
                  103.86
                ],
                [
                  60.98
                ],
                [
                  82.69
                ],
                [
                  250.2
                ],
                [
                  128.97
                ],
                [
                  84.31
                ],
                [
                  74.8
                ],
                [
                  97.06
                ],
                [
                  77.54
                ],
                [
                  92.78
                ],
                [
                  173.43
                ],
                [
                  79.08
                ],
                [
                  106.18
                ],
                [
                  114.21
                ],
                [
                  91.08
                ],
                [
                  105.77
                ],
                [
                  74.88
                ],
                [
                  123.15
                ],
                [
                  184.25
                ],
                [
                  117.69
                ],
                [
                  55.26
                ],
                [
                  106.51
                ],
                [
                  55.27
                ],
                [
                  98.42
                ],
                [
                  99.2
                ],
                [
                  98.92
                ],
                [
                  92.7
                ],
                [
                  106.7
                ],
                [
                  152.81
                ],
                [
                  82.59
                ],
                [
                  91
                ],
                [
                  93.88
                ],
                [
                  76.99
                ],
                [
                  254.6
                ],
                [
                  93.99
                ],
                [
                  109.68
                ],
                [
                  92.04
                ],
                [
                  111.41
                ],
                [
                  97.92
                ],
                [
                  65.61
                ],
                [
                  62.37
                ],
                [
                  101.28
                ],
                [
                  88.31
                ],
                [
                  103.55
                ],
                [
                  60.26
                ],
                [
                  79.39
                ],
                [
                  122.01
                ],
                [
                  78.09
                ],
                [
                  89.7
                ],
                [
                  95.1
                ],
                [
                  112.64
                ],
                [
                  79.8
                ],
                [
                  82.2
                ],
                [
                  108.89
                ],
                [
                  114.32
                ],
                [
                  116.14
                ],
                [
                  122.74
                ],
                [
                  94.04
                ],
                [
                  86.6
                ],
                [
                  82.32
                ],
                [
                  83.83
                ],
                [
                  106.98
                ],
                [
                  93.88
                ],
                [
                  70.53
                ],
                [
                  212.01
                ],
                [
                  65.88
                ],
                [
                  106.97
                ],
                [
                  126.35
                ],
                [
                  129.16
                ],
                [
                  88.66
                ],
                [
                  112.95
                ],
                [
                  81.59
                ],
                [
                  76.82
                ],
                [
                  73.75
                ],
                [
                  91.56
                ],
                [
                  104.55
                ],
                [
                  84.84
                ],
                [
                  86.06
                ],
                [
                  109.1
                ],
                [
                  68.35
                ],
                [
                  121.04
                ],
                [
                  160.83
                ],
                [
                  85.62
                ],
                [
                  74.23
                ],
                [
                  110.76
                ],
                [
                  79.44
                ],
                [
                  119.52
                ],
                [
                  90.42
                ],
                [
                  109.32
                ],
                [
                  78.16
                ],
                [
                  79.13
                ],
                [
                  84.06
                ],
                [
                  89.3
                ],
                [
                  69.21
                ],
                [
                  186.45
                ],
                [
                  58.47
                ],
                [
                  189.49
                ],
                [
                  99.6
                ],
                [
                  126.18
                ],
                [
                  186.32
                ],
                [
                  62.49
                ],
                [
                  74.51
                ],
                [
                  94.63
                ],
                [
                  91.98
                ],
                [
                  56.77
                ],
                [
                  75.87
                ],
                [
                  77.19
                ],
                [
                  135.75
                ],
                [
                  100.15
                ],
                [
                  95.08
                ],
                [
                  125.38
                ],
                [
                  111.71
                ],
                [
                  94.64
                ],
                [
                  226.7
                ],
                [
                  112.96
                ],
                [
                  183.1
                ],
                [
                  105.36
                ],
                [
                  84.13
                ],
                [
                  102.47
                ],
                [
                  77.04
                ],
                [
                  83.23
                ],
                [
                  87.01
                ],
                [
                  56.99
                ],
                [
                  73.01
                ],
                [
                  106.35
                ],
                [
                  80.63
                ],
                [
                  103.61
                ],
                [
                  91.35
                ],
                [
                  194.04
                ],
                [
                  111.99
                ],
                [
                  57.51
                ],
                [
                  68.49
                ],
                [
                  60.2
                ],
                [
                  160
                ],
                [
                  86.96
                ],
                [
                  237.15
                ],
                [
                  99.06
                ],
                [
                  56.31
                ],
                [
                  84.31
                ],
                [
                  90.92
                ],
                [
                  104.33
                ],
                [
                  62.61
                ],
                [
                  231.19
                ],
                [
                  94.3
                ],
                [
                  104.48
                ],
                [
                  72.62
                ],
                [
                  81.64
                ],
                [
                  90.78
                ],
                [
                  70.71
                ],
                [
                  72.36
                ],
                [
                  59.76
                ],
                [
                  83.76
                ],
                [
                  63.64
                ],
                [
                  76.26
                ],
                [
                  82.06
                ],
                [
                  110.91
                ],
                [
                  77.16
                ],
                [
                  69.58
                ],
                [
                  96.26
                ],
                [
                  87.27
                ],
                [
                  65.36
                ],
                [
                  109.51
                ],
                [
                  89.03
                ],
                [
                  91.34
                ],
                [
                  57.82
                ],
                [
                  81.15
                ],
                [
                  115.29
                ],
                [
                  111.02
                ],
                [
                  111.61
                ],
                [
                  109.02
                ],
                [
                  106.51
                ],
                [
                  207.32
                ],
                [
                  87.11
                ],
                [
                  61.68
                ],
                [
                  119.04
                ],
                [
                  86.05
                ],
                [
                  70.03
                ],
                [
                  207.64
                ],
                [
                  236.84
                ],
                [
                  78.11
                ],
                [
                  100.97
                ],
                [
                  99.21
                ],
                [
                  113.21
                ],
                [
                  92.95
                ],
                [
                  110.16
                ],
                [
                  142.57
                ],
                [
                  92.87
                ],
                [
                  111.48
                ],
                [
                  123
                ],
                [
                  100.54
                ],
                [
                  106.68
                ],
                [
                  86.4
                ],
                [
                  61.81
                ],
                [
                  128.28
                ],
                [
                  204.63
                ],
                [
                  89.98
                ],
                [
                  232.89
                ],
                [
                  98.58
                ],
                [
                  57.94
                ],
                [
                  123.21
                ],
                [
                  76.34
                ],
                [
                  92.98
                ],
                [
                  92.81
                ],
                [
                  85.16
                ],
                [
                  90.1
                ],
                [
                  65.15
                ],
                [
                  104.62
                ],
                [
                  113.25
                ],
                [
                  59.28
                ],
                [
                  93.07
                ],
                [
                  77.42
                ],
                [
                  73.69
                ],
                [
                  74.9
                ],
                [
                  88.27
                ],
                [
                  58.39
                ],
                [
                  102.05
                ],
                [
                  112.47
                ],
                [
                  72.84
                ],
                [
                  195.03
                ],
                [
                  170.95
                ],
                [
                  87.98
                ],
                [
                  65.81
                ],
                [
                  124.6
                ],
                [
                  83.65
                ],
                [
                  88.81
                ],
                [
                  86.75
                ],
                [
                  123.36
                ],
                [
                  89.68
                ],
                [
                  69.87
                ],
                [
                  109.22
                ],
                [
                  157.57
                ],
                [
                  110.73
                ],
                [
                  99.14
                ],
                [
                  59.15
                ],
                [
                  165.11
                ],
                [
                  77.44
                ],
                [
                  100.33
                ],
                [
                  57.93
                ],
                [
                  148.24
                ],
                [
                  91.96
                ],
                [
                  72.93
                ],
                [
                  84.27
                ],
                [
                  124.45
                ],
                [
                  90.51
                ],
                [
                  118.87
                ],
                [
                  56.42
                ],
                [
                  73.67
                ],
                [
                  89.11
                ]
              ],
              "plotOptions": {
                "displayType": "boxPlot",
                "customPlotOptions": {
                  "plotlyBar": [
                    {
                      "key": "grouped",
                      "value": true
                    },
                    {
                      "key": "stacked",
                      "value": false
                    },
                    {
                      "key": "100_stacked",
                      "value": false
                    }
                  ],
                  "boxPlot": []
                },
                "pivotColumns": [],
                "pivotAggregation": "sum",
                "xColumns": [],
                "yColumns": [
                  "avg_glucose_level"
                ]
              },
              "columnCustomDisplayInfos": {},
              "aggType": "",
              "isJsonSchema": true,
              "removedWidgets": [],
              "aggSchema": [],
              "schema": [
                {
                  "name": "avg_glucose_level",
                  "type": "\"double\"",
                  "metadata": "{}"
                }
              ],
              "aggError": "",
              "aggData": [],
              "addedWidgets": {},
              "dbfsResultPath": null,
              "type": "table",
              "aggOverflow": false,
              "aggSeriesLimitReached": false,
              "arguments": {}
            }
          }
        }
      ]
    },
    {
      "cell_type": "markdown",
      "metadata": {
        "application/vnd.databricks.v1+cell": {
          "title": "",
          "showTitle": false,
          "inputWidgets": {},
          "nuid": "afe0265d-112b-4c2e-9d1c-9426841af2ee"
        },
        "id": "vRFEi3szoxDU"
      },
      "source": [
        "###**Verificando a existência de outliers no dataset através de box-plot**"
      ]
    },
    {
      "cell_type": "code",
      "metadata": {
        "application/vnd.databricks.v1+cell": {
          "title": "",
          "showTitle": false,
          "inputWidgets": {},
          "nuid": "89c902b6-0e34-4f86-ad46-743d84467dbb"
        },
        "id": "xL6EdOQ4oxDU",
        "outputId": "35bc223e-d617-4766-9e65-a01625b9ecaf"
      },
      "source": [
        "#boxplot\n",
        "display(dataset_desafio.select('age'))"
      ],
      "execution_count": null,
      "outputs": [
        {
          "output_type": "display_data",
          "data": {
            "text/html": [
              "<style scoped>\n",
              "  .table-result-container {\n",
              "    max-height: 300px;\n",
              "    overflow: auto;\n",
              "  }\n",
              "  table, th, td {\n",
              "    border: 1px solid black;\n",
              "    border-collapse: collapse;\n",
              "  }\n",
              "  th, td {\n",
              "    padding: 5px;\n",
              "  }\n",
              "  th {\n",
              "    text-align: left;\n",
              "  }\n",
              "</style><div class='table-result-container'><table class='table-result'><thead style='background-color: white'><tr><th>age</th></tr></thead><tbody><tr><td>67.0</td></tr><tr><td>61.0</td></tr><tr><td>80.0</td></tr><tr><td>49.0</td></tr><tr><td>79.0</td></tr><tr><td>81.0</td></tr><tr><td>74.0</td></tr><tr><td>69.0</td></tr><tr><td>59.0</td></tr><tr><td>78.0</td></tr><tr><td>81.0</td></tr><tr><td>61.0</td></tr><tr><td>54.0</td></tr><tr><td>78.0</td></tr><tr><td>79.0</td></tr><tr><td>50.0</td></tr><tr><td>64.0</td></tr><tr><td>75.0</td></tr><tr><td>60.0</td></tr><tr><td>57.0</td></tr><tr><td>71.0</td></tr><tr><td>52.0</td></tr><tr><td>79.0</td></tr><tr><td>82.0</td></tr><tr><td>71.0</td></tr><tr><td>80.0</td></tr><tr><td>65.0</td></tr><tr><td>58.0</td></tr><tr><td>69.0</td></tr><tr><td>59.0</td></tr><tr><td>57.0</td></tr><tr><td>42.0</td></tr><tr><td>82.0</td></tr><tr><td>80.0</td></tr><tr><td>48.0</td></tr><tr><td>82.0</td></tr><tr><td>74.0</td></tr><tr><td>72.0</td></tr><tr><td>58.0</td></tr><tr><td>49.0</td></tr><tr><td>78.0</td></tr><tr><td>54.0</td></tr><tr><td>82.0</td></tr><tr><td>63.0</td></tr><tr><td>60.0</td></tr><tr><td>76.0</td></tr><tr><td>75.0</td></tr><tr><td>58.0</td></tr><tr><td>81.0</td></tr><tr><td>39.0</td></tr><tr><td>76.0</td></tr><tr><td>78.0</td></tr><tr><td>79.0</td></tr><tr><td>77.0</td></tr><tr><td>63.0</td></tr><tr><td>63.0</td></tr><tr><td>82.0</td></tr><tr><td>78.0</td></tr><tr><td>73.0</td></tr><tr><td>54.0</td></tr><tr><td>56.0</td></tr><tr><td>80.0</td></tr><tr><td>67.0</td></tr><tr><td>45.0</td></tr><tr><td>75.0</td></tr><tr><td>78.0</td></tr><tr><td>70.0</td></tr><tr><td>76.0</td></tr><tr><td>59.0</td></tr><tr><td>80.0</td></tr><tr><td>76.0</td></tr><tr><td>67.0</td></tr><tr><td>66.0</td></tr><tr><td>63.0</td></tr><tr><td>52.0</td></tr><tr><td>80.0</td></tr><tr><td>80.0</td></tr><tr><td>79.0</td></tr><tr><td>51.0</td></tr><tr><td>43.0</td></tr><tr><td>59.0</td></tr><tr><td>66.0</td></tr><tr><td>79.0</td></tr><tr><td>68.0</td></tr><tr><td>58.0</td></tr><tr><td>54.0</td></tr><tr><td>61.0</td></tr><tr><td>70.0</td></tr><tr><td>47.0</td></tr><tr><td>74.0</td></tr><tr><td>79.0</td></tr><tr><td>81.0</td></tr><tr><td>57.0</td></tr><tr><td>80.0</td></tr><tr><td>45.0</td></tr><tr><td>78.0</td></tr><tr><td>70.0</td></tr><tr><td>58.0</td></tr><tr><td>57.0</td></tr><tr><td>69.0</td></tr><tr><td>64.0</td></tr><tr><td>77.0</td></tr><tr><td>74.0</td></tr><tr><td>81.0</td></tr><tr><td>57.0</td></tr><tr><td>58.0</td></tr><tr><td>50.0</td></tr><tr><td>54.0</td></tr><tr><td>79.0</td></tr><tr><td>53.0</td></tr><tr><td>79.0</td></tr><tr><td>80.0</td></tr><tr><td>76.0</td></tr><tr><td>45.0</td></tr><tr><td>68.0</td></tr><tr><td>71.0</td></tr><tr><td>61.0</td></tr><tr><td>74.0</td></tr><tr><td>38.0</td></tr><tr><td>77.0</td></tr><tr><td>58.0</td></tr><tr><td>53.0</td></tr><tr><td>80.0</td></tr><tr><td>56.0</td></tr><tr><td>72.0</td></tr><tr><td>72.0</td></tr><tr><td>78.0</td></tr><tr><td>80.0</td></tr><tr><td>82.0</td></tr><tr><td>75.0</td></tr><tr><td>73.0</td></tr><tr><td>78.0</td></tr><tr><td>69.0</td></tr><tr><td>38.0</td></tr><tr><td>68.0</td></tr><tr><td>71.0</td></tr><tr><td>76.0</td></tr><tr><td>76.0</td></tr><tr><td>76.0</td></tr><tr><td>75.0</td></tr><tr><td>82.0</td></tr><tr><td>59.0</td></tr><tr><td>74.0</td></tr><tr><td>69.0</td></tr><tr><td>72.0</td></tr><tr><td>66.0</td></tr><tr><td>65.0</td></tr><tr><td>78.0</td></tr><tr><td>57.0</td></tr><tr><td>70.0</td></tr><tr><td>79.0</td></tr><tr><td>68.0</td></tr><tr><td>80.0</td></tr><tr><td>68.0</td></tr><tr><td>55.0</td></tr><tr><td>77.0</td></tr><tr><td>50.0</td></tr><tr><td>57.0</td></tr><tr><td>71.0</td></tr><tr><td>81.0</td></tr><tr><td>76.0</td></tr><tr><td>71.0</td></tr><tr><td>1.32</td></tr><tr><td>78.0</td></tr><tr><td>70.0</td></tr><tr><td>78.0</td></tr><tr><td>56.0</td></tr><tr><td>79.0</td></tr><tr><td>79.0</td></tr><tr><td>81.0</td></tr><tr><td>64.0</td></tr><tr><td>79.0</td></tr><tr><td>60.0</td></tr><tr><td>80.0</td></tr><tr><td>78.0</td></tr><tr><td>72.0</td></tr><tr><td>80.0</td></tr><tr><td>78.0</td></tr><tr><td>80.0</td></tr><tr><td>81.0</td></tr><tr><td>46.0</td></tr><tr><td>59.0</td></tr><tr><td>32.0</td></tr><tr><td>77.0</td></tr><tr><td>61.0</td></tr><tr><td>63.0</td></tr><tr><td>63.0</td></tr><tr><td>82.0</td></tr><tr><td>82.0</td></tr><tr><td>61.0</td></tr><tr><td>65.0</td></tr><tr><td>51.0</td></tr><tr><td>59.0</td></tr><tr><td>68.0</td></tr><tr><td>72.0</td></tr><tr><td>59.0</td></tr><tr><td>70.0</td></tr><tr><td>69.0</td></tr><tr><td>79.0</td></tr><tr><td>74.0</td></tr><tr><td>74.0</td></tr><tr><td>80.0</td></tr><tr><td>77.0</td></tr><tr><td>78.0</td></tr><tr><td>54.0</td></tr><tr><td>78.0</td></tr><tr><td>81.0</td></tr><tr><td>78.0</td></tr><tr><td>78.0</td></tr><tr><td>63.0</td></tr><tr><td>39.0</td></tr><tr><td>51.0</td></tr><tr><td>63.0</td></tr><tr><td>48.0</td></tr><tr><td>81.0</td></tr><tr><td>79.0</td></tr><tr><td>78.0</td></tr><tr><td>55.0</td></tr><tr><td>76.0</td></tr><tr><td>73.0</td></tr><tr><td>81.0</td></tr><tr><td>79.0</td></tr><tr><td>63.0</td></tr><tr><td>81.0</td></tr><tr><td>49.0</td></tr><tr><td>57.0</td></tr><tr><td>81.0</td></tr><tr><td>74.0</td></tr><tr><td>39.0</td></tr><tr><td>80.0</td></tr><tr><td>81.0</td></tr><tr><td>79.0</td></tr><tr><td>73.0</td></tr><tr><td>77.0</td></tr><tr><td>78.0</td></tr><tr><td>68.0</td></tr><tr><td>57.0</td></tr><tr><td>77.0</td></tr><tr><td>51.0</td></tr><tr><td>60.0</td></tr><tr><td>66.0</td></tr><tr><td>57.0</td></tr><tr><td>68.0</td></tr><tr><td>68.0</td></tr><tr><td>57.0</td></tr><tr><td>14.0</td></tr><tr><td>75.0</td></tr><tr><td>71.0</td></tr><tr><td>78.0</td></tr><tr><td>3.0</td></tr><tr><td>58.0</td></tr><tr><td>8.0</td></tr><tr><td>70.0</td></tr><tr><td>14.0</td></tr><tr><td>47.0</td></tr><tr><td>52.0</td></tr><tr><td>75.0</td></tr><tr><td>32.0</td></tr><tr><td>74.0</td></tr><tr><td>79.0</td></tr><tr><td>79.0</td></tr><tr><td>37.0</td></tr><tr><td>37.0</td></tr><tr><td>40.0</td></tr><tr><td>35.0</td></tr><tr><td>20.0</td></tr><tr><td>42.0</td></tr><tr><td>44.0</td></tr><tr><td>79.0</td></tr><tr><td>65.0</td></tr><tr><td>57.0</td></tr><tr><td>49.0</td></tr><tr><td>71.0</td></tr><tr><td>59.0</td></tr><tr><td>25.0</td></tr><tr><td>67.0</td></tr><tr><td>38.0</td></tr><tr><td>54.0</td></tr><tr><td>70.0</td></tr><tr><td>27.0</td></tr><tr><td>47.0</td></tr><tr><td>58.0</td></tr><tr><td>3.0</td></tr><tr><td>58.0</td></tr><tr><td>14.0</td></tr><tr><td>32.0</td></tr><tr><td>23.0</td></tr><tr><td>55.0</td></tr><tr><td>17.0</td></tr><tr><td>59.0</td></tr><tr><td>13.0</td></tr><tr><td>4.0</td></tr><tr><td>16.0</td></tr><tr><td>67.0</td></tr><tr><td>22.0</td></tr><tr><td>45.0</td></tr><tr><td>66.0</td></tr><tr><td>58.0</td></tr><tr><td>69.0</td></tr><tr><td>58.0</td></tr><tr><td>53.0</td></tr><tr><td>78.0</td></tr><tr><td>44.0</td></tr><tr><td>66.0</td></tr><tr><td>27.0</td></tr><tr><td>43.0</td></tr><tr><td>13.0</td></tr><tr><td>51.0</td></tr><tr><td>30.0</td></tr><tr><td>46.0</td></tr><tr><td>43.0</td></tr><tr><td>79.0</td></tr><tr><td>27.0</td></tr><tr><td>38.0</td></tr><tr><td>78.0</td></tr><tr><td>57.0</td></tr><tr><td>61.0</td></tr><tr><td>37.0</td></tr><tr><td>48.0</td></tr><tr><td>29.0</td></tr><tr><td>22.0</td></tr><tr><td>11.0</td></tr><tr><td>22.0</td></tr><tr><td>53.0</td></tr><tr><td>27.0</td></tr><tr><td>76.0</td></tr><tr><td>57.0</td></tr><tr><td>8.0</td></tr><tr><td>21.0</td></tr><tr><td>18.0</td></tr><tr><td>78.0</td></tr><tr><td>78.0</td></tr><tr><td>33.0</td></tr><tr><td>52.0</td></tr><tr><td>51.0</td></tr><tr><td>11.0</td></tr><tr><td>48.0</td></tr><tr><td>82.0</td></tr><tr><td>54.0</td></tr><tr><td>49.0</td></tr><tr><td>24.0</td></tr><tr><td>37.0</td></tr><tr><td>34.0</td></tr><tr><td>64.0</td></tr><tr><td>66.0</td></tr><tr><td>23.0</td></tr><tr><td>68.0</td></tr><tr><td>55.0</td></tr><tr><td>25.0</td></tr><tr><td>48.0</td></tr><tr><td>79.0</td></tr><tr><td>47.0</td></tr><tr><td>20.0</td></tr><tr><td>60.0</td></tr><tr><td>32.0</td></tr><tr><td>66.0</td></tr><tr><td>43.0</td></tr><tr><td>36.0</td></tr><tr><td>52.0</td></tr><tr><td>29.0</td></tr><tr><td>76.0</td></tr><tr><td>39.0</td></tr><tr><td>76.0</td></tr><tr><td>0.64</td></tr><tr><td>34.0</td></tr><tr><td>72.0</td></tr><tr><td>43.0</td></tr><tr><td>57.0</td></tr><tr><td>44.0</td></tr><tr><td>4.0</td></tr><tr><td>44.0</td></tr><tr><td>18.0</td></tr><tr><td>41.0</td></tr><tr><td>23.0</td></tr><tr><td>53.0</td></tr><tr><td>56.0</td></tr><tr><td>0.88</td></tr><tr><td>25.0</td></tr><tr><td>14.0</td></tr><tr><td>53.0</td></tr><tr><td>4.0</td></tr><tr><td>39.0</td></tr><tr><td>53.0</td></tr><tr><td>5.0</td></tr><tr><td>4.0</td></tr><tr><td>37.0</td></tr><tr><td>70.0</td></tr><tr><td>24.0</td></tr><tr><td>55.0</td></tr><tr><td>70.0</td></tr><tr><td>34.0</td></tr><tr><td>26.0</td></tr><tr><td>39.0</td></tr><tr><td>38.0</td></tr><tr><td>20.0</td></tr><tr><td>17.0</td></tr><tr><td>60.0</td></tr><tr><td>75.0</td></tr><tr><td>31.0</td></tr><tr><td>58.0</td></tr><tr><td>5.0</td></tr><tr><td>13.0</td></tr><tr><td>22.0</td></tr><tr><td>52.0</td></tr><tr><td>61.0</td></tr><tr><td>78.0</td></tr><tr><td>57.0</td></tr><tr><td>21.0</td></tr><tr><td>22.0</td></tr><tr><td>80.0</td></tr><tr><td>7.0</td></tr><tr><td>64.0</td></tr><tr><td>64.0</td></tr><tr><td>38.0</td></tr><tr><td>12.0</td></tr><tr><td>33.0</td></tr><tr><td>3.0</td></tr><tr><td>37.0</td></tr><tr><td>22.0</td></tr><tr><td>24.0</td></tr><tr><td>75.0</td></tr><tr><td>12.0</td></tr><tr><td>63.0</td></tr><tr><td>52.0</td></tr><tr><td>68.0</td></tr><tr><td>5.0</td></tr><tr><td>56.0</td></tr><tr><td>43.0</td></tr><tr><td>40.0</td></tr><tr><td>53.0</td></tr><tr><td>52.0</td></tr><tr><td>31.0</td></tr><tr><td>63.0</td></tr><tr><td>69.0</td></tr><tr><td>64.0</td></tr><tr><td>64.0</td></tr><tr><td>62.0</td></tr><tr><td>2.0</td></tr><tr><td>53.0</td></tr><tr><td>65.0</td></tr><tr><td>22.0</td></tr><tr><td>26.0</td></tr><tr><td>53.0</td></tr><tr><td>20.0</td></tr><tr><td>63.0</td></tr><tr><td>13.0</td></tr><tr><td>21.0</td></tr><tr><td>65.0</td></tr><tr><td>65.0</td></tr><tr><td>42.0</td></tr><tr><td>72.0</td></tr><tr><td>13.0</td></tr><tr><td>29.0</td></tr><tr><td>59.0</td></tr><tr><td>42.0</td></tr><tr><td>13.0</td></tr><tr><td>75.0</td></tr><tr><td>33.0</td></tr><tr><td>43.0</td></tr><tr><td>11.0</td></tr><tr><td>7.0</td></tr><tr><td>16.0</td></tr><tr><td>44.0</td></tr><tr><td>78.0</td></tr><tr><td>25.0</td></tr><tr><td>69.0</td></tr><tr><td>61.0</td></tr><tr><td>43.0</td></tr><tr><td>38.0</td></tr><tr><td>68.0</td></tr><tr><td>26.0</td></tr><tr><td>18.0</td></tr><tr><td>43.0</td></tr><tr><td>43.0</td></tr><tr><td>32.0</td></tr><tr><td>81.0</td></tr><tr><td>25.0</td></tr><tr><td>61.0</td></tr><tr><td>66.0</td></tr><tr><td>54.0</td></tr><tr><td>11.0</td></tr><tr><td>53.0</td></tr><tr><td>78.0</td></tr><tr><td>9.0</td></tr><tr><td>48.0</td></tr><tr><td>31.0</td></tr><tr><td>20.0</td></tr><tr><td>21.0</td></tr><tr><td>42.0</td></tr><tr><td>35.0</td></tr><tr><td>53.0</td></tr><tr><td>60.0</td></tr><tr><td>74.0</td></tr><tr><td>23.0</td></tr><tr><td>55.0</td></tr><tr><td>71.0</td></tr><tr><td>5.0</td></tr><tr><td>14.0</td></tr><tr><td>15.0</td></tr><tr><td>66.0</td></tr><tr><td>56.0</td></tr><tr><td>60.0</td></tr><tr><td>57.0</td></tr><tr><td>29.0</td></tr><tr><td>76.0</td></tr><tr><td>52.0</td></tr><tr><td>42.0</td></tr><tr><td>71.0</td></tr><tr><td>64.0</td></tr><tr><td>39.0</td></tr><tr><td>46.0</td></tr><tr><td>51.0</td></tr><tr><td>31.0</td></tr><tr><td>22.0</td></tr><tr><td>41.0</td></tr><tr><td>28.0</td></tr><tr><td>44.0</td></tr><tr><td>68.0</td></tr><tr><td>49.0</td></tr><tr><td>10.0</td></tr><tr><td>31.0</td></tr><tr><td>67.0</td></tr><tr><td>40.0</td></tr><tr><td>70.0</td></tr><tr><td>38.0</td></tr><tr><td>5.0</td></tr><tr><td>54.0</td></tr><tr><td>30.0</td></tr><tr><td>23.0</td></tr><tr><td>31.0</td></tr><tr><td>72.0</td></tr><tr><td>23.0</td></tr><tr><td>25.0</td></tr><tr><td>51.0</td></tr><tr><td>20.0</td></tr><tr><td>12.0</td></tr><tr><td>57.0</td></tr><tr><td>65.0</td></tr><tr><td>16.0</td></tr><tr><td>43.0</td></tr><tr><td>30.0</td></tr><tr><td>29.0</td></tr><tr><td>54.0</td></tr><tr><td>57.0</td></tr><tr><td>42.0</td></tr><tr><td>18.0</td></tr><tr><td>9.0</td></tr><tr><td>26.0</td></tr><tr><td>40.0</td></tr><tr><td>77.0</td></tr><tr><td>15.0</td></tr><tr><td>76.0</td></tr><tr><td>52.0</td></tr><tr><td>55.0</td></tr><tr><td>5.0</td></tr><tr><td>55.0</td></tr><tr><td>36.0</td></tr><tr><td>46.0</td></tr><tr><td>5.0</td></tr><tr><td>39.0</td></tr><tr><td>12.0</td></tr><tr><td>67.0</td></tr><tr><td>1.8</td></tr><tr><td>72.0</td></tr><tr><td>0.32</td></tr><tr><td>64.0</td></tr><tr><td>27.0</td></tr><tr><td>25.0</td></tr><tr><td>81.0</td></tr><tr><td>32.0</td></tr><tr><td>57.0</td></tr><tr><td>52.0</td></tr><tr><td>54.0</td></tr><tr><td>36.0</td></tr><tr><td>18.0</td></tr><tr><td>45.0</td></tr><tr><td>29.0</td></tr><tr><td>51.0</td></tr><tr><td>23.0</td></tr><tr><td>54.0</td></tr><tr><td>54.0</td></tr><tr><td>18.0</td></tr><tr><td>26.0</td></tr><tr><td>72.0</td></tr><tr><td>5.0</td></tr><tr><td>65.0</td></tr><tr><td>42.0</td></tr><tr><td>47.0</td></tr><tr><td>24.0</td></tr><tr><td>57.0</td></tr><tr><td>51.0</td></tr><tr><td>48.0</td></tr><tr><td>56.0</td></tr><tr><td>30.0</td></tr><tr><td>63.0</td></tr><tr><td>46.0</td></tr><tr><td>53.0</td></tr><tr><td>1.08</td></tr><tr><td>15.0</td></tr><tr><td>59.0</td></tr><tr><td>24.0</td></tr><tr><td>53.0</td></tr><tr><td>39.0</td></tr><tr><td>23.0</td></tr><tr><td>31.0</td></tr><tr><td>5.0</td></tr><tr><td>44.0</td></tr><tr><td>1.8</td></tr><tr><td>40.0</td></tr><tr><td>7.0</td></tr><tr><td>56.0</td></tr><tr><td>42.0</td></tr><tr><td>48.0</td></tr><tr><td>82.0</td></tr><tr><td>52.0</td></tr><tr><td>42.0</td></tr><tr><td>73.0</td></tr><tr><td>55.0</td></tr><tr><td>50.0</td></tr><tr><td>43.0</td></tr><tr><td>33.0</td></tr><tr><td>80.0</td></tr><tr><td>33.0</td></tr><tr><td>74.0</td></tr><tr><td>65.0</td></tr><tr><td>40.0</td></tr><tr><td>52.0</td></tr><tr><td>66.0</td></tr><tr><td>20.0</td></tr><tr><td>51.0</td></tr><tr><td>60.0</td></tr><tr><td>59.0</td></tr><tr><td>58.0</td></tr><tr><td>42.0</td></tr><tr><td>28.0</td></tr><tr><td>57.0</td></tr><tr><td>66.0</td></tr><tr><td>56.0</td></tr><tr><td>48.0</td></tr><tr><td>37.0</td></tr><tr><td>27.0</td></tr><tr><td>15.0</td></tr><tr><td>61.0</td></tr><tr><td>80.0</td></tr><tr><td>43.0</td></tr><tr><td>53.0</td></tr><tr><td>70.0</td></tr><tr><td>58.0</td></tr><tr><td>49.0</td></tr><tr><td>65.0</td></tr><tr><td>54.0</td></tr><tr><td>74.0</td></tr><tr><td>56.0</td></tr><tr><td>79.0</td></tr><tr><td>71.0</td></tr><tr><td>28.0</td></tr><tr><td>9.0</td></tr><tr><td>4.0</td></tr><tr><td>36.0</td></tr><tr><td>78.0</td></tr><tr><td>52.0</td></tr><tr><td>80.0</td></tr><tr><td>28.0</td></tr><tr><td>38.0</td></tr><tr><td>56.0</td></tr><tr><td>75.0</td></tr><tr><td>76.0</td></tr><tr><td>10.0</td></tr><tr><td>48.0</td></tr><tr><td>40.0</td></tr><tr><td>82.0</td></tr><tr><td>61.0</td></tr><tr><td>17.0</td></tr><tr><td>58.0</td></tr><tr><td>12.0</td></tr><tr><td>53.0</td></tr><tr><td>26.0</td></tr><tr><td>48.0</td></tr><tr><td>25.0</td></tr><tr><td>27.0</td></tr><tr><td>31.0</td></tr><tr><td>16.0</td></tr><tr><td>20.0</td></tr><tr><td>2.0</td></tr><tr><td>1.8</td></tr><tr><td>28.0</td></tr><tr><td>32.0</td></tr><tr><td>35.0</td></tr><tr><td>52.0</td></tr><tr><td>55.0</td></tr><tr><td>42.0</td></tr><tr><td>52.0</td></tr><tr><td>18.0</td></tr><tr><td>13.0</td></tr><tr><td>45.0</td></tr><tr><td>29.0</td></tr><tr><td>12.0</td></tr><tr><td>37.0</td></tr><tr><td>30.0</td></tr><tr><td>44.0</td></tr><tr><td>79.0</td></tr><tr><td>38.0</td></tr><tr><td>45.0</td></tr><tr><td>66.0</td></tr><tr><td>19.0</td></tr><tr><td>49.0</td></tr><tr><td>66.0</td></tr><tr><td>47.0</td></tr><tr><td>59.0</td></tr><tr><td>23.0</td></tr><tr><td>79.0</td></tr><tr><td>37.0</td></tr><tr><td>78.0</td></tr><tr><td>70.0</td></tr><tr><td>34.0</td></tr><tr><td>28.0</td></tr><tr><td>29.0</td></tr><tr><td>13.0</td></tr><tr><td>22.0</td></tr><tr><td>56.0</td></tr><tr><td>81.0</td></tr><tr><td>28.0</td></tr><tr><td>9.0</td></tr><tr><td>50.0</td></tr><tr><td>70.0</td></tr><tr><td>30.0</td></tr><tr><td>51.0</td></tr><tr><td>24.0</td></tr><tr><td>17.0</td></tr><tr><td>43.0</td></tr><tr><td>9.0</td></tr><tr><td>50.0</td></tr><tr><td>49.0</td></tr><tr><td>6.0</td></tr><tr><td>30.0</td></tr><tr><td>73.0</td></tr><tr><td>20.0</td></tr><tr><td>42.0</td></tr><tr><td>79.0</td></tr><tr><td>55.0</td></tr><tr><td>27.0</td></tr><tr><td>71.0</td></tr><tr><td>9.0</td></tr><tr><td>23.0</td></tr><tr><td>71.0</td></tr><tr><td>56.0</td></tr><tr><td>31.0</td></tr><tr><td>64.0</td></tr><tr><td>46.0</td></tr><tr><td>55.0</td></tr><tr><td>2.0</td></tr><tr><td>58.0</td></tr><tr><td>78.0</td></tr><tr><td>1.16</td></tr><tr><td>35.0</td></tr><tr><td>64.0</td></tr><tr><td>18.0</td></tr><tr><td>19.0</td></tr><tr><td>47.0</td></tr><tr><td>54.0</td></tr><tr><td>39.0</td></tr><tr><td>37.0</td></tr><tr><td>17.0</td></tr><tr><td>20.0</td></tr><tr><td>31.0</td></tr><tr><td>56.0</td></tr><tr><td>31.0</td></tr><tr><td>82.0</td></tr><tr><td>33.0</td></tr><tr><td>42.0</td></tr><tr><td>20.0</td></tr><tr><td>22.0</td></tr><tr><td>61.0</td></tr><tr><td>31.0</td></tr><tr><td>31.0</td></tr><tr><td>17.0</td></tr><tr><td>30.0</td></tr><tr><td>69.0</td></tr><tr><td>63.0</td></tr><tr><td>19.0</td></tr><tr><td>7.0</td></tr><tr><td>51.0</td></tr><tr><td>38.0</td></tr><tr><td>2.0</td></tr><tr><td>58.0</td></tr><tr><td>69.0</td></tr><tr><td>64.0</td></tr><tr><td>31.0</td></tr><tr><td>59.0</td></tr><tr><td>54.0</td></tr><tr><td>24.0</td></tr><tr><td>19.0</td></tr><tr><td>17.0</td></tr><tr><td>29.0</td></tr><tr><td>42.0</td></tr><tr><td>31.0</td></tr><tr><td>29.0</td></tr><tr><td>23.0</td></tr><tr><td>25.0</td></tr><tr><td>14.0</td></tr><tr><td>66.0</td></tr><tr><td>77.0</td></tr><tr><td>79.0</td></tr><tr><td>52.0</td></tr><tr><td>41.0</td></tr><tr><td>31.0</td></tr><tr><td>39.0</td></tr><tr><td>51.0</td></tr><tr><td>40.0</td></tr><tr><td>48.0</td></tr><tr><td>55.0</td></tr><tr><td>41.0</td></tr><tr><td>39.0</td></tr><tr><td>41.0</td></tr><tr><td>5.0</td></tr><tr><td>38.0</td></tr><tr><td>40.0</td></tr><tr><td>12.0</td></tr><tr><td>20.0</td></tr><tr><td>53.0</td></tr><tr><td>21.0</td></tr><tr><td>70.0</td></tr><tr><td>61.0</td></tr><tr><td>70.0</td></tr><tr><td>38.0</td></tr><tr><td>59.0</td></tr><tr><td>36.0</td></tr><tr><td>31.0</td></tr><tr><td>65.0</td></tr><tr><td>61.0</td></tr><tr><td>2.0</td></tr><tr><td>52.0</td></tr><tr><td>33.0</td></tr><tr><td>5.0</td></tr><tr><td>32.0</td></tr><tr><td>54.0</td></tr><tr><td>51.0</td></tr><tr><td>39.0</td></tr><tr><td>40.0</td></tr><tr><td>19.0</td></tr><tr><td>9.0</td></tr><tr><td>53.0</td></tr><tr><td>23.0</td></tr><tr><td>19.0</td></tr><tr><td>1.0</td></tr><tr><td>48.0</td></tr><tr><td>71.0</td></tr><tr><td>44.0</td></tr><tr><td>53.0</td></tr><tr><td>70.0</td></tr><tr><td>1.4</td></tr><tr><td>49.0</td></tr><tr><td>17.0</td></tr><tr><td>40.0</td></tr><tr><td>46.0</td></tr><tr><td>32.0</td></tr><tr><td>2.0</td></tr><tr><td>40.0</td></tr><tr><td>19.0</td></tr><tr><td>43.0</td></tr><tr><td>46.0</td></tr><tr><td>71.0</td></tr><tr><td>31.0</td></tr><tr><td>41.0</td></tr><tr><td>65.0</td></tr><tr><td>52.0</td></tr><tr><td>20.0</td></tr><tr><td>77.0</td></tr><tr><td>51.0</td></tr><tr><td>37.0</td></tr><tr><td>49.0</td></tr><tr><td>62.0</td></tr><tr><td>17.0</td></tr><tr><td>28.0</td></tr><tr><td>80.0</td></tr><tr><td>45.0</td></tr><tr><td>37.0</td></tr><tr><td>3.0</td></tr><tr><td>26.0</td></tr><tr><td>71.0</td></tr><tr><td>58.0</td></tr><tr><td>59.0</td></tr><tr><td>74.0</td></tr><tr><td>17.0</td></tr><tr><td>62.0</td></tr><tr><td>37.0</td></tr><tr><td>19.0</td></tr><tr><td>59.0</td></tr><tr><td>59.0</td></tr><tr><td>62.0</td></tr><tr><td>80.0</td></tr><tr><td>54.0</td></tr><tr><td>27.0</td></tr><tr><td>4.0</td></tr><tr><td>81.0</td></tr><tr><td>41.0</td></tr><tr><td>27.0</td></tr><tr><td>51.0</td></tr><tr><td>59.0</td></tr><tr><td>51.0</td></tr><tr><td>71.0</td></tr><tr><td>48.0</td></tr><tr><td>49.0</td></tr><tr><td>35.0</td></tr><tr><td>25.0</td></tr><tr><td>31.0</td></tr><tr><td>68.0</td></tr><tr><td>39.0</td></tr><tr><td>32.0</td></tr><tr><td>39.0</td></tr><tr><td>63.0</td></tr><tr><td>69.0</td></tr><tr><td>29.0</td></tr><tr><td>1.72</td></tr><tr><td>58.0</td></tr><tr><td>32.0</td></tr><tr><td>63.0</td></tr><tr><td>57.0</td></tr><tr><td>77.0</td></tr><tr><td>8.0</td></tr><tr><td>21.0</td></tr><tr><td>16.0</td></tr><tr><td>8.0</td></tr><tr><td>71.0</td></tr><tr><td>74.0</td></tr><tr><td>7.0</td></tr><tr><td>19.0</td></tr><tr><td>64.0</td></tr><tr><td>23.0</td></tr><tr><td>75.0</td></tr><tr><td>80.0</td></tr><tr><td>40.0</td></tr><tr><td>24.0</td></tr><tr><td>74.0</td></tr><tr><td>52.0</td></tr><tr><td>54.0</td></tr><tr><td>23.0</td></tr><tr><td>19.0</td></tr><tr><td>23.0</td></tr><tr><td>13.0</td></tr><tr><td>51.0</td></tr><tr><td>60.0</td></tr><tr><td>79.0</td></tr><tr><td>75.0</td></tr><tr><td>69.0</td></tr><tr><td>57.0</td></tr><tr><td>47.0</td></tr><tr><td>33.0</td></tr><tr><td>51.0</td></tr><tr><td>47.0</td></tr><tr><td>15.0</td></tr><tr><td>1.0</td></tr><tr><td>20.0</td></tr><tr><td>6.0</td></tr><tr><td>50.0</td></tr><tr><td>31.0</td></tr><tr><td>15.0</td></tr><tr><td>3.0</td></tr><tr><td>30.0</td></tr><tr><td>17.0</td></tr><tr><td>24.0</td></tr><tr><td>5.0</td></tr><tr><td>33.0</td></tr><tr><td>30.0</td></tr><tr><td>66.0</td></tr><tr><td>40.0</td></tr><tr><td>27.0</td></tr><tr><td>21.0</td></tr><tr><td>55.0</td></tr><tr><td>19.0</td></tr><tr><td>75.0</td></tr><tr><td>71.0</td></tr><tr><td>16.0</td></tr><tr><td>49.0</td></tr><tr><td>10.0</td></tr><tr><td>37.0</td></tr><tr><td>59.0</td></tr><tr><td>7.0</td></tr><tr><td>61.0</td></tr><tr><td>34.0</td></tr><tr><td>9.0</td></tr><tr><td>46.0</td></tr><tr><td>0.88</td></tr><tr><td>50.0</td></tr><tr><td>19.0</td></tr><tr><td>21.0</td></tr><tr><td>2.0</td></tr><tr><td>37.0</td></tr><tr><td>20.0</td></tr><tr><td>50.0</td></tr><tr><td>61.0</td></tr><tr><td>48.0</td></tr><tr><td>82.0</td></tr><tr><td>64.0</td></tr><tr><td>50.0</td></tr><tr><td>1.4</td></tr><tr><td>0.24</td></tr><tr><td>55.0</td></tr><tr><td>29.0</td></tr><tr><td>4.0</td></tr></tbody></table>Showing the first 1000 rows.</div>"
            ]
          },
          "metadata": {
            "tags": [],
            "application/vnd.databricks.v1+output": {
              "overflow": true,
              "datasetInfos": [],
              "data": [
                [
                  67
                ],
                [
                  61
                ],
                [
                  80
                ],
                [
                  49
                ],
                [
                  79
                ],
                [
                  81
                ],
                [
                  74
                ],
                [
                  69
                ],
                [
                  59
                ],
                [
                  78
                ],
                [
                  81
                ],
                [
                  61
                ],
                [
                  54
                ],
                [
                  78
                ],
                [
                  79
                ],
                [
                  50
                ],
                [
                  64
                ],
                [
                  75
                ],
                [
                  60
                ],
                [
                  57
                ],
                [
                  71
                ],
                [
                  52
                ],
                [
                  79
                ],
                [
                  82
                ],
                [
                  71
                ],
                [
                  80
                ],
                [
                  65
                ],
                [
                  58
                ],
                [
                  69
                ],
                [
                  59
                ],
                [
                  57
                ],
                [
                  42
                ],
                [
                  82
                ],
                [
                  80
                ],
                [
                  48
                ],
                [
                  82
                ],
                [
                  74
                ],
                [
                  72
                ],
                [
                  58
                ],
                [
                  49
                ],
                [
                  78
                ],
                [
                  54
                ],
                [
                  82
                ],
                [
                  63
                ],
                [
                  60
                ],
                [
                  76
                ],
                [
                  75
                ],
                [
                  58
                ],
                [
                  81
                ],
                [
                  39
                ],
                [
                  76
                ],
                [
                  78
                ],
                [
                  79
                ],
                [
                  77
                ],
                [
                  63
                ],
                [
                  63
                ],
                [
                  82
                ],
                [
                  78
                ],
                [
                  73
                ],
                [
                  54
                ],
                [
                  56
                ],
                [
                  80
                ],
                [
                  67
                ],
                [
                  45
                ],
                [
                  75
                ],
                [
                  78
                ],
                [
                  70
                ],
                [
                  76
                ],
                [
                  59
                ],
                [
                  80
                ],
                [
                  76
                ],
                [
                  67
                ],
                [
                  66
                ],
                [
                  63
                ],
                [
                  52
                ],
                [
                  80
                ],
                [
                  80
                ],
                [
                  79
                ],
                [
                  51
                ],
                [
                  43
                ],
                [
                  59
                ],
                [
                  66
                ],
                [
                  79
                ],
                [
                  68
                ],
                [
                  58
                ],
                [
                  54
                ],
                [
                  61
                ],
                [
                  70
                ],
                [
                  47
                ],
                [
                  74
                ],
                [
                  79
                ],
                [
                  81
                ],
                [
                  57
                ],
                [
                  80
                ],
                [
                  45
                ],
                [
                  78
                ],
                [
                  70
                ],
                [
                  58
                ],
                [
                  57
                ],
                [
                  69
                ],
                [
                  64
                ],
                [
                  77
                ],
                [
                  74
                ],
                [
                  81
                ],
                [
                  57
                ],
                [
                  58
                ],
                [
                  50
                ],
                [
                  54
                ],
                [
                  79
                ],
                [
                  53
                ],
                [
                  79
                ],
                [
                  80
                ],
                [
                  76
                ],
                [
                  45
                ],
                [
                  68
                ],
                [
                  71
                ],
                [
                  61
                ],
                [
                  74
                ],
                [
                  38
                ],
                [
                  77
                ],
                [
                  58
                ],
                [
                  53
                ],
                [
                  80
                ],
                [
                  56
                ],
                [
                  72
                ],
                [
                  72
                ],
                [
                  78
                ],
                [
                  80
                ],
                [
                  82
                ],
                [
                  75
                ],
                [
                  73
                ],
                [
                  78
                ],
                [
                  69
                ],
                [
                  38
                ],
                [
                  68
                ],
                [
                  71
                ],
                [
                  76
                ],
                [
                  76
                ],
                [
                  76
                ],
                [
                  75
                ],
                [
                  82
                ],
                [
                  59
                ],
                [
                  74
                ],
                [
                  69
                ],
                [
                  72
                ],
                [
                  66
                ],
                [
                  65
                ],
                [
                  78
                ],
                [
                  57
                ],
                [
                  70
                ],
                [
                  79
                ],
                [
                  68
                ],
                [
                  80
                ],
                [
                  68
                ],
                [
                  55
                ],
                [
                  77
                ],
                [
                  50
                ],
                [
                  57
                ],
                [
                  71
                ],
                [
                  81
                ],
                [
                  76
                ],
                [
                  71
                ],
                [
                  1.32
                ],
                [
                  78
                ],
                [
                  70
                ],
                [
                  78
                ],
                [
                  56
                ],
                [
                  79
                ],
                [
                  79
                ],
                [
                  81
                ],
                [
                  64
                ],
                [
                  79
                ],
                [
                  60
                ],
                [
                  80
                ],
                [
                  78
                ],
                [
                  72
                ],
                [
                  80
                ],
                [
                  78
                ],
                [
                  80
                ],
                [
                  81
                ],
                [
                  46
                ],
                [
                  59
                ],
                [
                  32
                ],
                [
                  77
                ],
                [
                  61
                ],
                [
                  63
                ],
                [
                  63
                ],
                [
                  82
                ],
                [
                  82
                ],
                [
                  61
                ],
                [
                  65
                ],
                [
                  51
                ],
                [
                  59
                ],
                [
                  68
                ],
                [
                  72
                ],
                [
                  59
                ],
                [
                  70
                ],
                [
                  69
                ],
                [
                  79
                ],
                [
                  74
                ],
                [
                  74
                ],
                [
                  80
                ],
                [
                  77
                ],
                [
                  78
                ],
                [
                  54
                ],
                [
                  78
                ],
                [
                  81
                ],
                [
                  78
                ],
                [
                  78
                ],
                [
                  63
                ],
                [
                  39
                ],
                [
                  51
                ],
                [
                  63
                ],
                [
                  48
                ],
                [
                  81
                ],
                [
                  79
                ],
                [
                  78
                ],
                [
                  55
                ],
                [
                  76
                ],
                [
                  73
                ],
                [
                  81
                ],
                [
                  79
                ],
                [
                  63
                ],
                [
                  81
                ],
                [
                  49
                ],
                [
                  57
                ],
                [
                  81
                ],
                [
                  74
                ],
                [
                  39
                ],
                [
                  80
                ],
                [
                  81
                ],
                [
                  79
                ],
                [
                  73
                ],
                [
                  77
                ],
                [
                  78
                ],
                [
                  68
                ],
                [
                  57
                ],
                [
                  77
                ],
                [
                  51
                ],
                [
                  60
                ],
                [
                  66
                ],
                [
                  57
                ],
                [
                  68
                ],
                [
                  68
                ],
                [
                  57
                ],
                [
                  14
                ],
                [
                  75
                ],
                [
                  71
                ],
                [
                  78
                ],
                [
                  3
                ],
                [
                  58
                ],
                [
                  8
                ],
                [
                  70
                ],
                [
                  14
                ],
                [
                  47
                ],
                [
                  52
                ],
                [
                  75
                ],
                [
                  32
                ],
                [
                  74
                ],
                [
                  79
                ],
                [
                  79
                ],
                [
                  37
                ],
                [
                  37
                ],
                [
                  40
                ],
                [
                  35
                ],
                [
                  20
                ],
                [
                  42
                ],
                [
                  44
                ],
                [
                  79
                ],
                [
                  65
                ],
                [
                  57
                ],
                [
                  49
                ],
                [
                  71
                ],
                [
                  59
                ],
                [
                  25
                ],
                [
                  67
                ],
                [
                  38
                ],
                [
                  54
                ],
                [
                  70
                ],
                [
                  27
                ],
                [
                  47
                ],
                [
                  58
                ],
                [
                  3
                ],
                [
                  58
                ],
                [
                  14
                ],
                [
                  32
                ],
                [
                  23
                ],
                [
                  55
                ],
                [
                  17
                ],
                [
                  59
                ],
                [
                  13
                ],
                [
                  4
                ],
                [
                  16
                ],
                [
                  67
                ],
                [
                  22
                ],
                [
                  45
                ],
                [
                  66
                ],
                [
                  58
                ],
                [
                  69
                ],
                [
                  58
                ],
                [
                  53
                ],
                [
                  78
                ],
                [
                  44
                ],
                [
                  66
                ],
                [
                  27
                ],
                [
                  43
                ],
                [
                  13
                ],
                [
                  51
                ],
                [
                  30
                ],
                [
                  46
                ],
                [
                  43
                ],
                [
                  79
                ],
                [
                  27
                ],
                [
                  38
                ],
                [
                  78
                ],
                [
                  57
                ],
                [
                  61
                ],
                [
                  37
                ],
                [
                  48
                ],
                [
                  29
                ],
                [
                  22
                ],
                [
                  11
                ],
                [
                  22
                ],
                [
                  53
                ],
                [
                  27
                ],
                [
                  76
                ],
                [
                  57
                ],
                [
                  8
                ],
                [
                  21
                ],
                [
                  18
                ],
                [
                  78
                ],
                [
                  78
                ],
                [
                  33
                ],
                [
                  52
                ],
                [
                  51
                ],
                [
                  11
                ],
                [
                  48
                ],
                [
                  82
                ],
                [
                  54
                ],
                [
                  49
                ],
                [
                  24
                ],
                [
                  37
                ],
                [
                  34
                ],
                [
                  64
                ],
                [
                  66
                ],
                [
                  23
                ],
                [
                  68
                ],
                [
                  55
                ],
                [
                  25
                ],
                [
                  48
                ],
                [
                  79
                ],
                [
                  47
                ],
                [
                  20
                ],
                [
                  60
                ],
                [
                  32
                ],
                [
                  66
                ],
                [
                  43
                ],
                [
                  36
                ],
                [
                  52
                ],
                [
                  29
                ],
                [
                  76
                ],
                [
                  39
                ],
                [
                  76
                ],
                [
                  0.64
                ],
                [
                  34
                ],
                [
                  72
                ],
                [
                  43
                ],
                [
                  57
                ],
                [
                  44
                ],
                [
                  4
                ],
                [
                  44
                ],
                [
                  18
                ],
                [
                  41
                ],
                [
                  23
                ],
                [
                  53
                ],
                [
                  56
                ],
                [
                  0.88
                ],
                [
                  25
                ],
                [
                  14
                ],
                [
                  53
                ],
                [
                  4
                ],
                [
                  39
                ],
                [
                  53
                ],
                [
                  5
                ],
                [
                  4
                ],
                [
                  37
                ],
                [
                  70
                ],
                [
                  24
                ],
                [
                  55
                ],
                [
                  70
                ],
                [
                  34
                ],
                [
                  26
                ],
                [
                  39
                ],
                [
                  38
                ],
                [
                  20
                ],
                [
                  17
                ],
                [
                  60
                ],
                [
                  75
                ],
                [
                  31
                ],
                [
                  58
                ],
                [
                  5
                ],
                [
                  13
                ],
                [
                  22
                ],
                [
                  52
                ],
                [
                  61
                ],
                [
                  78
                ],
                [
                  57
                ],
                [
                  21
                ],
                [
                  22
                ],
                [
                  80
                ],
                [
                  7
                ],
                [
                  64
                ],
                [
                  64
                ],
                [
                  38
                ],
                [
                  12
                ],
                [
                  33
                ],
                [
                  3
                ],
                [
                  37
                ],
                [
                  22
                ],
                [
                  24
                ],
                [
                  75
                ],
                [
                  12
                ],
                [
                  63
                ],
                [
                  52
                ],
                [
                  68
                ],
                [
                  5
                ],
                [
                  56
                ],
                [
                  43
                ],
                [
                  40
                ],
                [
                  53
                ],
                [
                  52
                ],
                [
                  31
                ],
                [
                  63
                ],
                [
                  69
                ],
                [
                  64
                ],
                [
                  64
                ],
                [
                  62
                ],
                [
                  2
                ],
                [
                  53
                ],
                [
                  65
                ],
                [
                  22
                ],
                [
                  26
                ],
                [
                  53
                ],
                [
                  20
                ],
                [
                  63
                ],
                [
                  13
                ],
                [
                  21
                ],
                [
                  65
                ],
                [
                  65
                ],
                [
                  42
                ],
                [
                  72
                ],
                [
                  13
                ],
                [
                  29
                ],
                [
                  59
                ],
                [
                  42
                ],
                [
                  13
                ],
                [
                  75
                ],
                [
                  33
                ],
                [
                  43
                ],
                [
                  11
                ],
                [
                  7
                ],
                [
                  16
                ],
                [
                  44
                ],
                [
                  78
                ],
                [
                  25
                ],
                [
                  69
                ],
                [
                  61
                ],
                [
                  43
                ],
                [
                  38
                ],
                [
                  68
                ],
                [
                  26
                ],
                [
                  18
                ],
                [
                  43
                ],
                [
                  43
                ],
                [
                  32
                ],
                [
                  81
                ],
                [
                  25
                ],
                [
                  61
                ],
                [
                  66
                ],
                [
                  54
                ],
                [
                  11
                ],
                [
                  53
                ],
                [
                  78
                ],
                [
                  9
                ],
                [
                  48
                ],
                [
                  31
                ],
                [
                  20
                ],
                [
                  21
                ],
                [
                  42
                ],
                [
                  35
                ],
                [
                  53
                ],
                [
                  60
                ],
                [
                  74
                ],
                [
                  23
                ],
                [
                  55
                ],
                [
                  71
                ],
                [
                  5
                ],
                [
                  14
                ],
                [
                  15
                ],
                [
                  66
                ],
                [
                  56
                ],
                [
                  60
                ],
                [
                  57
                ],
                [
                  29
                ],
                [
                  76
                ],
                [
                  52
                ],
                [
                  42
                ],
                [
                  71
                ],
                [
                  64
                ],
                [
                  39
                ],
                [
                  46
                ],
                [
                  51
                ],
                [
                  31
                ],
                [
                  22
                ],
                [
                  41
                ],
                [
                  28
                ],
                [
                  44
                ],
                [
                  68
                ],
                [
                  49
                ],
                [
                  10
                ],
                [
                  31
                ],
                [
                  67
                ],
                [
                  40
                ],
                [
                  70
                ],
                [
                  38
                ],
                [
                  5
                ],
                [
                  54
                ],
                [
                  30
                ],
                [
                  23
                ],
                [
                  31
                ],
                [
                  72
                ],
                [
                  23
                ],
                [
                  25
                ],
                [
                  51
                ],
                [
                  20
                ],
                [
                  12
                ],
                [
                  57
                ],
                [
                  65
                ],
                [
                  16
                ],
                [
                  43
                ],
                [
                  30
                ],
                [
                  29
                ],
                [
                  54
                ],
                [
                  57
                ],
                [
                  42
                ],
                [
                  18
                ],
                [
                  9
                ],
                [
                  26
                ],
                [
                  40
                ],
                [
                  77
                ],
                [
                  15
                ],
                [
                  76
                ],
                [
                  52
                ],
                [
                  55
                ],
                [
                  5
                ],
                [
                  55
                ],
                [
                  36
                ],
                [
                  46
                ],
                [
                  5
                ],
                [
                  39
                ],
                [
                  12
                ],
                [
                  67
                ],
                [
                  1.8
                ],
                [
                  72
                ],
                [
                  0.32
                ],
                [
                  64
                ],
                [
                  27
                ],
                [
                  25
                ],
                [
                  81
                ],
                [
                  32
                ],
                [
                  57
                ],
                [
                  52
                ],
                [
                  54
                ],
                [
                  36
                ],
                [
                  18
                ],
                [
                  45
                ],
                [
                  29
                ],
                [
                  51
                ],
                [
                  23
                ],
                [
                  54
                ],
                [
                  54
                ],
                [
                  18
                ],
                [
                  26
                ],
                [
                  72
                ],
                [
                  5
                ],
                [
                  65
                ],
                [
                  42
                ],
                [
                  47
                ],
                [
                  24
                ],
                [
                  57
                ],
                [
                  51
                ],
                [
                  48
                ],
                [
                  56
                ],
                [
                  30
                ],
                [
                  63
                ],
                [
                  46
                ],
                [
                  53
                ],
                [
                  1.08
                ],
                [
                  15
                ],
                [
                  59
                ],
                [
                  24
                ],
                [
                  53
                ],
                [
                  39
                ],
                [
                  23
                ],
                [
                  31
                ],
                [
                  5
                ],
                [
                  44
                ],
                [
                  1.8
                ],
                [
                  40
                ],
                [
                  7
                ],
                [
                  56
                ],
                [
                  42
                ],
                [
                  48
                ],
                [
                  82
                ],
                [
                  52
                ],
                [
                  42
                ],
                [
                  73
                ],
                [
                  55
                ],
                [
                  50
                ],
                [
                  43
                ],
                [
                  33
                ],
                [
                  80
                ],
                [
                  33
                ],
                [
                  74
                ],
                [
                  65
                ],
                [
                  40
                ],
                [
                  52
                ],
                [
                  66
                ],
                [
                  20
                ],
                [
                  51
                ],
                [
                  60
                ],
                [
                  59
                ],
                [
                  58
                ],
                [
                  42
                ],
                [
                  28
                ],
                [
                  57
                ],
                [
                  66
                ],
                [
                  56
                ],
                [
                  48
                ],
                [
                  37
                ],
                [
                  27
                ],
                [
                  15
                ],
                [
                  61
                ],
                [
                  80
                ],
                [
                  43
                ],
                [
                  53
                ],
                [
                  70
                ],
                [
                  58
                ],
                [
                  49
                ],
                [
                  65
                ],
                [
                  54
                ],
                [
                  74
                ],
                [
                  56
                ],
                [
                  79
                ],
                [
                  71
                ],
                [
                  28
                ],
                [
                  9
                ],
                [
                  4
                ],
                [
                  36
                ],
                [
                  78
                ],
                [
                  52
                ],
                [
                  80
                ],
                [
                  28
                ],
                [
                  38
                ],
                [
                  56
                ],
                [
                  75
                ],
                [
                  76
                ],
                [
                  10
                ],
                [
                  48
                ],
                [
                  40
                ],
                [
                  82
                ],
                [
                  61
                ],
                [
                  17
                ],
                [
                  58
                ],
                [
                  12
                ],
                [
                  53
                ],
                [
                  26
                ],
                [
                  48
                ],
                [
                  25
                ],
                [
                  27
                ],
                [
                  31
                ],
                [
                  16
                ],
                [
                  20
                ],
                [
                  2
                ],
                [
                  1.8
                ],
                [
                  28
                ],
                [
                  32
                ],
                [
                  35
                ],
                [
                  52
                ],
                [
                  55
                ],
                [
                  42
                ],
                [
                  52
                ],
                [
                  18
                ],
                [
                  13
                ],
                [
                  45
                ],
                [
                  29
                ],
                [
                  12
                ],
                [
                  37
                ],
                [
                  30
                ],
                [
                  44
                ],
                [
                  79
                ],
                [
                  38
                ],
                [
                  45
                ],
                [
                  66
                ],
                [
                  19
                ],
                [
                  49
                ],
                [
                  66
                ],
                [
                  47
                ],
                [
                  59
                ],
                [
                  23
                ],
                [
                  79
                ],
                [
                  37
                ],
                [
                  78
                ],
                [
                  70
                ],
                [
                  34
                ],
                [
                  28
                ],
                [
                  29
                ],
                [
                  13
                ],
                [
                  22
                ],
                [
                  56
                ],
                [
                  81
                ],
                [
                  28
                ],
                [
                  9
                ],
                [
                  50
                ],
                [
                  70
                ],
                [
                  30
                ],
                [
                  51
                ],
                [
                  24
                ],
                [
                  17
                ],
                [
                  43
                ],
                [
                  9
                ],
                [
                  50
                ],
                [
                  49
                ],
                [
                  6
                ],
                [
                  30
                ],
                [
                  73
                ],
                [
                  20
                ],
                [
                  42
                ],
                [
                  79
                ],
                [
                  55
                ],
                [
                  27
                ],
                [
                  71
                ],
                [
                  9
                ],
                [
                  23
                ],
                [
                  71
                ],
                [
                  56
                ],
                [
                  31
                ],
                [
                  64
                ],
                [
                  46
                ],
                [
                  55
                ],
                [
                  2
                ],
                [
                  58
                ],
                [
                  78
                ],
                [
                  1.16
                ],
                [
                  35
                ],
                [
                  64
                ],
                [
                  18
                ],
                [
                  19
                ],
                [
                  47
                ],
                [
                  54
                ],
                [
                  39
                ],
                [
                  37
                ],
                [
                  17
                ],
                [
                  20
                ],
                [
                  31
                ],
                [
                  56
                ],
                [
                  31
                ],
                [
                  82
                ],
                [
                  33
                ],
                [
                  42
                ],
                [
                  20
                ],
                [
                  22
                ],
                [
                  61
                ],
                [
                  31
                ],
                [
                  31
                ],
                [
                  17
                ],
                [
                  30
                ],
                [
                  69
                ],
                [
                  63
                ],
                [
                  19
                ],
                [
                  7
                ],
                [
                  51
                ],
                [
                  38
                ],
                [
                  2
                ],
                [
                  58
                ],
                [
                  69
                ],
                [
                  64
                ],
                [
                  31
                ],
                [
                  59
                ],
                [
                  54
                ],
                [
                  24
                ],
                [
                  19
                ],
                [
                  17
                ],
                [
                  29
                ],
                [
                  42
                ],
                [
                  31
                ],
                [
                  29
                ],
                [
                  23
                ],
                [
                  25
                ],
                [
                  14
                ],
                [
                  66
                ],
                [
                  77
                ],
                [
                  79
                ],
                [
                  52
                ],
                [
                  41
                ],
                [
                  31
                ],
                [
                  39
                ],
                [
                  51
                ],
                [
                  40
                ],
                [
                  48
                ],
                [
                  55
                ],
                [
                  41
                ],
                [
                  39
                ],
                [
                  41
                ],
                [
                  5
                ],
                [
                  38
                ],
                [
                  40
                ],
                [
                  12
                ],
                [
                  20
                ],
                [
                  53
                ],
                [
                  21
                ],
                [
                  70
                ],
                [
                  61
                ],
                [
                  70
                ],
                [
                  38
                ],
                [
                  59
                ],
                [
                  36
                ],
                [
                  31
                ],
                [
                  65
                ],
                [
                  61
                ],
                [
                  2
                ],
                [
                  52
                ],
                [
                  33
                ],
                [
                  5
                ],
                [
                  32
                ],
                [
                  54
                ],
                [
                  51
                ],
                [
                  39
                ],
                [
                  40
                ],
                [
                  19
                ],
                [
                  9
                ],
                [
                  53
                ],
                [
                  23
                ],
                [
                  19
                ],
                [
                  1
                ],
                [
                  48
                ],
                [
                  71
                ],
                [
                  44
                ],
                [
                  53
                ],
                [
                  70
                ],
                [
                  1.4
                ],
                [
                  49
                ],
                [
                  17
                ],
                [
                  40
                ],
                [
                  46
                ],
                [
                  32
                ],
                [
                  2
                ],
                [
                  40
                ],
                [
                  19
                ],
                [
                  43
                ],
                [
                  46
                ],
                [
                  71
                ],
                [
                  31
                ],
                [
                  41
                ],
                [
                  65
                ],
                [
                  52
                ],
                [
                  20
                ],
                [
                  77
                ],
                [
                  51
                ],
                [
                  37
                ],
                [
                  49
                ],
                [
                  62
                ],
                [
                  17
                ],
                [
                  28
                ],
                [
                  80
                ],
                [
                  45
                ],
                [
                  37
                ],
                [
                  3
                ],
                [
                  26
                ],
                [
                  71
                ],
                [
                  58
                ],
                [
                  59
                ],
                [
                  74
                ],
                [
                  17
                ],
                [
                  62
                ],
                [
                  37
                ],
                [
                  19
                ],
                [
                  59
                ],
                [
                  59
                ],
                [
                  62
                ],
                [
                  80
                ],
                [
                  54
                ],
                [
                  27
                ],
                [
                  4
                ],
                [
                  81
                ],
                [
                  41
                ],
                [
                  27
                ],
                [
                  51
                ],
                [
                  59
                ],
                [
                  51
                ],
                [
                  71
                ],
                [
                  48
                ],
                [
                  49
                ],
                [
                  35
                ],
                [
                  25
                ],
                [
                  31
                ],
                [
                  68
                ],
                [
                  39
                ],
                [
                  32
                ],
                [
                  39
                ],
                [
                  63
                ],
                [
                  69
                ],
                [
                  29
                ],
                [
                  1.72
                ],
                [
                  58
                ],
                [
                  32
                ],
                [
                  63
                ],
                [
                  57
                ],
                [
                  77
                ],
                [
                  8
                ],
                [
                  21
                ],
                [
                  16
                ],
                [
                  8
                ],
                [
                  71
                ],
                [
                  74
                ],
                [
                  7
                ],
                [
                  19
                ],
                [
                  64
                ],
                [
                  23
                ],
                [
                  75
                ],
                [
                  80
                ],
                [
                  40
                ],
                [
                  24
                ],
                [
                  74
                ],
                [
                  52
                ],
                [
                  54
                ],
                [
                  23
                ],
                [
                  19
                ],
                [
                  23
                ],
                [
                  13
                ],
                [
                  51
                ],
                [
                  60
                ],
                [
                  79
                ],
                [
                  75
                ],
                [
                  69
                ],
                [
                  57
                ],
                [
                  47
                ],
                [
                  33
                ],
                [
                  51
                ],
                [
                  47
                ],
                [
                  15
                ],
                [
                  1
                ],
                [
                  20
                ],
                [
                  6
                ],
                [
                  50
                ],
                [
                  31
                ],
                [
                  15
                ],
                [
                  3
                ],
                [
                  30
                ],
                [
                  17
                ],
                [
                  24
                ],
                [
                  5
                ],
                [
                  33
                ],
                [
                  30
                ],
                [
                  66
                ],
                [
                  40
                ],
                [
                  27
                ],
                [
                  21
                ],
                [
                  55
                ],
                [
                  19
                ],
                [
                  75
                ],
                [
                  71
                ],
                [
                  16
                ],
                [
                  49
                ],
                [
                  10
                ],
                [
                  37
                ],
                [
                  59
                ],
                [
                  7
                ],
                [
                  61
                ],
                [
                  34
                ],
                [
                  9
                ],
                [
                  46
                ],
                [
                  0.88
                ],
                [
                  50
                ],
                [
                  19
                ],
                [
                  21
                ],
                [
                  2
                ],
                [
                  37
                ],
                [
                  20
                ],
                [
                  50
                ],
                [
                  61
                ],
                [
                  48
                ],
                [
                  82
                ],
                [
                  64
                ],
                [
                  50
                ],
                [
                  1.4
                ],
                [
                  0.24
                ],
                [
                  55
                ],
                [
                  29
                ],
                [
                  4
                ]
              ],
              "plotOptions": {
                "displayType": "boxPlot",
                "customPlotOptions": {
                  "boxPlot": []
                },
                "pivotColumns": [],
                "pivotAggregation": "sum",
                "xColumns": [],
                "yColumns": [
                  "age"
                ]
              },
              "columnCustomDisplayInfos": {},
              "aggType": "",
              "isJsonSchema": true,
              "removedWidgets": [],
              "aggSchema": [],
              "schema": [
                {
                  "name": "age",
                  "type": "\"double\"",
                  "metadata": "{}"
                }
              ],
              "aggError": "",
              "aggData": [],
              "addedWidgets": {},
              "dbfsResultPath": null,
              "type": "table",
              "aggOverflow": false,
              "aggSeriesLimitReached": false,
              "arguments": {}
            }
          }
        }
      ]
    },
    {
      "cell_type": "markdown",
      "metadata": {
        "application/vnd.databricks.v1+cell": {
          "title": "",
          "showTitle": false,
          "inputWidgets": {},
          "nuid": "22903614-14f8-4dc9-9a69-2aed58d0c083"
        },
        "id": "y81YHc1-oxDU"
      },
      "source": [
        "###**Pré-processamento dos dados**"
      ]
    },
    {
      "cell_type": "code",
      "metadata": {
        "application/vnd.databricks.v1+cell": {
          "title": "",
          "showTitle": false,
          "inputWidgets": {},
          "nuid": "99501175-3f6b-4b89-8873-e02c0d6484d7"
        },
        "id": "XPs32eq_oxDU",
        "outputId": "e0453076-c799-4656-94cf-38992e11d28b"
      },
      "source": [
        "#contando a quantidade de valores desconhecidos\n",
        "from pyspark.sql.functions import *\n",
        "dataset_desafio.groupby('Residence_type').agg({'Residence_type': 'count'}).sort(asc(\"count(Residence_type)\")).show()"
      ],
      "execution_count": null,
      "outputs": [
        {
          "output_type": "display_data",
          "data": {
            "text/html": [
              "<style scoped>\n",
              "  .ansiout {\n",
              "    display: block;\n",
              "    unicode-bidi: embed;\n",
              "    white-space: pre-wrap;\n",
              "    word-wrap: break-word;\n",
              "    word-break: break-all;\n",
              "    font-family: \"Source Code Pro\", \"Menlo\", monospace;;\n",
              "    font-size: 13px;\n",
              "    color: #555;\n",
              "    margin-left: 4px;\n",
              "    line-height: 19px;\n",
              "  }\n",
              "</style>\n",
              "<div class=\"ansiout\">+--------------+---------------------+\n",
              "Residence_type|count(Residence_type)|\n",
              "+--------------+---------------------+\n",
              "         Rural|                 2514|\n",
              "         Urban|                 2596|\n",
              "+--------------+---------------------+\n",
              "\n",
              "</div>"
            ]
          },
          "metadata": {
            "tags": [],
            "application/vnd.databricks.v1+output": {
              "datasetInfos": [],
              "data": "<div class=\"ansiout\">+--------------+---------------------+\n|Residence_type|count(Residence_type)|\n+--------------+---------------------+\n|         Rural|                 2514|\n|         Urban|                 2596|\n+--------------+---------------------+\n\n</div>",
              "removedWidgets": [],
              "addedWidgets": {},
              "type": "html",
              "arguments": {}
            }
          }
        }
      ]
    },
    {
      "cell_type": "code",
      "metadata": {
        "application/vnd.databricks.v1+cell": {
          "title": "",
          "showTitle": false,
          "inputWidgets": {},
          "nuid": "16e17bbd-60dd-488d-97ee-dbb755945e5e"
        },
        "id": "TFoiuAFpoxDU",
        "outputId": "bf93c878-fb28-4ac3-aa30-dcad08113901"
      },
      "source": [
        "from pyspark.sql.functions import mean\n",
        "mean = dataset_desafio.select(mean(dataset_desafio['bmi'])).collect()\n",
        "mean_bmi = mean[0][0]\n",
        "dataset_desafio = dataset_desafio.na.fill(mean_bmi,['bmi'])"
      ],
      "execution_count": null,
      "outputs": [
        {
          "output_type": "display_data",
          "data": {
            "text/html": [
              "<style scoped>\n",
              "  .ansiout {\n",
              "    display: block;\n",
              "    unicode-bidi: embed;\n",
              "    white-space: pre-wrap;\n",
              "    word-wrap: break-word;\n",
              "    word-break: break-all;\n",
              "    font-family: \"Source Code Pro\", \"Menlo\", monospace;;\n",
              "    font-size: 13px;\n",
              "    color: #555;\n",
              "    margin-left: 4px;\n",
              "    line-height: 19px;\n",
              "  }\n",
              "</style>\n",
              "<div class=\"ansiout\"></div>"
            ]
          },
          "metadata": {
            "tags": [],
            "application/vnd.databricks.v1+output": {
              "datasetInfos": [
                {
                  "name": "dataset_desafio",
                  "typeStr": "pyspark.sql.dataframe.DataFrame",
                  "schema": {
                    "fields": [
                      {
                        "metadata": {},
                        "name": "id",
                        "nullable": true,
                        "type": "integer"
                      },
                      {
                        "metadata": {},
                        "name": "gender",
                        "nullable": true,
                        "type": "string"
                      },
                      {
                        "metadata": {},
                        "name": "age",
                        "nullable": true,
                        "type": "double"
                      },
                      {
                        "metadata": {},
                        "name": "hypertension",
                        "nullable": true,
                        "type": "integer"
                      },
                      {
                        "metadata": {},
                        "name": "heart_disease",
                        "nullable": true,
                        "type": "integer"
                      },
                      {
                        "metadata": {},
                        "name": "ever_married",
                        "nullable": true,
                        "type": "string"
                      },
                      {
                        "metadata": {},
                        "name": "work_type",
                        "nullable": true,
                        "type": "string"
                      },
                      {
                        "metadata": {},
                        "name": "Residence_type",
                        "nullable": true,
                        "type": "string"
                      },
                      {
                        "metadata": {},
                        "name": "avg_glucose_level",
                        "nullable": true,
                        "type": "double"
                      },
                      {
                        "metadata": {},
                        "name": "bmi",
                        "nullable": true,
                        "type": "string"
                      },
                      {
                        "metadata": {},
                        "name": "smoking_status",
                        "nullable": true,
                        "type": "string"
                      },
                      {
                        "metadata": {},
                        "name": "stroke",
                        "nullable": true,
                        "type": "integer"
                      }
                    ],
                    "type": "struct"
                  },
                  "tableIdentifier": null
                }
              ],
              "data": "<div class=\"ansiout\"></div>",
              "removedWidgets": [],
              "addedWidgets": {},
              "type": "html",
              "arguments": {}
            }
          }
        }
      ]
    },
    {
      "cell_type": "code",
      "metadata": {
        "application/vnd.databricks.v1+cell": {
          "title": "",
          "showTitle": false,
          "inputWidgets": {},
          "nuid": "a8e0b706-edfc-40b6-b4cc-d6d8ca62aebf"
        },
        "id": "WHmQt4QkoxDU",
        "outputId": "59cecf36-c913-4f65-c56d-0867cbe27153"
      },
      "source": [
        "#aplicando o filtro para as colunas que possuem valores não conhecidos\n",
        "dataset_filtrado=dataset_desafio.filter((dataset_desafio['bmi'] != 'N/A') & (dataset_desafio['smoking_status'] > 'Unknown'))"
      ],
      "execution_count": null,
      "outputs": [
        {
          "output_type": "display_data",
          "data": {
            "text/html": [
              "<style scoped>\n",
              "  .ansiout {\n",
              "    display: block;\n",
              "    unicode-bidi: embed;\n",
              "    white-space: pre-wrap;\n",
              "    word-wrap: break-word;\n",
              "    word-break: break-all;\n",
              "    font-family: \"Source Code Pro\", \"Menlo\", monospace;;\n",
              "    font-size: 13px;\n",
              "    color: #555;\n",
              "    margin-left: 4px;\n",
              "    line-height: 19px;\n",
              "  }\n",
              "</style>\n",
              "<div class=\"ansiout\"></div>"
            ]
          },
          "metadata": {
            "tags": [],
            "application/vnd.databricks.v1+output": {
              "datasetInfos": [
                {
                  "name": "dataset_filtrado",
                  "typeStr": "pyspark.sql.dataframe.DataFrame",
                  "schema": {
                    "fields": [
                      {
                        "metadata": {},
                        "name": "id",
                        "nullable": true,
                        "type": "integer"
                      },
                      {
                        "metadata": {},
                        "name": "gender",
                        "nullable": true,
                        "type": "string"
                      },
                      {
                        "metadata": {},
                        "name": "age",
                        "nullable": true,
                        "type": "double"
                      },
                      {
                        "metadata": {},
                        "name": "hypertension",
                        "nullable": true,
                        "type": "integer"
                      },
                      {
                        "metadata": {},
                        "name": "heart_disease",
                        "nullable": true,
                        "type": "integer"
                      },
                      {
                        "metadata": {},
                        "name": "ever_married",
                        "nullable": true,
                        "type": "string"
                      },
                      {
                        "metadata": {},
                        "name": "work_type",
                        "nullable": true,
                        "type": "string"
                      },
                      {
                        "metadata": {},
                        "name": "Residence_type",
                        "nullable": true,
                        "type": "string"
                      },
                      {
                        "metadata": {},
                        "name": "avg_glucose_level",
                        "nullable": true,
                        "type": "double"
                      },
                      {
                        "metadata": {},
                        "name": "bmi",
                        "nullable": true,
                        "type": "string"
                      },
                      {
                        "metadata": {},
                        "name": "smoking_status",
                        "nullable": true,
                        "type": "string"
                      },
                      {
                        "metadata": {},
                        "name": "stroke",
                        "nullable": true,
                        "type": "integer"
                      }
                    ],
                    "type": "struct"
                  },
                  "tableIdentifier": null
                }
              ],
              "data": "<div class=\"ansiout\"></div>",
              "removedWidgets": [],
              "addedWidgets": {},
              "type": "html",
              "arguments": {}
            }
          }
        }
      ]
    },
    {
      "cell_type": "code",
      "metadata": {
        "application/vnd.databricks.v1+cell": {
          "title": "",
          "showTitle": false,
          "inputWidgets": {},
          "nuid": "b820e55a-bcba-4989-bec6-2f0f06b59e36"
        },
        "id": "KBef5BjqoxDU",
        "outputId": "2e94b44a-b262-4cb2-f2f2-59904f3c94f2"
      },
      "source": [
        "# aplicando a transformação dos dados categóricos\n",
        "from pyspark.ml.feature import VectorAssembler,OneHotEncoder, StringIndexer"
      ],
      "execution_count": null,
      "outputs": [
        {
          "output_type": "display_data",
          "data": {
            "text/html": [
              "<style scoped>\n",
              "  .ansiout {\n",
              "    display: block;\n",
              "    unicode-bidi: embed;\n",
              "    white-space: pre-wrap;\n",
              "    word-wrap: break-word;\n",
              "    word-break: break-all;\n",
              "    font-family: \"Source Code Pro\", \"Menlo\", monospace;;\n",
              "    font-size: 13px;\n",
              "    color: #555;\n",
              "    margin-left: 4px;\n",
              "    line-height: 19px;\n",
              "  }\n",
              "</style>\n",
              "<div class=\"ansiout\"></div>"
            ]
          },
          "metadata": {
            "tags": [],
            "application/vnd.databricks.v1+output": {
              "datasetInfos": [],
              "data": "<div class=\"ansiout\"></div>",
              "removedWidgets": [],
              "addedWidgets": {},
              "type": "html",
              "arguments": {}
            }
          }
        }
      ]
    },
    {
      "cell_type": "code",
      "metadata": {
        "application/vnd.databricks.v1+cell": {
          "title": "",
          "showTitle": false,
          "inputWidgets": {},
          "nuid": "aff6ebbc-823c-455a-b714-cc248797f598"
        },
        "id": "tFCxxYy7oxDU",
        "outputId": "e80b71ca-4e45-4883-a5a1-1e6ac682b90e"
      },
      "source": [
        "#define a transformação para a variável \"gender\"\n",
        "stringIndexer_gender=StringIndexer(inputCol=\"gender\", outputCol=\"gender_encoded\")  #label encoding\n",
        "encoder_gender = OneHotEncoder(dropLast=False, inputCol=\"gender_encoded\", outputCol=\"genderVec\") #one-hot encoding"
      ],
      "execution_count": null,
      "outputs": [
        {
          "output_type": "display_data",
          "data": {
            "text/html": [
              "<style scoped>\n",
              "  .ansiout {\n",
              "    display: block;\n",
              "    unicode-bidi: embed;\n",
              "    white-space: pre-wrap;\n",
              "    word-wrap: break-word;\n",
              "    word-break: break-all;\n",
              "    font-family: \"Source Code Pro\", \"Menlo\", monospace;;\n",
              "    font-size: 13px;\n",
              "    color: #555;\n",
              "    margin-left: 4px;\n",
              "    line-height: 19px;\n",
              "  }\n",
              "</style>\n",
              "<div class=\"ansiout\"></div>"
            ]
          },
          "metadata": {
            "tags": [],
            "application/vnd.databricks.v1+output": {
              "datasetInfos": [],
              "data": "<div class=\"ansiout\"></div>",
              "removedWidgets": [],
              "addedWidgets": {},
              "type": "html",
              "arguments": {}
            }
          }
        }
      ]
    },
    {
      "cell_type": "code",
      "metadata": {
        "application/vnd.databricks.v1+cell": {
          "title": "",
          "showTitle": false,
          "inputWidgets": {},
          "nuid": "2b39d347-c294-463a-87d2-3f5f57be4d36"
        },
        "id": "TDtTKLJ1oxDU",
        "outputId": "a19c73ee-b691-4d70-e279-aa9cc369ce68"
      },
      "source": [
        "#define a transformação para a variável \"ever_married\"\n",
        "stringIndexer_married=StringIndexer(inputCol=\"ever_married\", outputCol=\"ever_married_encoded\") #label encoding\n",
        "encoder_married = OneHotEncoder(dropLast=False, inputCol=\"ever_married_encoded\", outputCol=\"marriedVec\") #one-hot encoding"
      ],
      "execution_count": null,
      "outputs": [
        {
          "output_type": "display_data",
          "data": {
            "text/html": [
              "<style scoped>\n",
              "  .ansiout {\n",
              "    display: block;\n",
              "    unicode-bidi: embed;\n",
              "    white-space: pre-wrap;\n",
              "    word-wrap: break-word;\n",
              "    word-break: break-all;\n",
              "    font-family: \"Source Code Pro\", \"Menlo\", monospace;;\n",
              "    font-size: 13px;\n",
              "    color: #555;\n",
              "    margin-left: 4px;\n",
              "    line-height: 19px;\n",
              "  }\n",
              "</style>\n",
              "<div class=\"ansiout\"></div>"
            ]
          },
          "metadata": {
            "tags": [],
            "application/vnd.databricks.v1+output": {
              "datasetInfos": [],
              "data": "<div class=\"ansiout\"></div>",
              "removedWidgets": [],
              "addedWidgets": {},
              "type": "html",
              "arguments": {}
            }
          }
        }
      ]
    },
    {
      "cell_type": "code",
      "metadata": {
        "application/vnd.databricks.v1+cell": {
          "title": "",
          "showTitle": false,
          "inputWidgets": {},
          "nuid": "58e6827e-0621-4ae6-9fa6-54e77760644b"
        },
        "id": "RAlW83nOoxDU",
        "outputId": "a0ba8058-db8d-4a9d-b4f2-97fc2f9afd33"
      },
      "source": [
        "#define a transformação para a variável \"work_type\"\n",
        "stringIndexer_work=StringIndexer(inputCol=\"work_type\", outputCol=\"work_type_encoded\")  #label encoding\n",
        "encoder_work = OneHotEncoder(dropLast=False, inputCol=\"work_type_encoded\", outputCol=\"workVec\") #one-hot encoding"
      ],
      "execution_count": null,
      "outputs": [
        {
          "output_type": "display_data",
          "data": {
            "text/html": [
              "<style scoped>\n",
              "  .ansiout {\n",
              "    display: block;\n",
              "    unicode-bidi: embed;\n",
              "    white-space: pre-wrap;\n",
              "    word-wrap: break-word;\n",
              "    word-break: break-all;\n",
              "    font-family: \"Source Code Pro\", \"Menlo\", monospace;;\n",
              "    font-size: 13px;\n",
              "    color: #555;\n",
              "    margin-left: 4px;\n",
              "    line-height: 19px;\n",
              "  }\n",
              "</style>\n",
              "<div class=\"ansiout\"></div>"
            ]
          },
          "metadata": {
            "tags": [],
            "application/vnd.databricks.v1+output": {
              "datasetInfos": [],
              "data": "<div class=\"ansiout\"></div>",
              "removedWidgets": [],
              "addedWidgets": {},
              "type": "html",
              "arguments": {}
            }
          }
        }
      ]
    },
    {
      "cell_type": "code",
      "metadata": {
        "application/vnd.databricks.v1+cell": {
          "title": "",
          "showTitle": false,
          "inputWidgets": {},
          "nuid": "be82c186-ab57-456e-8211-e7e709fe0529"
        },
        "id": "MsxbXvOroxDU",
        "outputId": "d61a47a1-f1bd-48f6-9712-341f12bff0a2"
      },
      "source": [
        "#define a transformação para a variável \"Residence_type\"\n",
        "stringIndexer_residence=StringIndexer(inputCol=\"Residence_type\", outputCol=\"Residence_type_encoded\")  #label encoding\n",
        "encoder_residence = OneHotEncoder(dropLast=False, inputCol=\"Residence_type_encoded\", outputCol=\"residenceVec\") #one-hot encoding"
      ],
      "execution_count": null,
      "outputs": [
        {
          "output_type": "display_data",
          "data": {
            "text/html": [
              "<style scoped>\n",
              "  .ansiout {\n",
              "    display: block;\n",
              "    unicode-bidi: embed;\n",
              "    white-space: pre-wrap;\n",
              "    word-wrap: break-word;\n",
              "    word-break: break-all;\n",
              "    font-family: \"Source Code Pro\", \"Menlo\", monospace;;\n",
              "    font-size: 13px;\n",
              "    color: #555;\n",
              "    margin-left: 4px;\n",
              "    line-height: 19px;\n",
              "  }\n",
              "</style>\n",
              "<div class=\"ansiout\"></div>"
            ]
          },
          "metadata": {
            "tags": [],
            "application/vnd.databricks.v1+output": {
              "datasetInfos": [],
              "data": "<style scoped>\n  .ansiout {\n    display: block;\n    unicode-bidi: embed;\n    white-space: pre-wrap;\n    word-wrap: break-word;\n    word-break: break-all;\n    font-family: \"Source Code Pro\", \"Menlo\", monospace;;\n    font-size: 13px;\n    color: #555;\n    margin-left: 4px;\n    line-height: 19px;\n  }\n</style>\n<div class=\"ansiout\"></div>",
              "textData": null,
              "removedWidgets": [],
              "addedWidgets": {},
              "type": "htmlSandbox",
              "arguments": {}
            }
          }
        }
      ]
    },
    {
      "cell_type": "code",
      "metadata": {
        "application/vnd.databricks.v1+cell": {
          "title": "",
          "showTitle": false,
          "inputWidgets": {},
          "nuid": "617bad11-9f58-4dda-8065-66186e7c6313"
        },
        "id": "8l8FWxs3oxDU",
        "outputId": "8e62379a-9669-47d8-d8ce-8f4f8c4d47a7"
      },
      "source": [
        "#define a transformação para a variável \"smoking_status\"\n",
        "stringIndexer_smoking=StringIndexer(inputCol=\"smoking_status\", outputCol=\"smoking_status_encoded\")  #define o objeto\n",
        "encoder_smoking = OneHotEncoder(dropLast=False, inputCol=\"smoking_status_encoded\", outputCol=\"smokingVec\")#one-hot encoding"
      ],
      "execution_count": null,
      "outputs": [
        {
          "output_type": "display_data",
          "data": {
            "text/html": [
              "<style scoped>\n",
              "  .ansiout {\n",
              "    display: block;\n",
              "    unicode-bidi: embed;\n",
              "    white-space: pre-wrap;\n",
              "    word-wrap: break-word;\n",
              "    word-break: break-all;\n",
              "    font-family: \"Source Code Pro\", \"Menlo\", monospace;;\n",
              "    font-size: 13px;\n",
              "    color: #555;\n",
              "    margin-left: 4px;\n",
              "    line-height: 19px;\n",
              "  }\n",
              "</style>\n",
              "<div class=\"ansiout\"></div>"
            ]
          },
          "metadata": {
            "tags": [],
            "application/vnd.databricks.v1+output": {
              "datasetInfos": [],
              "data": "<style scoped>\n  .ansiout {\n    display: block;\n    unicode-bidi: embed;\n    white-space: pre-wrap;\n    word-wrap: break-word;\n    word-break: break-all;\n    font-family: \"Source Code Pro\", \"Menlo\", monospace;;\n    font-size: 13px;\n    color: #555;\n    margin-left: 4px;\n    line-height: 19px;\n  }\n</style>\n<div class=\"ansiout\"></div>",
              "textData": null,
              "removedWidgets": [],
              "addedWidgets": {},
              "type": "htmlSandbox",
              "arguments": {}
            }
          }
        }
      ]
    },
    {
      "cell_type": "code",
      "metadata": {
        "application/vnd.databricks.v1+cell": {
          "title": "",
          "showTitle": false,
          "inputWidgets": {},
          "nuid": "9be6b99e-de17-444d-973e-fd42d908b9e2"
        },
        "id": "lnMQKQCPoxDU",
        "outputId": "81a935b9-1599-420a-81c5-338a01c0268e"
      },
      "source": [
        "#define a construção do vetor de entrada\n",
        "colunas_entrada=['age','hypertension', 'heart_disease','avg_glucose_level','genderVec','marriedVec','workVec','residenceVec','smokingVec']\n",
        "vetor_entrada = VectorAssembler(inputCols=colunas_entrada,outputCol='features')"
      ],
      "execution_count": null,
      "outputs": [
        {
          "output_type": "display_data",
          "data": {
            "text/html": [
              "<style scoped>\n",
              "  .ansiout {\n",
              "    display: block;\n",
              "    unicode-bidi: embed;\n",
              "    white-space: pre-wrap;\n",
              "    word-wrap: break-word;\n",
              "    word-break: break-all;\n",
              "    font-family: \"Source Code Pro\", \"Menlo\", monospace;;\n",
              "    font-size: 13px;\n",
              "    color: #555;\n",
              "    margin-left: 4px;\n",
              "    line-height: 19px;\n",
              "  }\n",
              "</style>\n",
              "<div class=\"ansiout\"></div>"
            ]
          },
          "metadata": {
            "tags": [],
            "application/vnd.databricks.v1+output": {
              "datasetInfos": [],
              "data": "<style scoped>\n  .ansiout {\n    display: block;\n    unicode-bidi: embed;\n    white-space: pre-wrap;\n    word-wrap: break-word;\n    word-break: break-all;\n    font-family: \"Source Code Pro\", \"Menlo\", monospace;;\n    font-size: 13px;\n    color: #555;\n    margin-left: 4px;\n    line-height: 19px;\n  }\n</style>\n<div class=\"ansiout\"></div>",
              "textData": null,
              "removedWidgets": [],
              "addedWidgets": {},
              "type": "htmlSandbox",
              "arguments": {}
            }
          }
        }
      ]
    },
    {
      "cell_type": "code",
      "metadata": {
        "application/vnd.databricks.v1+cell": {
          "title": "",
          "showTitle": false,
          "inputWidgets": {},
          "nuid": "6dabbf9a-4284-4799-9c9a-321997cbaf99"
        },
        "id": "43KQYA_xoxDU",
        "outputId": "d08a9372-edc2-4b94-ecab-e16b26df2a60"
      },
      "source": [
        "#define a sequencia de transformações para o pipeline\n",
        "sequencia_transformacoes=[stringIndexer_gender,stringIndexer_married,stringIndexer_work,stringIndexer_residence,stringIndexer_smoking,encoder_gender,encoder_married,encoder_work,encoder_residence,encoder_smoking,vetor_entrada]"
      ],
      "execution_count": null,
      "outputs": [
        {
          "output_type": "display_data",
          "data": {
            "text/html": [
              "<style scoped>\n",
              "  .ansiout {\n",
              "    display: block;\n",
              "    unicode-bidi: embed;\n",
              "    white-space: pre-wrap;\n",
              "    word-wrap: break-word;\n",
              "    word-break: break-all;\n",
              "    font-family: \"Source Code Pro\", \"Menlo\", monospace;;\n",
              "    font-size: 13px;\n",
              "    color: #555;\n",
              "    margin-left: 4px;\n",
              "    line-height: 19px;\n",
              "  }\n",
              "</style>\n",
              "<div class=\"ansiout\"></div>"
            ]
          },
          "metadata": {
            "tags": [],
            "application/vnd.databricks.v1+output": {
              "datasetInfos": [],
              "data": "<style scoped>\n  .ansiout {\n    display: block;\n    unicode-bidi: embed;\n    white-space: pre-wrap;\n    word-wrap: break-word;\n    word-break: break-all;\n    font-family: \"Source Code Pro\", \"Menlo\", monospace;;\n    font-size: 13px;\n    color: #555;\n    margin-left: 4px;\n    line-height: 19px;\n  }\n</style>\n<div class=\"ansiout\"></div>",
              "textData": null,
              "removedWidgets": [],
              "addedWidgets": {},
              "type": "htmlSandbox",
              "arguments": {}
            }
          }
        }
      ]
    },
    {
      "cell_type": "code",
      "metadata": {
        "application/vnd.databricks.v1+cell": {
          "title": "",
          "showTitle": false,
          "inputWidgets": {},
          "nuid": "1d68a5df-c047-46b8-b57d-5d70004715d1"
        },
        "id": "dq_kjzbToxDV",
        "outputId": "dd39db35-5c58-45ef-833c-b7c7ef37b194"
      },
      "source": [
        "from pyspark.ml import Pipeline\n",
        "# Aplicando o pipeline\n",
        "pipeline = Pipeline(stages=sequencia_transformacoes)\n",
        "pipelineModel = pipeline.fit(dataset_filtrado)\n",
        "model = pipelineModel.transform(dataset_filtrado)"
      ],
      "execution_count": null,
      "outputs": [
        {
          "output_type": "display_data",
          "data": {
            "text/html": [
              "<style scoped>\n",
              "  .ansiout {\n",
              "    display: block;\n",
              "    unicode-bidi: embed;\n",
              "    white-space: pre-wrap;\n",
              "    word-wrap: break-word;\n",
              "    word-break: break-all;\n",
              "    font-family: \"Source Code Pro\", \"Menlo\", monospace;;\n",
              "    font-size: 13px;\n",
              "    color: #555;\n",
              "    margin-left: 4px;\n",
              "    line-height: 19px;\n",
              "  }\n",
              "</style>\n",
              "<div class=\"ansiout\"></div>"
            ]
          },
          "metadata": {
            "tags": [],
            "application/vnd.databricks.v1+output": {
              "datasetInfos": [],
              "data": "<style scoped>\n  .ansiout {\n    display: block;\n    unicode-bidi: embed;\n    white-space: pre-wrap;\n    word-wrap: break-word;\n    word-break: break-all;\n    font-family: \"Source Code Pro\", \"Menlo\", monospace;;\n    font-size: 13px;\n    color: #555;\n    margin-left: 4px;\n    line-height: 19px;\n  }\n</style>\n<div class=\"ansiout\"></div>",
              "textData": null,
              "removedWidgets": [],
              "addedWidgets": {},
              "type": "htmlSandbox",
              "arguments": {}
            }
          }
        }
      ]
    },
    {
      "cell_type": "code",
      "metadata": {
        "application/vnd.databricks.v1+cell": {
          "title": "",
          "showTitle": false,
          "inputWidgets": {},
          "nuid": "6f74c813-f79b-45ea-8645-b70c9173a274"
        },
        "id": "O2gA-qtDoxDV",
        "outputId": "ee84ddf4-3345-4421-fcdc-ff16b71ee80c"
      },
      "source": [
        "#mostrando parte dos dados para entrada\n",
        "model.select('age','gender','genderVec','ever_married','marriedVec','features').show()"
      ],
      "execution_count": null,
      "outputs": [
        {
          "output_type": "display_data",
          "data": {
            "text/html": [
              "<style scoped>\n",
              "  .ansiout {\n",
              "    display: block;\n",
              "    unicode-bidi: embed;\n",
              "    white-space: pre-wrap;\n",
              "    word-wrap: break-word;\n",
              "    word-break: break-all;\n",
              "    font-family: \"Source Code Pro\", \"Menlo\", monospace;;\n",
              "    font-size: 13px;\n",
              "    color: #555;\n",
              "    margin-left: 4px;\n",
              "    line-height: 19px;\n",
              "  }\n",
              "</style>\n",
              "<div class=\"ansiout\">+----+------+-------------+------------+-------------+--------------------+\n",
              " age|gender|    genderVec|ever_married|   marriedVec|            features|\n",
              "+----+------+-------------+------------+-------------+--------------------+\n",
              "67.0|  Male|(3,[1],[1.0])|         Yes|(2,[0],[1.0])|(19,[0,2,3,5,7,9,...|\n",
              "80.0|  Male|(3,[1],[1.0])|         Yes|(2,[0],[1.0])|(19,[0,2,3,5,7,9,...|\n",
              "49.0|Female|(3,[0],[1.0])|         Yes|(2,[0],[1.0])|(19,[0,3,4,7,9,14...|\n",
              "79.0|Female|(3,[0],[1.0])|         Yes|(2,[0],[1.0])|(19,[0,1,3,4,7,10...|\n",
              "81.0|  Male|(3,[1],[1.0])|         Yes|(2,[0],[1.0])|(19,[0,3,5,7,9,14...|\n",
              "74.0|  Male|(3,[1],[1.0])|         Yes|(2,[0],[1.0])|(19,[0,1,2,3,5,7,...|\n",
              "69.0|Female|(3,[0],[1.0])|          No|(2,[1],[1.0])|(19,[0,3,4,8,9,14...|\n",
              "81.0|Female|(3,[0],[1.0])|         Yes|(2,[0],[1.0])|(19,[0,1,3,4,7,9,...|\n",
              "61.0|Female|(3,[0],[1.0])|         Yes|(2,[0],[1.0])|(19,[0,2,3,4,7,11...|\n",
              "54.0|Female|(3,[0],[1.0])|         Yes|(2,[0],[1.0])|(19,[0,3,4,7,9,14...|\n",
              "79.0|Female|(3,[0],[1.0])|         Yes|(2,[0],[1.0])|(19,[0,2,3,4,7,9,...|\n",
              "50.0|Female|(3,[0],[1.0])|         Yes|(2,[0],[1.0])|(19,[0,1,3,4,7,10...|\n",
              "64.0|  Male|(3,[1],[1.0])|         Yes|(2,[0],[1.0])|(19,[0,2,3,5,7,9,...|\n",
              "75.0|  Male|(3,[1],[1.0])|         Yes|(2,[0],[1.0])|(19,[0,1,3,5,7,9,...|\n",
              "60.0|Female|(3,[0],[1.0])|          No|(2,[1],[1.0])|(19,[0,3,4,8,9,14...|\n",
              "71.0|Female|(3,[0],[1.0])|         Yes|(2,[0],[1.0])|(19,[0,3,4,7,11,1...|\n",
              "52.0|Female|(3,[0],[1.0])|         Yes|(2,[0],[1.0])|(19,[0,1,3,4,7,10...|\n",
              "79.0|Female|(3,[0],[1.0])|         Yes|(2,[0],[1.0])|(19,[0,3,4,7,10,1...|\n",
              "71.0|  Male|(3,[1],[1.0])|         Yes|(2,[0],[1.0])|(19,[0,3,5,7,9,14...|\n",
              "80.0|  Male|(3,[1],[1.0])|         Yes|(2,[0],[1.0])|(19,[0,3,5,7,10,1...|\n",
              "+----+------+-------------+------------+-------------+--------------------+\n",
              "only showing top 20 rows\n",
              "\n",
              "</div>"
            ]
          },
          "metadata": {
            "tags": [],
            "application/vnd.databricks.v1+output": {
              "datasetInfos": [],
              "data": "<style scoped>\n  .ansiout {\n    display: block;\n    unicode-bidi: embed;\n    white-space: pre-wrap;\n    word-wrap: break-word;\n    word-break: break-all;\n    font-family: \"Source Code Pro\", \"Menlo\", monospace;;\n    font-size: 13px;\n    color: #555;\n    margin-left: 4px;\n    line-height: 19px;\n  }\n</style>\n<div class=\"ansiout\">+----+------+-------------+------------+-------------+--------------------+\n age|gender|    genderVec|ever_married|   marriedVec|            features|\n+----+------+-------------+------------+-------------+--------------------+\n67.0|  Male|(3,[1],[1.0])|         Yes|(2,[0],[1.0])|(19,[0,2,3,5,7,9,...|\n80.0|  Male|(3,[1],[1.0])|         Yes|(2,[0],[1.0])|(19,[0,2,3,5,7,9,...|\n49.0|Female|(3,[0],[1.0])|         Yes|(2,[0],[1.0])|(19,[0,3,4,7,9,14...|\n79.0|Female|(3,[0],[1.0])|         Yes|(2,[0],[1.0])|(19,[0,1,3,4,7,10...|\n81.0|  Male|(3,[1],[1.0])|         Yes|(2,[0],[1.0])|(19,[0,3,5,7,9,14...|\n74.0|  Male|(3,[1],[1.0])|         Yes|(2,[0],[1.0])|(19,[0,1,2,3,5,7,...|\n69.0|Female|(3,[0],[1.0])|          No|(2,[1],[1.0])|(19,[0,3,4,8,9,14...|\n81.0|Female|(3,[0],[1.0])|         Yes|(2,[0],[1.0])|(19,[0,1,3,4,7,9,...|\n61.0|Female|(3,[0],[1.0])|         Yes|(2,[0],[1.0])|(19,[0,2,3,4,7,11...|\n54.0|Female|(3,[0],[1.0])|         Yes|(2,[0],[1.0])|(19,[0,3,4,7,9,14...|\n79.0|Female|(3,[0],[1.0])|         Yes|(2,[0],[1.0])|(19,[0,2,3,4,7,9,...|\n50.0|Female|(3,[0],[1.0])|         Yes|(2,[0],[1.0])|(19,[0,1,3,4,7,10...|\n64.0|  Male|(3,[1],[1.0])|         Yes|(2,[0],[1.0])|(19,[0,2,3,5,7,9,...|\n75.0|  Male|(3,[1],[1.0])|         Yes|(2,[0],[1.0])|(19,[0,1,3,5,7,9,...|\n60.0|Female|(3,[0],[1.0])|          No|(2,[1],[1.0])|(19,[0,3,4,8,9,14...|\n71.0|Female|(3,[0],[1.0])|         Yes|(2,[0],[1.0])|(19,[0,3,4,7,11,1...|\n52.0|Female|(3,[0],[1.0])|         Yes|(2,[0],[1.0])|(19,[0,1,3,4,7,10...|\n79.0|Female|(3,[0],[1.0])|         Yes|(2,[0],[1.0])|(19,[0,3,4,7,10,1...|\n71.0|  Male|(3,[1],[1.0])|         Yes|(2,[0],[1.0])|(19,[0,3,5,7,9,14...|\n80.0|  Male|(3,[1],[1.0])|         Yes|(2,[0],[1.0])|(19,[0,3,5,7,10,1...|\n+----+------+-------------+------------+-------------+--------------------+\nonly showing top 20 rows\n\n</div>",
              "textData": null,
              "removedWidgets": [],
              "addedWidgets": {},
              "type": "htmlSandbox",
              "arguments": {}
            }
          }
        }
      ]
    },
    {
      "cell_type": "code",
      "metadata": {
        "application/vnd.databricks.v1+cell": {
          "title": "",
          "showTitle": false,
          "inputWidgets": {},
          "nuid": "f0a534f1-4b2e-4e7c-a5dc-0cc524f64dcd"
        },
        "id": "XiAWsI9ooxDV"
      },
      "source": [
        "#dividindo o dataset entre teste e treinamento\n",
        "train_data, test_data = model.randomSplit([.8,.2],seed=1)"
      ],
      "execution_count": null,
      "outputs": []
    },
    {
      "cell_type": "code",
      "metadata": {
        "application/vnd.databricks.v1+cell": {
          "title": "",
          "showTitle": false,
          "inputWidgets": {},
          "nuid": "931d92d1-21ed-4e84-a954-0a60cb947427"
        },
        "id": "bM8bEWraoxDV",
        "outputId": "286754a7-d95f-4b77-b48a-32971daad920"
      },
      "source": [
        "#mostrando os dados de treinamento\n",
        "train_data.columns"
      ],
      "execution_count": null,
      "outputs": [
        {
          "output_type": "display_data",
          "data": {
            "text/html": [
              "<style scoped>\n",
              "  .ansiout {\n",
              "    display: block;\n",
              "    unicode-bidi: embed;\n",
              "    white-space: pre-wrap;\n",
              "    word-wrap: break-word;\n",
              "    word-break: break-all;\n",
              "    font-family: \"Source Code Pro\", \"Menlo\", monospace;;\n",
              "    font-size: 13px;\n",
              "    color: #555;\n",
              "    margin-left: 4px;\n",
              "    line-height: 19px;\n",
              "  }\n",
              "</style>\n",
              "<div class=\"ansiout\">Out[132]: [&#39;id&#39;,\n",
              " &#39;gender&#39;,\n",
              " &#39;age&#39;,\n",
              " &#39;hypertension&#39;,\n",
              " &#39;heart_disease&#39;,\n",
              " &#39;ever_married&#39;,\n",
              " &#39;work_type&#39;,\n",
              " &#39;Residence_type&#39;,\n",
              " &#39;avg_glucose_level&#39;,\n",
              " &#39;bmi&#39;,\n",
              " &#39;smoking_status&#39;,\n",
              " &#39;stroke&#39;,\n",
              " &#39;gender_encoded&#39;,\n",
              " &#39;ever_married_encoded&#39;,\n",
              " &#39;work_type_encoded&#39;,\n",
              " &#39;Residence_type_encoded&#39;,\n",
              " &#39;smoking_status_encoded&#39;,\n",
              " &#39;genderVec&#39;,\n",
              " &#39;marriedVec&#39;,\n",
              " &#39;workVec&#39;,\n",
              " &#39;residenceVec&#39;,\n",
              " &#39;smokingVec&#39;,\n",
              " &#39;features&#39;]</div>"
            ]
          },
          "metadata": {
            "tags": [],
            "application/vnd.databricks.v1+output": {
              "datasetInfos": [],
              "data": "<style scoped>\n  .ansiout {\n    display: block;\n    unicode-bidi: embed;\n    white-space: pre-wrap;\n    word-wrap: break-word;\n    word-break: break-all;\n    font-family: \"Source Code Pro\", \"Menlo\", monospace;;\n    font-size: 13px;\n    color: #555;\n    margin-left: 4px;\n    line-height: 19px;\n  }\n</style>\n<div class=\"ansiout\">Out[132]: [&#39;id&#39;,\n &#39;gender&#39;,\n &#39;age&#39;,\n &#39;hypertension&#39;,\n &#39;heart_disease&#39;,\n &#39;ever_married&#39;,\n &#39;work_type&#39;,\n &#39;Residence_type&#39;,\n &#39;avg_glucose_level&#39;,\n &#39;bmi&#39;,\n &#39;smoking_status&#39;,\n &#39;stroke&#39;,\n &#39;gender_encoded&#39;,\n &#39;ever_married_encoded&#39;,\n &#39;work_type_encoded&#39;,\n &#39;Residence_type_encoded&#39;,\n &#39;smoking_status_encoded&#39;,\n &#39;genderVec&#39;,\n &#39;marriedVec&#39;,\n &#39;workVec&#39;,\n &#39;residenceVec&#39;,\n &#39;smokingVec&#39;,\n &#39;features&#39;]</div>",
              "textData": null,
              "removedWidgets": [],
              "addedWidgets": {},
              "type": "htmlSandbox",
              "arguments": {}
            }
          }
        }
      ]
    },
    {
      "cell_type": "markdown",
      "metadata": {
        "application/vnd.databricks.v1+cell": {
          "title": "",
          "showTitle": false,
          "inputWidgets": {},
          "nuid": "7abf8082-820c-4783-9fd0-6cf49c4eb104"
        },
        "id": "zatRnnTloxDV"
      },
      "source": [
        "###**Previsão através de Regressão Logística**"
      ]
    },
    {
      "cell_type": "code",
      "metadata": {
        "application/vnd.databricks.v1+cell": {
          "title": "",
          "showTitle": false,
          "inputWidgets": {},
          "nuid": "83b9291e-17f5-488d-b55e-0de2e38ee5ca"
        },
        "id": "fSQ9j2dAoxDV",
        "outputId": "cf26d10b-f866-4b2c-f1d2-c6a26eacef70"
      },
      "source": [
        "#define o modelo de regrssão logística\n",
        "from pyspark.ml.classification import LogisticRegression\n",
        "\n",
        "#instancia o objeto para a regressão logística\n",
        "lr = LogisticRegression(labelCol=\"stroke\",featuresCol=\"features\", maxIter=100, regParam=0.3, )\n",
        "\n",
        "# treina o modelo\n",
        "linearModel = lr.fit(train_data)"
      ],
      "execution_count": null,
      "outputs": [
        {
          "output_type": "display_data",
          "data": {
            "text/html": [
              "<style scoped>\n",
              "  .ansiout {\n",
              "    display: block;\n",
              "    unicode-bidi: embed;\n",
              "    white-space: pre-wrap;\n",
              "    word-wrap: break-word;\n",
              "    word-break: break-all;\n",
              "    font-family: \"Source Code Pro\", \"Menlo\", monospace;;\n",
              "    font-size: 13px;\n",
              "    color: #555;\n",
              "    margin-left: 4px;\n",
              "    line-height: 19px;\n",
              "  }\n",
              "</style>\n",
              "<div class=\"ansiout\"></div>"
            ]
          },
          "metadata": {
            "tags": [],
            "application/vnd.databricks.v1+output": {
              "datasetInfos": [],
              "data": "<style scoped>\n  .ansiout {\n    display: block;\n    unicode-bidi: embed;\n    white-space: pre-wrap;\n    word-wrap: break-word;\n    word-break: break-all;\n    font-family: \"Source Code Pro\", \"Menlo\", monospace;;\n    font-size: 13px;\n    color: #555;\n    margin-left: 4px;\n    line-height: 19px;\n  }\n</style>\n<div class=\"ansiout\"></div>",
              "textData": null,
              "removedWidgets": [],
              "addedWidgets": {},
              "type": "htmlSandbox",
              "arguments": {}
            }
          }
        }
      ]
    },
    {
      "cell_type": "code",
      "metadata": {
        "application/vnd.databricks.v1+cell": {
          "title": "",
          "showTitle": false,
          "inputWidgets": {},
          "nuid": "63945beb-5f49-482c-88dc-3f51733de223"
        },
        "id": "42X8FmpLoxDV",
        "outputId": "66e39ce2-b319-498c-811f-ef7a93bb7853"
      },
      "source": [
        "#realiza a previsão utilizando o modelo de regressão logística\n",
        "previsao_regressao = linearModel.transform(test_data)"
      ],
      "execution_count": null,
      "outputs": [
        {
          "output_type": "display_data",
          "data": {
            "text/html": [
              "<style scoped>\n",
              "  .ansiout {\n",
              "    display: block;\n",
              "    unicode-bidi: embed;\n",
              "    white-space: pre-wrap;\n",
              "    word-wrap: break-word;\n",
              "    word-break: break-all;\n",
              "    font-family: \"Source Code Pro\", \"Menlo\", monospace;;\n",
              "    font-size: 13px;\n",
              "    color: #555;\n",
              "    margin-left: 4px;\n",
              "    line-height: 19px;\n",
              "  }\n",
              "</style>\n",
              "<div class=\"ansiout\"></div>"
            ]
          },
          "metadata": {
            "tags": [],
            "application/vnd.databricks.v1+output": {
              "datasetInfos": [],
              "data": "<style scoped>\n  .ansiout {\n    display: block;\n    unicode-bidi: embed;\n    white-space: pre-wrap;\n    word-wrap: break-word;\n    word-break: break-all;\n    font-family: \"Source Code Pro\", \"Menlo\", monospace;;\n    font-size: 13px;\n    color: #555;\n    margin-left: 4px;\n    line-height: 19px;\n  }\n</style>\n<div class=\"ansiout\"></div>",
              "textData": null,
              "removedWidgets": [],
              "addedWidgets": {},
              "type": "htmlSandbox",
              "arguments": {}
            }
          }
        }
      ]
    },
    {
      "cell_type": "code",
      "metadata": {
        "application/vnd.databricks.v1+cell": {
          "title": "",
          "showTitle": false,
          "inputWidgets": {},
          "nuid": "5de4ddac-0063-423b-8ba2-8815dfdf4223"
        },
        "id": "Nil5ml4roxDV",
        "outputId": "b41b2187-be73-4841-a37c-69c29a9fe391"
      },
      "source": [
        "#avaliando a classificação realizada pela regressão logística\n",
        "acc_evaluator = MulticlassClassificationEvaluator(labelCol=\"stroke\", predictionCol=\"prediction\", metricName=\"accuracy\")\n",
        "acuracia_regressao = acc_evaluator.evaluate(previsao_regressao)\n",
        "print('Regressão Logística: {0:2.2f}%'.format(acuracia_regressao*100))"
      ],
      "execution_count": null,
      "outputs": [
        {
          "output_type": "display_data",
          "data": {
            "text/html": [
              "<style scoped>\n",
              "  .ansiout {\n",
              "    display: block;\n",
              "    unicode-bidi: embed;\n",
              "    white-space: pre-wrap;\n",
              "    word-wrap: break-word;\n",
              "    word-break: break-all;\n",
              "    font-family: \"Source Code Pro\", \"Menlo\", monospace;;\n",
              "    font-size: 13px;\n",
              "    color: #555;\n",
              "    margin-left: 4px;\n",
              "    line-height: 19px;\n",
              "  }\n",
              "</style>\n",
              "<div class=\"ansiout\">Regressão Logística: 94.52%\n",
              "</div>"
            ]
          },
          "metadata": {
            "tags": [],
            "application/vnd.databricks.v1+output": {
              "datasetInfos": [],
              "data": "<style scoped>\n  .ansiout {\n    display: block;\n    unicode-bidi: embed;\n    white-space: pre-wrap;\n    word-wrap: break-word;\n    word-break: break-all;\n    font-family: \"Source Code Pro\", \"Menlo\", monospace;;\n    font-size: 13px;\n    color: #555;\n    margin-left: 4px;\n    line-height: 19px;\n  }\n</style>\n<div class=\"ansiout\">Regressão Logística: 94.52%\n</div>",
              "textData": null,
              "removedWidgets": [],
              "addedWidgets": {},
              "type": "htmlSandbox",
              "arguments": {}
            }
          }
        }
      ]
    }
  ]
}